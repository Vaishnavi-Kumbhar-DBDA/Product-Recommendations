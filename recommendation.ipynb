{
 "cells": [
  {
   "cell_type": "markdown",
   "id": "f21e6ec6-7722-4f48-b426-d2022d9c9781",
   "metadata": {},
   "source": [
    "### Introduction to Recommendation Systems\n",
    "\n",
    "In today’s data-rich environment, users often struggle to sift through vast amounts of information to find what truly interests them. Recommendation systems were developed to address this challenge, helping users discover relevant products or content based on their preferences and behaviors.\n",
    "\n",
    "These systems establish connections between users and items by analyzing similarities, leveraging these insights to provide personalized recommendations.\n",
    "\n",
    "#### What Can Recommendation Systems Solve?\n",
    "\n",
    "1. **Finding Relevant Products**: They guide users in locating items that match their interests and needs.\n",
    "  \n",
    "2. **Enhancing User Engagement**: Recommendations can significantly boost interaction; for instance, Google News sees a 40% increase in clicks thanks to its recommendation algorithms.\n",
    "\n",
    "3. **Targeted Item Delivery**: They assist providers in presenting the right products to the right users—Amazon reports that 35% of its sales stem from its recommendation engine.\n",
    "\n",
    "4. **Personalizing Content**: Platforms like Netflix attribute a large portion of their rentals to recommendations, making the user experience more tailored and enjoyable."
   ]
  },
  {
   "cell_type": "markdown",
   "id": "b39bd619-70e4-4528-a7ac-2954e0ce4278",
   "metadata": {},
   "source": [
    "### Types of Recommendation Systems\n",
    "\n",
    "Recommendation systems can be categorized into six main types:\n",
    "\n",
    "1. **Popularity-Based Systems**: These systems recommend items that are widely viewed and purchased, focusing on high ratings. They do not offer personalized suggestions.\n",
    "\n",
    "2. **Classification Model-Based**: These systems analyze user features and apply classification algorithms to determine the likelihood of a user’s interest in a product.\n",
    "\n",
    "3. **Content-Based Recommendations**: This approach relies on the attributes of the items themselves rather than user opinions. The idea is that if a user enjoys a particular item, they may also appreciate similar items.\n",
    "\n",
    "4. **Collaborative Filtering**: This method is based on the assumption that users with similar tastes will enjoy similar items. It can be further divided into two types: a) User-User and b) Item-Item.\n",
    "\n",
    "5. **Hybrid Approaches**: These systems integrate multiple recommendation methods, combining collaborative filtering, content-based filtering, and other techniques to enhance accuracy.\n",
    "\n",
    "6. **Association Rule Mining**: This method identifies relationships between items based on their co-occurrence patterns in transactions, helping to reveal insights about customer behavior."
   ]
  },
  {
   "cell_type": "markdown",
   "id": "cdf2bc7c-9da5-475e-b096-50d00a0dddb9",
   "metadata": {},
   "source": [
    "### Import Libraries"
   ]
  },
  {
   "cell_type": "code",
   "execution_count": 1,
   "id": "3a4cfbc7-83da-4c41-b692-feaade13891a",
   "metadata": {},
   "outputs": [],
   "source": [
    "from IPython.core.interactiveshell import InteractiveShell\n",
    "InteractiveShell.ast_node_interactivity = \"all\"\n",
    "import numpy as np\n",
    "import pandas as pd\n",
    "import math\n",
    "import time\n",
    "import matplotlib.pyplot as plt\n",
    "import seaborn as sns\n",
    "from sklearn.metrics.pairwise import cosine_similarity\n",
    "from sklearn.model_selection import train_test_split\n",
    "from sklearn.neighbors import NearestNeighbors\n",
    "import scipy.sparse\n",
    "from scipy.sparse import csr_matrix\n",
    "from scipy.sparse.linalg import svds\n",
    "import warnings; warnings.simplefilter('ignore')\n",
    "import matplotlib.pyplot as plt"
   ]
  },
  {
   "cell_type": "code",
   "execution_count": 2,
   "id": "36524a23-228d-4a84-8b92-4c9157d3abc8",
   "metadata": {},
   "outputs": [],
   "source": [
    "# Import the dataset and give the column names\n",
    "df=pd.read_csv('Reviews.csv')"
   ]
  },
  {
   "cell_type": "code",
   "execution_count": 3,
   "id": "50c8eecf-8f22-44e0-b20e-97a44efa956e",
   "metadata": {},
   "outputs": [
    {
     "data": {
      "text/html": [
       "<div>\n",
       "<style scoped>\n",
       "    .dataframe tbody tr th:only-of-type {\n",
       "        vertical-align: middle;\n",
       "    }\n",
       "\n",
       "    .dataframe tbody tr th {\n",
       "        vertical-align: top;\n",
       "    }\n",
       "\n",
       "    .dataframe thead th {\n",
       "        text-align: right;\n",
       "    }\n",
       "</style>\n",
       "<table border=\"1\" class=\"dataframe\">\n",
       "  <thead>\n",
       "    <tr style=\"text-align: right;\">\n",
       "      <th></th>\n",
       "      <th>Id</th>\n",
       "      <th>ProductId</th>\n",
       "      <th>UserId</th>\n",
       "      <th>ProfileName</th>\n",
       "      <th>HelpfulnessNumerator</th>\n",
       "      <th>HelpfulnessDenominator</th>\n",
       "      <th>Score</th>\n",
       "      <th>Time</th>\n",
       "      <th>Summary</th>\n",
       "      <th>Text</th>\n",
       "    </tr>\n",
       "  </thead>\n",
       "  <tbody>\n",
       "    <tr>\n",
       "      <th>0</th>\n",
       "      <td>1</td>\n",
       "      <td>B001E4KFG0</td>\n",
       "      <td>A3SGXH7AUHU8GW</td>\n",
       "      <td>delmartian</td>\n",
       "      <td>1</td>\n",
       "      <td>1</td>\n",
       "      <td>5</td>\n",
       "      <td>1303862400</td>\n",
       "      <td>Good Quality Dog Food</td>\n",
       "      <td>I have bought several of the Vitality canned d...</td>\n",
       "    </tr>\n",
       "    <tr>\n",
       "      <th>1</th>\n",
       "      <td>2</td>\n",
       "      <td>B00813GRG4</td>\n",
       "      <td>A1D87F6ZCVE5NK</td>\n",
       "      <td>dll pa</td>\n",
       "      <td>0</td>\n",
       "      <td>0</td>\n",
       "      <td>1</td>\n",
       "      <td>1346976000</td>\n",
       "      <td>Not as Advertised</td>\n",
       "      <td>Product arrived labeled as Jumbo Salted Peanut...</td>\n",
       "    </tr>\n",
       "    <tr>\n",
       "      <th>2</th>\n",
       "      <td>3</td>\n",
       "      <td>B000LQOCH0</td>\n",
       "      <td>ABXLMWJIXXAIN</td>\n",
       "      <td>Natalia Corres \"Natalia Corres\"</td>\n",
       "      <td>1</td>\n",
       "      <td>1</td>\n",
       "      <td>4</td>\n",
       "      <td>1219017600</td>\n",
       "      <td>\"Delight\" says it all</td>\n",
       "      <td>This is a confection that has been around a fe...</td>\n",
       "    </tr>\n",
       "    <tr>\n",
       "      <th>3</th>\n",
       "      <td>4</td>\n",
       "      <td>B000UA0QIQ</td>\n",
       "      <td>A395BORC6FGVXV</td>\n",
       "      <td>Karl</td>\n",
       "      <td>3</td>\n",
       "      <td>3</td>\n",
       "      <td>2</td>\n",
       "      <td>1307923200</td>\n",
       "      <td>Cough Medicine</td>\n",
       "      <td>If you are looking for the secret ingredient i...</td>\n",
       "    </tr>\n",
       "    <tr>\n",
       "      <th>4</th>\n",
       "      <td>5</td>\n",
       "      <td>B006K2ZZ7K</td>\n",
       "      <td>A1UQRSCLF8GW1T</td>\n",
       "      <td>Michael D. Bigham \"M. Wassir\"</td>\n",
       "      <td>0</td>\n",
       "      <td>0</td>\n",
       "      <td>5</td>\n",
       "      <td>1350777600</td>\n",
       "      <td>Great taffy</td>\n",
       "      <td>Great taffy at a great price.  There was a wid...</td>\n",
       "    </tr>\n",
       "  </tbody>\n",
       "</table>\n",
       "</div>"
      ],
      "text/plain": [
       "   Id   ProductId          UserId                      ProfileName  \\\n",
       "0   1  B001E4KFG0  A3SGXH7AUHU8GW                       delmartian   \n",
       "1   2  B00813GRG4  A1D87F6ZCVE5NK                           dll pa   \n",
       "2   3  B000LQOCH0   ABXLMWJIXXAIN  Natalia Corres \"Natalia Corres\"   \n",
       "3   4  B000UA0QIQ  A395BORC6FGVXV                             Karl   \n",
       "4   5  B006K2ZZ7K  A1UQRSCLF8GW1T    Michael D. Bigham \"M. Wassir\"   \n",
       "\n",
       "   HelpfulnessNumerator  HelpfulnessDenominator  Score        Time  \\\n",
       "0                     1                       1      5  1303862400   \n",
       "1                     0                       0      1  1346976000   \n",
       "2                     1                       1      4  1219017600   \n",
       "3                     3                       3      2  1307923200   \n",
       "4                     0                       0      5  1350777600   \n",
       "\n",
       "                 Summary                                               Text  \n",
       "0  Good Quality Dog Food  I have bought several of the Vitality canned d...  \n",
       "1      Not as Advertised  Product arrived labeled as Jumbo Salted Peanut...  \n",
       "2  \"Delight\" says it all  This is a confection that has been around a fe...  \n",
       "3         Cough Medicine  If you are looking for the secret ingredient i...  \n",
       "4            Great taffy  Great taffy at a great price.  There was a wid...  "
      ]
     },
     "execution_count": 3,
     "metadata": {},
     "output_type": "execute_result"
    }
   ],
   "source": [
    "df.head()"
   ]
  },
  {
   "cell_type": "code",
   "execution_count": 4,
   "id": "18bcc1bd-3e65-4b86-bd74-ee32db0c0073",
   "metadata": {},
   "outputs": [
    {
     "name": "stdout",
     "output_type": "stream",
     "text": [
      "<class 'pandas.core.frame.DataFrame'>\n",
      "RangeIndex: 568454 entries, 0 to 568453\n",
      "Data columns (total 10 columns):\n",
      " #   Column                  Non-Null Count   Dtype \n",
      "---  ------                  --------------   ----- \n",
      " 0   Id                      568454 non-null  int64 \n",
      " 1   ProductId               568454 non-null  object\n",
      " 2   UserId                  568454 non-null  object\n",
      " 3   ProfileName             568428 non-null  object\n",
      " 4   HelpfulnessNumerator    568454 non-null  int64 \n",
      " 5   HelpfulnessDenominator  568454 non-null  int64 \n",
      " 6   Score                   568454 non-null  int64 \n",
      " 7   Time                    568454 non-null  int64 \n",
      " 8   Summary                 568427 non-null  object\n",
      " 9   Text                    568454 non-null  object\n",
      "dtypes: int64(5), object(5)\n",
      "memory usage: 43.4+ MB\n"
     ]
    }
   ],
   "source": [
    "df.info()"
   ]
  },
  {
   "cell_type": "code",
   "execution_count": 5,
   "id": "576077d4-a342-4fc8-b9db-d3531b1e681f",
   "metadata": {},
   "outputs": [],
   "source": [
    "df  = df[['UserId','ProductId','Score']]"
   ]
  },
  {
   "cell_type": "code",
   "execution_count": 6,
   "id": "37453284-efc9-4197-ac6b-8563c57ce85c",
   "metadata": {},
   "outputs": [
    {
     "name": "stdout",
     "output_type": "stream",
     "text": [
      "Number of rows:  568454\n",
      "Number of columns:  3\n"
     ]
    }
   ],
   "source": [
    "#Check the number of rows and columns\n",
    "rows,columns=df.shape\n",
    "print('Number of rows: ',rows)\n",
    "print('Number of columns: ',columns)"
   ]
  },
  {
   "cell_type": "code",
   "execution_count": 7,
   "id": "a3828a3b-8aed-4e99-8222-0fc8a4a81337",
   "metadata": {},
   "outputs": [
    {
     "data": {
      "text/plain": [
       "UserId       object\n",
       "ProductId    object\n",
       "Score         int64\n",
       "dtype: object"
      ]
     },
     "execution_count": 7,
     "metadata": {},
     "output_type": "execute_result"
    }
   ],
   "source": [
    "#Check the datatypes\n",
    "df.dtypes"
   ]
  },
  {
   "cell_type": "code",
   "execution_count": 8,
   "id": "60cda591-1804-489c-98dd-39d914331d72",
   "metadata": {},
   "outputs": [],
   "source": [
    "#Taking subset of the dataset\n",
    "df1=df.iloc[:1048576,0:]"
   ]
  },
  {
   "cell_type": "code",
   "execution_count": 9,
   "id": "7ace9165-aeb5-49a7-b1f7-17d6f1bcd44c",
   "metadata": {},
   "outputs": [
    {
     "name": "stdout",
     "output_type": "stream",
     "text": [
      "<class 'pandas.core.frame.DataFrame'>\n",
      "RangeIndex: 568454 entries, 0 to 568453\n",
      "Data columns (total 3 columns):\n",
      " #   Column     Non-Null Count   Dtype \n",
      "---  ------     --------------   ----- \n",
      " 0   UserId     568454 non-null  object\n",
      " 1   ProductId  568454 non-null  object\n",
      " 2   Score      568454 non-null  int64 \n",
      "dtypes: int64(1), object(2)\n",
      "memory usage: 13.0+ MB\n"
     ]
    }
   ],
   "source": [
    "df1.info()"
   ]
  },
  {
   "cell_type": "markdown",
   "id": "ddf0cfc8-8168-4196-b886-c2ea13781abd",
   "metadata": {},
   "source": [
    "#### Handle missing values"
   ]
  },
  {
   "cell_type": "code",
   "execution_count": 10,
   "id": "a6fd1d99-c36f-4d10-854a-a594b31aa491",
   "metadata": {},
   "outputs": [
    {
     "data": {
      "text/plain": [
       "UserId       0\n",
       "ProductId    0\n",
       "Score        0\n",
       "dtype: int64"
      ]
     },
     "execution_count": 10,
     "metadata": {},
     "output_type": "execute_result"
    }
   ],
   "source": [
    "df.isna().sum()"
   ]
  },
  {
   "cell_type": "code",
   "execution_count": 11,
   "id": "51e2a969-af31-4c38-b131-522185fa5434",
   "metadata": {},
   "outputs": [],
   "source": [
    "df=df.dropna()"
   ]
  },
  {
   "cell_type": "code",
   "execution_count": 12,
   "id": "8cca29b9-1ef2-40b1-ada3-ad9b28c712c2",
   "metadata": {},
   "outputs": [
    {
     "data": {
      "text/plain": [
       "UserId       0\n",
       "ProductId    0\n",
       "Score        0\n",
       "dtype: int64"
      ]
     },
     "execution_count": 12,
     "metadata": {},
     "output_type": "execute_result"
    }
   ],
   "source": [
    "df.isna().sum()"
   ]
  },
  {
   "cell_type": "code",
   "execution_count": 13,
   "id": "eaa0022b-63d7-4e5c-a280-8fac41d982a6",
   "metadata": {},
   "outputs": [
    {
     "data": {
      "text/plain": [
       "5824"
      ]
     },
     "execution_count": 13,
     "metadata": {},
     "output_type": "execute_result"
    }
   ],
   "source": [
    "df.duplicated().sum()"
   ]
  },
  {
   "cell_type": "code",
   "execution_count": 14,
   "id": "4da45c51-c091-47f6-a0b5-398adf5c4404",
   "metadata": {},
   "outputs": [
    {
     "name": "stdout",
     "output_type": "stream",
     "text": [
      "Minimum rating is: 1\n",
      "Maximum rating is: 5\n"
     ]
    }
   ],
   "source": [
    "#Find the minimum and maximum ratings\n",
    "print('Minimum rating is: %d' %(df1.Score.min()))\n",
    "print('Maximum rating is: %d' %(df1.Score.max()))"
   ]
  },
  {
   "cell_type": "code",
   "execution_count": 15,
   "id": "4b465821-1097-46e2-bad8-1f65c55322ff",
   "metadata": {},
   "outputs": [
    {
     "data": {
      "text/plain": [
       "<seaborn.axisgrid.FacetGrid at 0x7df27fef9bd0>"
      ]
     },
     "execution_count": 15,
     "metadata": {},
     "output_type": "execute_result"
    },
    {
     "data": {
      "image/png": "[encoded data removed]",
      "text/plain": [
       "<Figure size 1000x500 with 1 Axes>"
      ]
     },
     "metadata": {},
     "output_type": "display_data"
    }
   ],
   "source": [
    "import seaborn as sns\n",
    "import matplotlib.pyplot as plt\n",
    "\n",
    "# Check the distribution of the rating\n",
    "# Define a custom color palette\n",
    "custom_palette = [\"#FF5733\", \"#FF8D33\", \"#FF33A8\", \"#6A0572\",\"#C70039\"]\n",
    "\n",
    "# Check the distribution of the rating with custom colors\n",
    "with sns.axes_style('white'):\n",
    "    g = sns.catplot(x=\"Score\", data=df1, aspect=2.0, kind='count', palette=custom_palette)\n",
    "    g.set_ylabels(\"Total number of ratings\")\n",
    "\n",
    "# Show the plot\n",
    "plt.show()\n"
   ]
  },
  {
   "cell_type": "code",
   "execution_count": 16,
   "id": "da476db2-2521-42c6-9b25-22b7c3f1d46b",
   "metadata": {},
   "outputs": [
    {
     "name": "stdout",
     "output_type": "stream",
     "text": [
      "Number of unique users in Raw data =  256059\n",
      "Number of unique product in Raw data =  74258\n"
     ]
    }
   ],
   "source": [
    "# Number of unique user id  in the data\n",
    "print('Number of unique users in Raw data = ', df1['UserId'].nunique())\n",
    "# Number of unique product id  in the data\n",
    "print('Number of unique product in Raw data = ', df1['ProductId'].nunique())"
   ]
  },
  {
   "cell_type": "code",
   "execution_count": 17,
   "id": "061473e6-4497-472a-bd9b-63284c81aca9",
   "metadata": {},
   "outputs": [
    {
     "name": "stdout",
     "output_type": "stream",
     "text": [
      "Top 10 users based on ratings: \n",
      " UserId\n",
      "A3OXHLG6DIBRW8    448\n",
      "A1YUL9PCJR3JTY    421\n",
      "AY12DBB0U420B     389\n",
      "A281NPSIMI1C2R    365\n",
      "A1Z54EM24Y40LL    256\n",
      "A1TMAVN4CEM8U8    204\n",
      "A2MUGFV2TDQ47K    201\n",
      "A3TVZM3ZIXG8YW    199\n",
      "A3PJZ8TU8FDQ1K    178\n",
      "AQQLWCMRNDFGI     176\n",
      "dtype: int64\n"
     ]
    }
   ],
   "source": [
    "#Check the top 10 users based on ratings\n",
    "most_rated = df1.groupby('UserId').size().sort_values(ascending=False)[:10]\n",
    "print('Top 10 users based on ratings: \\n',most_rated)"
   ]
  },
  {
   "cell_type": "code",
   "execution_count": 18,
   "id": "8f3b7086-bb3b-493d-b898-ab31b844ccc0",
   "metadata": {},
   "outputs": [
    {
     "name": "stdout",
     "output_type": "stream",
     "text": [
      "Number of users who have rated 25 or more items = 91490\n",
      "Number of unique users in the final data =  3304\n",
      "Number of unique products in the final data =  3304\n"
     ]
    }
   ],
   "source": [
    "counts = df1.UserId.value_counts()\n",
    "df1_final = df1[df1.UserId.isin(counts[counts>=15].index)]\n",
    "print('Number of users who have rated 25 or more items =', len(df1_final))\n",
    "print('Number of unique users in the final data = ', df1_final['UserId'].nunique())\n",
    "print('Number of unique products in the final data = ', df1_final['UserId'].nunique())"
   ]
  },
  {
   "cell_type": "markdown",
   "id": "65253114-5fda-40fd-815b-c5cf54e6dd01",
   "metadata": {},
   "source": [
    "### Filtering Based Recommendation System"
   ]
  },
  {
   "cell_type": "code",
   "execution_count": 20,
   "id": "fb425d16-7aab-4d6a-b194-2b6a22d1dd72",
   "metadata": {},
   "outputs": [
    {
     "name": "stdout",
     "output_type": "stream",
     "text": [
      "Product ID: B001E4KFG0 Score: 5\n",
      "Product ID: B000LQOCH0 Score: 4\n",
      "Product ID: B006K2ZZ7K Score: 5\n",
      "Product ID: B006K2ZZ7K Score: 4\n",
      "Product ID: B006K2ZZ7K Score: 5\n",
      "Product ID: B006K2ZZ7K Score: 5\n",
      "Product ID: B000E7L2R4 Score: 5\n",
      "Product ID: B00171APVA Score: 5\n",
      "Product ID: B0001PB9FE Score: 5\n",
      "Product ID: B0009XLVG0 Score: 5\n",
      "Product ID: B001GVISJM Score: 4\n",
      "Product ID: B001GVISJM Score: 5\n",
      "Product ID: B001GVISJM Score: 5\n",
      "Product ID: B001GVISJM Score: 5\n",
      "Product ID: B001GVISJM Score: 5\n",
      "Product ID: B001GVISJM Score: 5\n",
      "Product ID: B001GVISJM Score: 5\n",
      "Product ID: B001GVISJM Score: 5\n",
      "Product ID: B001GVISJM Score: 5\n",
      "Product ID: B001GVISJM Score: 5\n",
      "Product ID: B001GVISJM Score: 5\n",
      "Product ID: B001GVISJM Score: 5\n",
      "Product ID: B001GVISJM Score: 4\n",
      "Product ID: B00144C10S Score: 5\n",
      "Product ID: B0001PB9FY Score: 5\n",
      "Product ID: B003F6UO7K Score: 5\n",
      "Product ID: B003F6UO7K Score: 5\n",
      "Product ID: B001EO5QW8 Score: 4\n",
      "Product ID: B001EO5QW8 Score: 4\n",
      "Product ID: B001EO5QW8 Score: 5\n",
      "Product ID: B001EO5QW8 Score: 4\n",
      "Product ID: B001EO5QW8 Score: 5\n",
      "Product ID: B001EO5QW8 Score: 5\n",
      "Product ID: B001EO5QW8 Score: 4\n",
      "Product ID: B001EO5QW8 Score: 5\n",
      "Product ID: B001EO5QW8 Score: 5\n",
      "Product ID: B001EO5QW8 Score: 5\n",
      "Product ID: B001EO5QW8 Score: 5\n",
      "Product ID: B001EO5QW8 Score: 5\n",
      "Product ID: B001EO5QW8 Score: 5\n",
      "Product ID: B001EO5QW8 Score: 5\n",
      "Product ID: B001EO5QW8 Score: 4\n",
      "Product ID: B000G6RPMY Score: 5\n",
      "Product ID: B000G6RPMY Score: 4\n",
      "Product ID: B002GWHC0G Score: 4\n",
      "Product ID: B002GWHC0G Score: 5\n",
      "Product ID: B004N5KULM Score: 5\n",
      "Product ID: B004N5KULM Score: 5\n",
      "Product ID: B004N5KULM Score: 5\n",
      "Product ID: B004N5KULM Score: 5\n"
     ]
    }
   ],
   "source": [
    "def recommend_items(ratings_df):\n",
    "    # Filter recommendations based on minimum rating\n",
    "    filtered_recommendations = ratings_df[ratings_df['Score'] >= 4].head(50)\n",
    "    \n",
    "    return filtered_recommendations\n",
    "\n",
    "\n",
    "recommendations = recommend_items(df)\n",
    "\n",
    "if not recommendations.empty:\n",
    "    for index, row in recommendations.iterrows():\n",
    "        print(\"Product ID:\", row['ProductId'], \"Score:\", row['Score'])\n",
    "else:\n",
    "    print(\"No recommendations found.\")"
   ]
  },
  {
   "cell_type": "markdown",
   "id": "98ee1b46-f898-45be-ba1b-f6cb245263ed",
   "metadata": {},
   "source": [
    "### Rating Based By KMeans"
   ]
  },
  {
   "cell_type": "code",
   "execution_count": 21,
   "id": "7f8dfd6e-af9b-4005-a082-8fc1062e7e78",
   "metadata": {},
   "outputs": [
    {
     "name": "stdout",
     "output_type": "stream",
     "text": [
      "Top 5 recommendations for user 2 :\n",
      "Product ID: B002IEZJMA Rating: 0.35771065182829886\n",
      "Product ID: B002IEVJRY Rating: 0.3573926868044515\n",
      "Product ID: B006MONQMC Rating: 0.3112877583465819\n",
      "Product ID: B0090X8IPM Rating: 0.2985691573926868\n",
      "Product ID: B003GTR8IO Rating: 0.2985691573926868\n"
     ]
    }
   ],
   "source": [
    "from sklearn.cluster import KMeans\n",
    "\n",
    "# Apply k-means clustering\n",
    "num_clusters = 5  # Choose the number of clusters\n",
    "kmeans = KMeans(n_clusters=num_clusters, random_state=42)\n",
    "cluster_labels = kmeans.fit_predict(pivot_table)\n",
    "\n",
    "# Example: Get recommendations for a given user\n",
    "user_id = 2\n",
    "\n",
    "# Get the cluster label for the given user\n",
    "user_cluster_label = cluster_labels[user_id - 1]\n",
    "\n",
    "# Get all users in the same cluster as the given user\n",
    "users_in_same_cluster = pivot_table.index[cluster_labels == user_cluster_label]\n",
    "\n",
    "# Get the average ratings of the users in the same cluster\n",
    "average_ratings = pivot_table.loc[users_in_same_cluster].mean()\n",
    "\n",
    "# Sort the average ratings in descending order\n",
    "sorted_ratings = average_ratings.sort_values(ascending=False)\n",
    "\n",
    "# Example: Get top-k recommendations\n",
    "k = 5\n",
    "top_k_recommendations = sorted_ratings.head(k)\n",
    "\n",
    "# Print the top-k recommendations\n",
    "print(\"Top\", k, \"recommendations for user\", user_id, \":\")\n",
    "for product_id, rating in top_k_recommendations.items():\n",
    "    print(\"Product ID:\", product_id, \"Rating:\", rating)"
   ]
  },
  {
   "cell_type": "markdown",
   "id": "0721b085-202c-4551-b52a-70583a9cdf21",
   "metadata": {},
   "source": [
    "### Analyzing the rating"
   ]
  },
  {
   "cell_type": "code",
   "execution_count": 22,
   "id": "2addb4df-62e4-47d7-a10c-f469aaca1455",
   "metadata": {},
   "outputs": [
    {
     "data": {
      "text/plain": [
       "UserId\n",
       "A3OXHLG6DIBRW8    448\n",
       "A1YUL9PCJR3JTY    421\n",
       "AY12DBB0U420B     389\n",
       "A281NPSIMI1C2R    365\n",
       "A1Z54EM24Y40LL    256\n",
       "Name: Score, dtype: int64"
      ]
     },
     "execution_count": 22,
     "metadata": {},
     "output_type": "execute_result"
    }
   ],
   "source": [
    "#Analysis of rating given by the user \n",
    "\n",
    "no_of_rated_products_per_user = df1.groupby(by='UserId')['Score'].count().sort_values(ascending=False)\n",
    "\n",
    "no_of_rated_products_per_user.head()"
   ]
  },
  {
   "cell_type": "code",
   "execution_count": 23,
   "id": "9015d1cc-a38b-4b9e-ad7e-584d082041fa",
   "metadata": {},
   "outputs": [
    {
     "data": {
      "text/plain": [
       "count    256059.000000\n",
       "mean          2.220012\n",
       "std           4.443361\n",
       "min           1.000000\n",
       "25%           1.000000\n",
       "50%           1.000000\n",
       "75%           2.000000\n",
       "max         448.000000\n",
       "Name: Score, dtype: float64"
      ]
     },
     "execution_count": 23,
     "metadata": {},
     "output_type": "execute_result"
    }
   ],
   "source": [
    "no_of_rated_products_per_user.describe()\n"
   ]
  },
  {
   "cell_type": "code",
   "execution_count": 24,
   "id": "d6d6d0e7-a5d2-42ac-be62-766afafca44e",
   "metadata": {},
   "outputs": [],
   "source": [
    "quantiles = no_of_rated_products_per_user.quantile(np.arange(0,1.01,0.01), interpolation='higher')"
   ]
  },
  {
   "cell_type": "code",
   "execution_count": 25,
   "id": "61d7f2df-75dc-4791-a4ce-72d8bbe6c36a",
   "metadata": {},
   "outputs": [
    {
     "data": {
      "text/plain": [
       "<Figure size 1000x1000 with 0 Axes>"
      ]
     },
     "execution_count": 25,
     "metadata": {},
     "output_type": "execute_result"
    },
    {
     "data": {
      "text/plain": [
       "Text(0.5, 1.0, 'Quantiles and their Values')"
      ]
     },
     "execution_count": 25,
     "metadata": {},
     "output_type": "execute_result"
    },
    {
     "data": {
      "text/plain": [
       "<Axes: title={'center': 'Quantiles and their Values'}>"
      ]
     },
     "execution_count": 25,
     "metadata": {},
     "output_type": "execute_result"
    },
    {
     "data": {
      "text/plain": [
       "<matplotlib.collections.PathCollection at 0x7df278010940>"
      ]
     },
     "execution_count": 25,
     "metadata": {},
     "output_type": "execute_result"
    },
    {
     "data": {
      "text/plain": [
       "<matplotlib.collections.PathCollection at 0x7df2780136d0>"
      ]
     },
     "execution_count": 25,
     "metadata": {},
     "output_type": "execute_result"
    },
    {
     "data": {
      "text/plain": [
       "Text(0, 0.5, 'No of ratings by user')"
      ]
     },
     "execution_count": 25,
     "metadata": {},
     "output_type": "execute_result"
    },
    {
     "data": {
      "text/plain": [
       "Text(0.5, 0, 'Value at the quantile')"
      ]
     },
     "execution_count": 25,
     "metadata": {},
     "output_type": "execute_result"
    },
    {
     "data": {
      "text/plain": [
       "<matplotlib.legend.Legend at 0x7df2787c3cd0>"
      ]
     },
     "execution_count": 25,
     "metadata": {},
     "output_type": "execute_result"
    },
    {
     "data": {
      "image/png": "[encoded data removed]",
      "text/plain": [
       "<Figure size 1000x1000 with 1 Axes>"
      ]
     },
     "metadata": {},
     "output_type": "display_data"
    }
   ],
   "source": [
    "plt.figure(figsize=(10,10))\n",
    "plt.title(\"Quantiles and their Values\")\n",
    "quantiles.plot()\n",
    "# quantiles with 0.05 difference\n",
    "plt.scatter(x=quantiles.index[::5], y=quantiles.values[::5], c='orange', label=\"quantiles with 0.05 intervals\")\n",
    "# quantiles with 0.25 difference\n",
    "plt.scatter(x=quantiles.index[::25], y=quantiles.values[::25], c='m', label = \"quantiles with 0.25 intervals\")\n",
    "plt.ylabel('No of ratings by user')\n",
    "plt.xlabel('Value at the quantile')\n",
    "plt.legend(loc='best')\n",
    "plt.show()"
   ]
  },
  {
   "cell_type": "code",
   "execution_count": 26,
   "id": "21080451-3e7f-4657-ad75-450964e66a71",
   "metadata": {},
   "outputs": [
    {
     "name": "stdout",
     "output_type": "stream",
     "text": [
      "\n",
      " No of rated product more than 50 per user : 267\n",
      "\n"
     ]
    }
   ],
   "source": [
    "print('\\n No of rated product more than 50 per user : {}\\n'.format(sum(no_of_rated_products_per_user >= 50)) )"
   ]
  },
  {
   "cell_type": "markdown",
   "id": "ee2b5663-40c0-41f2-aa19-e427e22f4009",
   "metadata": {},
   "source": [
    "### Popularity Based Recommendation\n",
    "Popularity based recommendation system works with the trend. It basically uses the items which are in trend right now. \n",
    "\n",
    "For example, if any product which is usually bought by every new user then there are chances that it may suggest that item to the user who just signed up.\n",
    "\n",
    "The problems with popularity based recommendation system is that the personalization is not available with this method i.e. even though you know the behaviour of the user you cannot recommend items accordingly."
   ]
  },
  {
   "cell_type": "code",
   "execution_count": 27,
   "id": "7b6d8946-ff5d-4c9e-bdc0-b57bcf762621",
   "metadata": {},
   "outputs": [],
   "source": [
    "#Getting the new dataframe which contains users who has given 50 or more ratings\n",
    "\n",
    "new_df=df1.groupby(\"ProductId\").filter(lambda x:x['Score'].count() >=50)"
   ]
  },
  {
   "cell_type": "code",
   "execution_count": 28,
   "id": "38af875f-e9b8-4b90-8198-57d2ae258ef8",
   "metadata": {},
   "outputs": [
    {
     "data": {
      "text/plain": [
       "[<matplotlib.lines.Line2D at 0x7df277f44280>]"
      ]
     },
     "execution_count": 28,
     "metadata": {},
     "output_type": "execute_result"
    },
    {
     "data": {
      "text/plain": [
       "Text(0.5, 1.0, '# RATINGS per Product')"
      ]
     },
     "execution_count": 28,
     "metadata": {},
     "output_type": "execute_result"
    },
    {
     "data": {
      "text/plain": [
       "Text(0.5, 0, 'Product')"
      ]
     },
     "execution_count": 28,
     "metadata": {},
     "output_type": "execute_result"
    },
    {
     "data": {
      "text/plain": [
       "Text(0, 0.5, 'No of ratings per product')"
      ]
     },
     "execution_count": 28,
     "metadata": {},
     "output_type": "execute_result"
    },
    {
     "data": {
      "text/plain": [
       "[Text(-250.0, 0, ''),\n",
       " Text(0.0, 0, ''),\n",
       " Text(250.0, 0, ''),\n",
       " Text(500.0, 0, ''),\n",
       " Text(750.0, 0, ''),\n",
       " Text(1000.0, 0, ''),\n",
       " Text(1250.0, 0, ''),\n",
       " Text(1500.0, 0, ''),\n",
       " Text(1750.0, 0, ''),\n",
       " Text(2000.0, 0, '')]"
      ]
     },
     "execution_count": 28,
     "metadata": {},
     "output_type": "execute_result"
    },
    {
     "data": {
      "image/png": "[encoded data removed]",
      "text/plain": [
       "<Figure size 960x480 with 1 Axes>"
      ]
     },
     "metadata": {},
     "output_type": "display_data"
    }
   ],
   "source": [
    "no_of_ratings_per_product = new_df.groupby(by='ProductId')['Score'].count().sort_values(ascending=False)\n",
    "\n",
    "fig = plt.figure(figsize=plt.figaspect(.5))\n",
    "ax = plt.gca()\n",
    "plt.plot(no_of_ratings_per_product.values)\n",
    "plt.title('# RATINGS per Product')\n",
    "plt.xlabel('Product')\n",
    "plt.ylabel('No of ratings per product')\n",
    "ax.set_xticklabels([])\n",
    "\n",
    "plt.show()"
   ]
  },
  {
   "cell_type": "code",
   "execution_count": 29,
   "id": "35fbf50e-4c01-41c6-b124-d8c2f5f41afa",
   "metadata": {},
   "outputs": [],
   "source": [
    "ratings_mean_count = pd.DataFrame(new_df.groupby('ProductId')['Score'].mean())"
   ]
  },
  {
   "cell_type": "code",
   "execution_count": 30,
   "id": "61223a41-9b9f-4d8c-883e-465726fa40cf",
   "metadata": {},
   "outputs": [],
   "source": [
    "ratings_mean_count['rating_counts'] = pd.DataFrame(new_df.groupby('ProductId')['Score'].count())"
   ]
  },
  {
   "cell_type": "code",
   "execution_count": 31,
   "id": "834fdd5b-03bc-46df-857d-a21c8d3e66fb",
   "metadata": {},
   "outputs": [
    {
     "data": {
      "text/plain": [
       "913"
      ]
     },
     "execution_count": 31,
     "metadata": {},
     "output_type": "execute_result"
    }
   ],
   "source": [
    "ratings_mean_count['rating_counts'].max()"
   ]
  },
  {
   "cell_type": "code",
   "execution_count": 32,
   "id": "577eb3ee-d386-405e-a382-17fcce5738b4",
   "metadata": {},
   "outputs": [
    {
     "data": {
      "text/plain": [
       "<Figure size 800x600 with 0 Axes>"
      ]
     },
     "execution_count": 32,
     "metadata": {},
     "output_type": "execute_result"
    },
    {
     "data": {
      "text/plain": [
       "<Axes: >"
      ]
     },
     "execution_count": 32,
     "metadata": {},
     "output_type": "execute_result"
    },
    {
     "data": {
      "image/png": "[encoded data removed]",
      "text/plain": [
       "<Figure size 800x600 with 1 Axes>"
      ]
     },
     "metadata": {},
     "output_type": "display_data"
    }
   ],
   "source": [
    "plt.figure(figsize=(8,6))\n",
    "plt.rcParams['patch.force_edgecolor'] = True\n",
    "ratings_mean_count['Score'].hist(bins=50)"
   ]
  },
  {
   "cell_type": "code",
   "execution_count": 33,
   "id": "9f66e172-2424-47f4-ac0c-9dc68e2e5a89",
   "metadata": {},
   "outputs": [
    {
     "data": {
      "text/plain": [
       "<Figure size 800x600 with 0 Axes>"
      ]
     },
     "execution_count": 33,
     "metadata": {},
     "output_type": "execute_result"
    },
    {
     "data": {
      "text/plain": [
       "<seaborn.axisgrid.JointGrid at 0x7df277f21090>"
      ]
     },
     "execution_count": 33,
     "metadata": {},
     "output_type": "execute_result"
    },
    {
     "data": {
      "text/plain": [
       "<Figure size 800x600 with 0 Axes>"
      ]
     },
     "metadata": {},
     "output_type": "display_data"
    },
    {
     "data": {
      "image/png": "[encoded data removed]",
      "text/plain": [
       "<Figure size 600x600 with 3 Axes>"
      ]
     },
     "metadata": {},
     "output_type": "display_data"
    }
   ],
   "source": [
    "plt.figure(figsize=(8,6))\n",
    "plt.rcParams['patch.force_edgecolor'] = True\n",
    "sns.jointplot(x='Score', y='rating_counts', data=ratings_mean_count, alpha=0.4)"
   ]
  },
  {
   "cell_type": "code",
   "execution_count": 34,
   "id": "bc38e659-bcf5-43dc-b550-adc8a7aaafae",
   "metadata": {},
   "outputs": [
    {
     "data": {
      "text/plain": [
       "<Axes: xlabel='ProductId'>"
      ]
     },
     "execution_count": 34,
     "metadata": {},
     "output_type": "execute_result"
    },
    {
     "data": {
      "image/png": "[encoded data removed]",
      "text/plain": [
       "<Figure size 640x480 with 1 Axes>"
      ]
     },
     "metadata": {},
     "output_type": "display_data"
    }
   ],
   "source": [
    "popular_products = pd.DataFrame(new_df.groupby('ProductId')['Score'].count())\n",
    "most_popular = popular_products.sort_values('Score', ascending=False)\n",
    "most_popular.head(30).plot(kind = \"bar\")"
   ]
  },
  {
   "cell_type": "markdown",
   "id": "433ab1ba-7ec1-4aef-b284-c5081d2f6c6a",
   "metadata": {},
   "source": [
    "### Collaborative Filtering (Item-Item Recommendation)\n",
    "Collaborative filtering (CF) is a widely adopted technique in recommendation systems that leverages the preferences and behaviors of users to suggest items. The core principle of CF is that individuals who have historically rated items similarly will continue to exhibit similar tastes in the future.\n",
    "\n",
    "This method operates on the premise of utilizing the collective wisdom of a community—essentially filling in gaps in a user-item interaction matrix. \n",
    "\n",
    "For example, if User A and User B both liked similar product, and User A liked a new product that User B hasn't seen, that product might be recommended to User B."
   ]
  },
  {
   "cell_type": "code",
   "execution_count": 35,
   "id": "c48fe1f7-b12d-4283-a55e-9abcd3fde5e9",
   "metadata": {},
   "outputs": [],
   "source": [
    "from surprise import KNNWithMeans\n",
    "from surprise import Dataset\n",
    "from surprise import accuracy\n",
    "from surprise import Reader\n",
    "import os\n",
    "from surprise.model_selection import train_test_split"
   ]
  },
  {
   "cell_type": "code",
   "execution_count": 36,
   "id": "8b54ceb4-aa67-4e86-ad84-f4f410674ab2",
   "metadata": {},
   "outputs": [],
   "source": [
    "#Reading the dataset\n",
    "reader = Reader(rating_scale=(1, 5))\n",
    "data = Dataset.load_from_df(new_df,reader)"
   ]
  },
  {
   "cell_type": "code",
   "execution_count": 37,
   "id": "119f9a2c-da82-4e73-9dae-7751e6e4a34d",
   "metadata": {},
   "outputs": [],
   "source": [
    "#Splitting the dataset\n",
    "trainset, testset = train_test_split(data, test_size=0.3,random_state=10)"
   ]
  },
  {
   "cell_type": "code",
   "execution_count": 38,
   "id": "c1d98a11-5010-423a-b3a5-aafbb48f6456",
   "metadata": {},
   "outputs": [
    {
     "name": "stdout",
     "output_type": "stream",
     "text": [
      "Estimating biases using als...\n",
      "Computing the pearson_baseline similarity matrix...\n",
      "Done computing similarity matrix.\n"
     ]
    },
    {
     "data": {
      "text/plain": [
       "<surprise.prediction_algorithms.knns.KNNWithMeans at 0x7df26d6f6bf0>"
      ]
     },
     "execution_count": 38,
     "metadata": {},
     "output_type": "execute_result"
    }
   ],
   "source": [
    "# Use user_based true/false to switch between user-based or item-based collaborative filtering\n",
    "algo = KNNWithMeans(k=5, sim_options={'name': 'pearson_baseline', 'user_based': False})\n",
    "algo.fit(trainset)"
   ]
  },
  {
   "cell_type": "code",
   "execution_count": 39,
   "id": "310a1442-866a-49a8-959c-96d7973946e4",
   "metadata": {},
   "outputs": [],
   "source": [
    "# run the trained model against the testset\n",
    "test_pred = algo.test(testset)"
   ]
  },
  {
   "cell_type": "code",
   "execution_count": 40,
   "id": "9b5c870c-3dc8-4d90-a4f2-10e2e9fa68be",
   "metadata": {},
   "outputs": [
    {
     "data": {
      "text/plain": [
       "[Prediction(uid='A1B05INWIDZ74O', iid='B008RWUHA6', r_ui=5.0, est=4.904404394699901, details={'actual_k': 5, 'was_impossible': False}),\n",
       " Prediction(uid='AP1YHVQS65HNT', iid='B005DFL4PM', r_ui=5.0, est=4.955580396469401, details={'actual_k': 3, 'was_impossible': False}),\n",
       " Prediction(uid='A1A9Q3CQA5Y28E', iid='B007RTR8T8', r_ui=3.0, est=3.866069039336366, details={'actual_k': 1, 'was_impossible': False}),\n",
       " Prediction(uid='A7MHN8ZV8JPNT', iid='B000PDWBKO', r_ui=5.0, est=5, details={'actual_k': 1, 'was_impossible': False}),\n",
       " Prediction(uid='A36HQGRJWI5LSG', iid='B000H1217M', r_ui=5.0, est=5, details={'actual_k': 4, 'was_impossible': False}),\n",
       " Prediction(uid='A186NOZW7YYOX2', iid='B0060JNAE8', r_ui=4.0, est=4.292307692307692, details={'actual_k': 0, 'was_impossible': False}),\n",
       " Prediction(uid='A2JI3ASA64PRAG', iid='B002ZX1U9A', r_ui=5.0, est=4.902106382342103, details={'actual_k': 3, 'was_impossible': False}),\n",
       " Prediction(uid='A1S30PU4PBA42W', iid='B001EYUE5M', r_ui=5.0, est=5, details={'actual_k': 5, 'was_impossible': False}),\n",
       " Prediction(uid='A2HHRKGH13FREL', iid='B000EVOSE4', r_ui=5.0, est=4.169958337495666, details={'was_impossible': True, 'reason': 'User and/or item is unknown.'}),\n",
       " Prediction(uid='A33OXDK0UL9M3Z', iid='B001LUM1ZU', r_ui=3.0, est=4.169958337495666, details={'was_impossible': True, 'reason': 'User and/or item is unknown.'}),\n",
       " Prediction(uid='ARYSDAZNRXN6G', iid='B004E4EBMG', r_ui=1.0, est=3.2704783103863075, details={'actual_k': 5, 'was_impossible': False}),\n",
       " Prediction(uid='AZRJH4JFB59VC', iid='B000YSTIL0', r_ui=5.0, est=5, details={'actual_k': 3, 'was_impossible': False}),\n",
       " Prediction(uid='A3O197O0BP0EA3', iid='B002QWP89S', r_ui=5.0, est=4.169958337495666, details={'was_impossible': True, 'reason': 'User and/or item is unknown.'}),\n",
       " Prediction(uid='A1BCIM5R3X0646', iid='B001E530J8', r_ui=4.0, est=4.169958337495666, details={'was_impossible': True, 'reason': 'User and/or item is unknown.'}),\n",
       " Prediction(uid='A2JLCCA5NUTZ5X', iid='B008J1HO4C', r_ui=5.0, est=5, details={'actual_k': 1, 'was_impossible': False}),\n",
       " Prediction(uid='ANYRHPZLNJDFX', iid='B002GKEK7G', r_ui=5.0, est=5, details={'actual_k': 1, 'was_impossible': False}),\n",
       " Prediction(uid='A3CTQ4BDXEIR2Z', iid='B00764BRS2', r_ui=3.0, est=4.169958337495666, details={'was_impossible': True, 'reason': 'User and/or item is unknown.'}),\n",
       " Prediction(uid='A2F2UOAIUB1V8B', iid='B002QWHJOU', r_ui=1.0, est=1, details={'actual_k': 1, 'was_impossible': False}),\n",
       " Prediction(uid='A1ZCSSCAGBCD49', iid='B004E4EBMG', r_ui=5.0, est=4.308106742522768, details={'actual_k': 5, 'was_impossible': False}),\n",
       " Prediction(uid='AIE0KPPSZLCWO', iid='B007PA33NY', r_ui=5.0, est=4.947425502122035, details={'actual_k': 2, 'was_impossible': False}),\n",
       " Prediction(uid='A34VRVJ0DKQ5NF', iid='B002ANCDRI', r_ui=5.0, est=5, details={'actual_k': 5, 'was_impossible': False}),\n",
       " Prediction(uid='A16UGFNW51OSYC', iid='B000DZDJ0K', r_ui=5.0, est=4.169958337495666, details={'was_impossible': True, 'reason': 'User and/or item is unknown.'}),\n",
       " Prediction(uid='ASHO96ZB8AL1Z', iid='B0051COPH6', r_ui=5.0, est=4.435897435897436, details={'actual_k': 0, 'was_impossible': False}),\n",
       " Prediction(uid='A1WZY9GOEE7IAZ', iid='B000M0F58U', r_ui=5.0, est=4.930439616708873, details={'actual_k': 5, 'was_impossible': False}),\n",
       " Prediction(uid='A4QZXWW0ZI7K3', iid='B001ELL60W', r_ui=5.0, est=4.169958337495666, details={'was_impossible': True, 'reason': 'User and/or item is unknown.'}),\n",
       " Prediction(uid='A35WPBSU7HVJI8', iid='B001E18K8S', r_ui=5.0, est=4.994429266311754, details={'actual_k': 5, 'was_impossible': False}),\n",
       " Prediction(uid='A1MV5RFJETWSR7', iid='B008ZRKZSM', r_ui=5.0, est=4.999866215664835, details={'actual_k': 2, 'was_impossible': False}),\n",
       " Prediction(uid='A1QPCKFHPRO12G', iid='B001M050CA', r_ui=5.0, est=5, details={'actual_k': 5, 'was_impossible': False}),\n",
       " Prediction(uid='AQLZB3YNGD8QQ', iid='B002T0NWKE', r_ui=4.0, est=4.0283220204841665, details={'actual_k': 5, 'was_impossible': False}),\n",
       " Prediction(uid='A2PR6DUBYLD4CP', iid='B007R1PGVS', r_ui=2.0, est=2.034779050736498, details={'actual_k': 1, 'was_impossible': False}),\n",
       " Prediction(uid='AXVKMYWNIHK7W', iid='B006BXV14E', r_ui=5.0, est=2.1435588019901135, details={'actual_k': 5, 'was_impossible': False}),\n",
       " Prediction(uid='AZZBV530RHQH6', iid='B000FFLXR4', r_ui=5.0, est=4.892882311486963, details={'actual_k': 1, 'was_impossible': False}),\n",
       " Prediction(uid='A249EEZN6ATA0I', iid='B001KTA03C', r_ui=5.0, est=4.975601306846034, details={'actual_k': 5, 'was_impossible': False}),\n",
       " Prediction(uid='AGPG7IOVROB6C', iid='B000EVG8J2', r_ui=5.0, est=5, details={'actual_k': 4, 'was_impossible': False}),\n",
       " Prediction(uid='A2XHRHRDFXRQX8', iid='B004AWTR6M', r_ui=5.0, est=4.169958337495666, details={'was_impossible': True, 'reason': 'User and/or item is unknown.'}),\n",
       " Prediction(uid='A2727ZMRKXAWY7', iid='B000WFN0VO', r_ui=4.0, est=4.006424829519947, details={'actual_k': 5, 'was_impossible': False}),\n",
       " Prediction(uid='A2JREQY285C4OL', iid='B0034EDMLI', r_ui=5.0, est=5, details={'actual_k': 4, 'was_impossible': False}),\n",
       " Prediction(uid='AD2QRU9ZXBQZ1', iid='B003TC7WN4', r_ui=2.0, est=2.0407093208025455, details={'actual_k': 5, 'was_impossible': False}),\n",
       " Prediction(uid='A2IK8BI3X7YJZA', iid='B000Q611U6', r_ui=5.0, est=4.940794299935423, details={'actual_k': 3, 'was_impossible': False}),\n",
       " Prediction(uid='A3FY3H6F4249E0', iid='B000CQG8KS', r_ui=5.0, est=4.97469670386998, details={'actual_k': 5, 'was_impossible': False}),\n",
       " Prediction(uid='A2ASPZEBHAWVY8', iid='B0007A0AQW', r_ui=5.0, est=4.952644349901292, details={'actual_k': 2, 'was_impossible': False}),\n",
       " Prediction(uid='ALTWS8ZOMWUUD', iid='B003S9GWU2', r_ui=5.0, est=5, details={'actual_k': 5, 'was_impossible': False}),\n",
       " Prediction(uid='A19MQQ1YD1YV4E', iid='B001CGTN1I', r_ui=5.0, est=4.169958337495666, details={'was_impossible': True, 'reason': 'User and/or item is unknown.'}),\n",
       " Prediction(uid='ATZAD00EIVTF4', iid='B000084DWM', r_ui=1.0, est=1, details={'actual_k': 5, 'was_impossible': False}),\n",
       " Prediction(uid='AAPPWNP9FWVWS', iid='B002TN49F8', r_ui=2.0, est=4.287455392019897, details={'actual_k': 4, 'was_impossible': False}),\n",
       " Prediction(uid='A34W9CCGAN36ZK', iid='B002HQLY7S', r_ui=5.0, est=5, details={'actual_k': 2, 'was_impossible': False}),\n",
       " Prediction(uid='A15EF28WWL99QB', iid='B006N3HZ6K', r_ui=4.0, est=3.989192504744513, details={'actual_k': 3, 'was_impossible': False}),\n",
       " Prediction(uid='A1XDM5T5M6ZQ6D', iid='B000GAT6NG', r_ui=4.0, est=3.9902964462029886, details={'actual_k': 2, 'was_impossible': False}),\n",
       " Prediction(uid='A1UOU175ARBWG', iid='B004CLCEDE', r_ui=5.0, est=4.169958337495666, details={'was_impossible': True, 'reason': 'User and/or item is unknown.'}),\n",
       " Prediction(uid='ARV1T9LPRVMCV', iid='B00507A02Q', r_ui=1.0, est=4.169958337495666, details={'was_impossible': True, 'reason': 'User and/or item is unknown.'}),\n",
       " Prediction(uid='A2BJFEALU6PLJA', iid='B001RVFDOO', r_ui=5.0, est=4.169958337495666, details={'was_impossible': True, 'reason': 'User and/or item is unknown.'}),\n",
       " Prediction(uid='A3KUKHOZ2VXGND', iid='B001E4S8GO', r_ui=3.0, est=4.163934426229508, details={'actual_k': 0, 'was_impossible': False}),\n",
       " Prediction(uid='AX0ZTNX6KVJ40', iid='B005A1LJ04', r_ui=2.0, est=3.853096770903854, details={'actual_k': 3, 'was_impossible': False}),\n",
       " Prediction(uid='A1HM9ZCU43N6XD', iid='B003SSWCJI', r_ui=5.0, est=5, details={'actual_k': 5, 'was_impossible': False}),\n",
       " Prediction(uid='A9M022DZLXYFP', iid='B0049ULB78', r_ui=5.0, est=4.988872626398378, details={'actual_k': 5, 'was_impossible': False}),\n",
       " Prediction(uid='A2E4R7YISIM4QM', iid='B004FEN3GK', r_ui=3.0, est=5, details={'actual_k': 1, 'was_impossible': False}),\n",
       " Prediction(uid='A3DUGHDTBTWFJ', iid='B0033GMSTY', r_ui=1.0, est=1, details={'actual_k': 2, 'was_impossible': False}),\n",
       " Prediction(uid='A3F701HRZQZ4QZ', iid='B004F1LNDI', r_ui=5.0, est=4.169958337495666, details={'was_impossible': True, 'reason': 'User and/or item is unknown.'}),\n",
       " Prediction(uid='AL2K5GSTRUIY', iid='B000FFLHSY', r_ui=4.0, est=4.169958337495666, details={'was_impossible': True, 'reason': 'User and/or item is unknown.'}),\n",
       " Prediction(uid='A3J3T04O95XU4Y', iid='B000DZDJ0K', r_ui=5.0, est=4.77319587628866, details={'actual_k': 0, 'was_impossible': False}),\n",
       " Prediction(uid='A2OOQ59V7YWYL1', iid='B000KFVAF4', r_ui=1.0, est=1.1116946778711485, details={'actual_k': 1, 'was_impossible': False}),\n",
       " Prediction(uid='A15NG4Y7WX4W6U', iid='B000W5SLHW', r_ui=5.0, est=4.169958337495666, details={'was_impossible': True, 'reason': 'User and/or item is unknown.'}),\n",
       " Prediction(uid='A85R0YVAH0TV8', iid='B000LQNK50', r_ui=5.0, est=4.169958337495666, details={'was_impossible': True, 'reason': 'User and/or item is unknown.'}),\n",
       " Prediction(uid='A2BT968XSRPP0K', iid='B000H27NU6', r_ui=5.0, est=4.470588235294118, details={'actual_k': 0, 'was_impossible': False}),\n",
       " Prediction(uid='A6WDMXEORF2HH', iid='B0045IO37Y', r_ui=5.0, est=4.169958337495666, details={'was_impossible': True, 'reason': 'User and/or item is unknown.'}),\n",
       " Prediction(uid='A2G7B7FKP2O2PU', iid='B001QE96CW', r_ui=5.0, est=4.853658536585367, details={'actual_k': 1, 'was_impossible': False}),\n",
       " Prediction(uid='A3PJ9ZCNO15DA3', iid='B00507A02Q', r_ui=1.0, est=4.169958337495666, details={'was_impossible': True, 'reason': 'User and/or item is unknown.'}),\n",
       " Prediction(uid='AGFFF8TSKHJ3R', iid='B004EAGP74', r_ui=5.0, est=4.997918293497354, details={'actual_k': 2, 'was_impossible': False}),\n",
       " Prediction(uid='A1NUP1L9M2HGYV', iid='B001SIXXWU', r_ui=5.0, est=4.716830452282481, details={'actual_k': 5, 'was_impossible': False}),\n",
       " Prediction(uid='AO7L9S511TNAC', iid='B005K4Q34S', r_ui=5.0, est=5, details={'actual_k': 3, 'was_impossible': False}),\n",
       " Prediction(uid='A2CSC7926IDQOA', iid='B0009YUEG2', r_ui=4.0, est=3.5844155844155843, details={'actual_k': 0, 'was_impossible': False}),\n",
       " Prediction(uid='A1AYBKV6DO2389', iid='B002AR14WO', r_ui=3.0, est=3.982456140350877, details={'actual_k': 0, 'was_impossible': False}),\n",
       " Prediction(uid='A2ZIQMCW6QZAK0', iid='B001E5E1PA', r_ui=5.0, est=4.169958337495666, details={'was_impossible': True, 'reason': 'User and/or item is unknown.'}),\n",
       " Prediction(uid='A133XZT3RMWU4O', iid='B000H7ELTW', r_ui=5.0, est=4.797729618163055, details={'actual_k': 1, 'was_impossible': False}),\n",
       " Prediction(uid='A3942SERYKT1ZC', iid='B000ED9L9E', r_ui=5.0, est=4.169958337495666, details={'was_impossible': True, 'reason': 'User and/or item is unknown.'}),\n",
       " Prediction(uid='AHBN4OMLYCCXZ', iid='B00271NNLI', r_ui=1.0, est=4.169958337495666, details={'was_impossible': True, 'reason': 'User and/or item is unknown.'}),\n",
       " Prediction(uid='A3MD537ZXBMFKR', iid='B000CQID2Y', r_ui=2.0, est=2.164061682163951, details={'actual_k': 5, 'was_impossible': False}),\n",
       " Prediction(uid='A12MGU9003T6HG', iid='B001NXM3I0', r_ui=5.0, est=5, details={'actual_k': 1, 'was_impossible': False}),\n",
       " Prediction(uid='A16UIPWWBUXDY4', iid='B000OQ2DJQ', r_ui=5.0, est=4.922438279336937, details={'actual_k': 5, 'was_impossible': False}),\n",
       " Prediction(uid='A1DTXQH7J0ANC', iid='B003DVMYUW', r_ui=5.0, est=4.169958337495666, details={'was_impossible': True, 'reason': 'User and/or item is unknown.'}),\n",
       " Prediction(uid='A1RH54KDESZ72N', iid='B002OFUBJO', r_ui=4.0, est=4.043453497932274, details={'actual_k': 5, 'was_impossible': False}),\n",
       " Prediction(uid='A3JHC8O59WDHFZ', iid='B007I7Z3Z0', r_ui=2.0, est=2.0277451428171256, details={'actual_k': 5, 'was_impossible': False}),\n",
       " Prediction(uid='A34AKYERWHKPWZ', iid='B004XAPIOQ', r_ui=2.0, est=4.169958337495666, details={'was_impossible': True, 'reason': 'User and/or item is unknown.'}),\n",
       " Prediction(uid='A3Q8WO02Y0TTYV', iid='B007TGDXMK', r_ui=5.0, est=4.136363636363637, details={'actual_k': 0, 'was_impossible': False}),\n",
       " Prediction(uid='A3U8QVZ4BSO839', iid='B002QWP8H0', r_ui=4.0, est=3.991539950897617, details={'actual_k': 3, 'was_impossible': False}),\n",
       " Prediction(uid='ALN3FDYXNZI0', iid='B007M832YY', r_ui=5.0, est=5, details={'actual_k': 5, 'was_impossible': False}),\n",
       " Prediction(uid='A2NT79NEFI3Q2E', iid='B001SIY414', r_ui=1.0, est=1.0395766494869099, details={'actual_k': 5, 'was_impossible': False}),\n",
       " Prediction(uid='A2PHDNWJM23R31', iid='B0006VSXBG', r_ui=5.0, est=5, details={'actual_k': 5, 'was_impossible': False}),\n",
       " Prediction(uid='A1EJ8QCVHC9CCP', iid='B000UBH9YE', r_ui=4.0, est=4.169958337495666, details={'was_impossible': True, 'reason': 'User and/or item is unknown.'}),\n",
       " Prediction(uid='A1NNV6HS6MHQFH', iid='B003IHO8LY', r_ui=5.0, est=4.169958337495666, details={'was_impossible': True, 'reason': 'User and/or item is unknown.'}),\n",
       " Prediction(uid='A266OAY9BKJH5A', iid='B00020HHRW', r_ui=5.0, est=5, details={'actual_k': 5, 'was_impossible': False}),\n",
       " Prediction(uid='A2JVTIF4ZN1P9D', iid='B001EO5U3I', r_ui=5.0, est=4.957650877969604, details={'actual_k': 1, 'was_impossible': False}),\n",
       " Prediction(uid='A42QN9MM6LKKM', iid='B000CQIDK6', r_ui=5.0, est=4.982594053418658, details={'actual_k': 5, 'was_impossible': False}),\n",
       " Prediction(uid='A2WBPNC46MMHYV', iid='B003VXHGE6', r_ui=5.0, est=5, details={'actual_k': 5, 'was_impossible': False}),\n",
       " Prediction(uid='A3PJZ8TU8FDQ1K', iid='B000G6MBUA', r_ui=5.0, est=5, details={'actual_k': 5, 'was_impossible': False}),\n",
       " Prediction(uid='A28ZFHM4YXM7A1', iid='B000ESLJ6C', r_ui=5.0, est=4.169958337495666, details={'was_impossible': True, 'reason': 'User and/or item is unknown.'}),\n",
       " Prediction(uid='A2I6UEGFYCBKZG', iid='B001EPPC80', r_ui=5.0, est=4.169958337495666, details={'was_impossible': True, 'reason': 'User and/or item is unknown.'}),\n",
       " Prediction(uid='A10G136JEISLVR', iid='B0014ATRV8', r_ui=4.0, est=4.024463013148654, details={'actual_k': 5, 'was_impossible': False}),\n",
       " Prediction(uid='A37GWY8XLIE4VL', iid='B000SU201O', r_ui=5.0, est=4.870936142156173, details={'actual_k': 4, 'was_impossible': False}),\n",
       " Prediction(uid='ASIR5MR8RX5AY', iid='B0034EDMLI', r_ui=5.0, est=5, details={'actual_k': 4, 'was_impossible': False}),\n",
       " Prediction(uid='A1X3SSNOQPYO0B', iid='B0043WOANY', r_ui=5.0, est=5, details={'actual_k': 3, 'was_impossible': False}),\n",
       " Prediction(uid='ABMCS0Z2G8BAV', iid='B000HDK0D2', r_ui=3.0, est=4.169958337495666, details={'was_impossible': True, 'reason': 'User and/or item is unknown.'}),\n",
       " Prediction(uid='A2DTRR9SEAT878', iid='B004HOQE64', r_ui=5.0, est=4.979406012805428, details={'actual_k': 5, 'was_impossible': False}),\n",
       " Prediction(uid='ACNI85ASYC6P4', iid='B006N3I29E', r_ui=5.0, est=5, details={'actual_k': 4, 'was_impossible': False}),\n",
       " Prediction(uid='AN8GFNAFNV6KC', iid='B000PDWBKO', r_ui=5.0, est=4.169958337495666, details={'was_impossible': True, 'reason': 'User and/or item is unknown.'}),\n",
       " Prediction(uid='A129K7NK4CR5GC', iid='B001TM70V0', r_ui=5.0, est=4.901474505285068, details={'actual_k': 2, 'was_impossible': False}),\n",
       " Prediction(uid='A1VUN4JU731CBH', iid='B001EQ596O', r_ui=4.0, est=3.9999718899046584, details={'actual_k': 5, 'was_impossible': False}),\n",
       " Prediction(uid='A1WAH8GK3T9W3O', iid='B0034EDM2W', r_ui=5.0, est=5, details={'actual_k': 4, 'was_impossible': False}),\n",
       " Prediction(uid='A33X9HMUR44LRW', iid='B00315WGNK', r_ui=5.0, est=4.995587195353904, details={'actual_k': 5, 'was_impossible': False}),\n",
       " Prediction(uid='AZ4T61QUJHA9E', iid='B001EO5QZK', r_ui=4.0, est=3.925761114697412, details={'actual_k': 5, 'was_impossible': False}),\n",
       " Prediction(uid='A3U0S17XYK8XMJ', iid='B005VOOQHS', r_ui=4.0, est=3.837823208734064, details={'actual_k': 5, 'was_impossible': False}),\n",
       " Prediction(uid='AUZNNV1ZYG8J0', iid='B007JFMH8M', r_ui=5.0, est=4.169958337495666, details={'was_impossible': True, 'reason': 'User and/or item is unknown.'}),\n",
       " Prediction(uid='AFDNACPVKXXPZ', iid='B00020HHK4', r_ui=4.0, est=4.080736838569363, details={'actual_k': 5, 'was_impossible': False}),\n",
       " Prediction(uid='A1MGP9NZQ5V7KU', iid='B001BM4NAE', r_ui=2.0, est=1.9914096573681714, details={'actual_k': 5, 'was_impossible': False}),\n",
       " Prediction(uid='A2DEVM6T8AAV6N', iid='B004IJHY4Y', r_ui=5.0, est=4.944845909535702, details={'actual_k': 5, 'was_impossible': False}),\n",
       " Prediction(uid='A1LVEPRENTHRSH', iid='B001E5E268', r_ui=5.0, est=5, details={'actual_k': 5, 'was_impossible': False}),\n",
       " Prediction(uid='A1O5RQULGFLT4K', iid='B0095KATS4', r_ui=1.0, est=1, details={'actual_k': 4, 'was_impossible': False}),\n",
       " Prediction(uid='A58SMGOB4UDW2', iid='B000CQG8AS', r_ui=5.0, est=4.977557626147942, details={'actual_k': 4, 'was_impossible': False}),\n",
       " Prediction(uid='A1NFC1JDHP9B16', iid='B000TQEWM2', r_ui=5.0, est=4.872439024390244, details={'actual_k': 1, 'was_impossible': False}),\n",
       " Prediction(uid='A1TJT6GXDGNN8Q', iid='B000LQORDE', r_ui=3.0, est=4.373333333333333, details={'actual_k': 0, 'was_impossible': False}),\n",
       " Prediction(uid='A3091RP0SPZLMN', iid='B002DZIL24', r_ui=5.0, est=4.975599128886603, details={'actual_k': 2, 'was_impossible': False}),\n",
       " Prediction(uid='A1W272HLZKQ3QU', iid='B003CIBPN8', r_ui=5.0, est=5, details={'actual_k': 2, 'was_impossible': False}),\n",
       " Prediction(uid='A2N0L4DKKTXW46', iid='B003CIBPN8', r_ui=1.0, est=1.0424378855578382, details={'actual_k': 2, 'was_impossible': False}),\n",
       " Prediction(uid='A7LGVW1WQ8AG0', iid='B005V9UG18', r_ui=5.0, est=5, details={'actual_k': 2, 'was_impossible': False}),\n",
       " Prediction(uid='A2ZXDMDOYTFQ2I', iid='B00507A02Q', r_ui=1.0, est=4.169958337495666, details={'was_impossible': True, 'reason': 'User and/or item is unknown.'}),\n",
       " Prediction(uid='A2PNOU7NXB1JE4', iid='B001397WYY', r_ui=3.0, est=3.086866337991233, details={'actual_k': 5, 'was_impossible': False}),\n",
       " Prediction(uid='A3NAEIB9ZDBJ4I', iid='B005CUU23S', r_ui=1.0, est=1, details={'actual_k': 5, 'was_impossible': False}),\n",
       " Prediction(uid='A1YSJWHU1OBFM', iid='B001397WV2', r_ui=5.0, est=4.952281880453297, details={'actual_k': 5, 'was_impossible': False}),\n",
       " Prediction(uid='#oc-R2KCIJHXTXT0KU', iid='B006Q820X0', r_ui=1.0, est=4.169958337495666, details={'was_impossible': True, 'reason': 'User and/or item is unknown.'}),\n",
       " Prediction(uid='A32KXWLU350LMX', iid='B000FBMFDO', r_ui=5.0, est=4.169958337495666, details={'was_impossible': True, 'reason': 'User and/or item is unknown.'}),\n",
       " Prediction(uid='AEH8Z4V7NFUHW', iid='B0030HSFW0', r_ui=5.0, est=4.169958337495666, details={'was_impossible': True, 'reason': 'User and/or item is unknown.'}),\n",
       " Prediction(uid='A9BXUK4ZHEYMA', iid='B001ELL512', r_ui=5.0, est=4.169958337495666, details={'was_impossible': True, 'reason': 'User and/or item is unknown.'}),\n",
       " Prediction(uid='AEOLQOH7KKSSB', iid='B007JFMH8M', r_ui=5.0, est=4.169958337495666, details={'was_impossible': True, 'reason': 'User and/or item is unknown.'}),\n",
       " Prediction(uid='A25709ZQ344YMT', iid='B001D09KAM', r_ui=4.0, est=3.9492045122417774, details={'actual_k': 5, 'was_impossible': False}),\n",
       " Prediction(uid='A36PLVN0UQ5OWU', iid='B008FHUFAU', r_ui=5.0, est=4.927814864263463, details={'actual_k': 1, 'was_impossible': False}),\n",
       " Prediction(uid='A38F0IV5UYTV7Q', iid='B000VK6TGI', r_ui=5.0, est=5, details={'actual_k': 5, 'was_impossible': False}),\n",
       " Prediction(uid='AB3TIJG8RHKT3', iid='B0032RPLSY', r_ui=5.0, est=4.169958337495666, details={'was_impossible': True, 'reason': 'User and/or item is unknown.'}),\n",
       " Prediction(uid='AZA2WN9YYAHQV', iid='B000CQC064', r_ui=5.0, est=5, details={'actual_k': 5, 'was_impossible': False}),\n",
       " Prediction(uid='A2NZAFS0OQAZNX', iid='B000KV61FC', r_ui=5.0, est=4.169958337495666, details={'was_impossible': True, 'reason': 'User and/or item is unknown.'}),\n",
       " Prediction(uid='A3GXDMZHD1LQ3C', iid='B000H0ZJHW', r_ui=4.0, est=4.008227356573542, details={'actual_k': 5, 'was_impossible': False}),\n",
       " Prediction(uid='A1US5IFQGB1KFQ', iid='B001AHFVHO', r_ui=4.0, est=4.039302882459582, details={'actual_k': 5, 'was_impossible': False}),\n",
       " Prediction(uid='A3CCUOA7UWYDF5', iid='B0032B0BD0', r_ui=3.0, est=3.063608314046942, details={'actual_k': 5, 'was_impossible': False}),\n",
       " Prediction(uid='A3I1L26DQVNHCA', iid='B002AQ0OS0', r_ui=1.0, est=3.720720720720721, details={'actual_k': 0, 'was_impossible': False}),\n",
       " Prediction(uid='A2QG4B0FCPOGW5', iid='B0014JUPTW', r_ui=5.0, est=4.993383261284472, details={'actual_k': 5, 'was_impossible': False}),\n",
       " Prediction(uid='A913PPWDZUF9E', iid='B000TQEWM2', r_ui=4.0, est=3.9891150391321752, details={'actual_k': 4, 'was_impossible': False}),\n",
       " Prediction(uid='A38OCDJQOAQ2XG', iid='B003CK2BQG', r_ui=4.0, est=4.063871638969962, details={'actual_k': 5, 'was_impossible': False}),\n",
       " Prediction(uid='A1SI7ZIDNJZ6ZR', iid='B0009F3POY', r_ui=1.0, est=4.169958337495666, details={'was_impossible': True, 'reason': 'User and/or item is unknown.'}),\n",
       " Prediction(uid='A26MBVPPXZN1YM', iid='B005VOOM4A', r_ui=5.0, est=4.991506380731508, details={'actual_k': 5, 'was_impossible': False}),\n",
       " Prediction(uid='ATNKYANM0VC5', iid='B004BKLHOS', r_ui=5.0, est=4.099526756461595, details={'actual_k': 1, 'was_impossible': False}),\n",
       " Prediction(uid='A3ER3V2E06DH7D', iid='B000CQID6U', r_ui=5.0, est=4.916207990586302, details={'actual_k': 5, 'was_impossible': False}),\n",
       " Prediction(uid='A2WE11EDLAQC29', iid='B004051BLS', r_ui=5.0, est=4.169958337495666, details={'was_impossible': True, 'reason': 'User and/or item is unknown.'}),\n",
       " Prediction(uid='A1P6HTMYCE8U76', iid='B004EE2UR4', r_ui=5.0, est=4.938789108574341, details={'actual_k': 4, 'was_impossible': False}),\n",
       " Prediction(uid='A2JO57OFQXBYYI', iid='B000NMJWZO', r_ui=5.0, est=4.902439024390244, details={'actual_k': 0, 'was_impossible': False}),\n",
       " Prediction(uid='A3LQORI2IH9FBT', iid='B000EHP62G', r_ui=5.0, est=4.169958337495666, details={'was_impossible': True, 'reason': 'User and/or item is unknown.'}),\n",
       " Prediction(uid='AA662TU9MTG7', iid='B002GJ9JY6', r_ui=5.0, est=4.989130696520919, details={'actual_k': 2, 'was_impossible': False}),\n",
       " Prediction(uid='A2H2FT8WV5X6SV', iid='B007JT7ARQ', r_ui=5.0, est=4.5, details={'actual_k': 0, 'was_impossible': False}),\n",
       " Prediction(uid='A35TBONXKUCPKX', iid='B000FI61OQ', r_ui=1.0, est=1.0377730796335447, details={'actual_k': 1, 'was_impossible': False}),\n",
       " Prediction(uid='A38REIKSG7FG9O', iid='B001BS4G6O', r_ui=5.0, est=4.912575921671396, details={'actual_k': 2, 'was_impossible': False}),\n",
       " Prediction(uid='A2RNTA5DG9F7RC', iid='B000H0ZJHW', r_ui=5.0, est=4.999191436046127, details={'actual_k': 4, 'was_impossible': False}),\n",
       " Prediction(uid='A3FUUS6P7X0HCB', iid='B003D4MW38', r_ui=1.0, est=1, details={'actual_k': 2, 'was_impossible': False}),\n",
       " Prediction(uid='AOUHT0TD6EM6R', iid='B007TJGZ54', r_ui=5.0, est=4.947660041779829, details={'actual_k': 3, 'was_impossible': False}),\n",
       " Prediction(uid='AN81JUYW2SL24', iid='B004ZIER34', r_ui=4.0, est=3.7794716645171604, details={'actual_k': 5, 'was_impossible': False}),\n",
       " Prediction(uid='ADD6MQGCGFGJF', iid='B003SSWCJI', r_ui=4.0, est=4.051264704504292, details={'actual_k': 5, 'was_impossible': False}),\n",
       " Prediction(uid='A1ZJ19LFI9AR9S', iid='B000Q611U6', r_ui=5.0, est=4.948278739940917, details={'actual_k': 2, 'was_impossible': False}),\n",
       " Prediction(uid='A2UPPLL368TXRJ', iid='B0029XLH4Y', r_ui=1.0, est=1.0141397251707676, details={'actual_k': 2, 'was_impossible': False}),\n",
       " Prediction(uid='A58VYTDIZJM77', iid='7310172001', r_ui=4.0, est=3.9939419640790232, details={'actual_k': 5, 'was_impossible': False}),\n",
       " Prediction(uid='A26JLN7O41U5PO', iid='B007Y59HVM', r_ui=4.0, est=4.031094488435417, details={'actual_k': 1, 'was_impossible': False}),\n",
       " Prediction(uid='AY83DBBVEJQHY', iid='B0009ETA76', r_ui=4.0, est=3.998498498498499, details={'actual_k': 1, 'was_impossible': False}),\n",
       " Prediction(uid='A1VLKSR4SKS098', iid='B001E5E0CE', r_ui=5.0, est=4.5, details={'actual_k': 0, 'was_impossible': False}),\n",
       " Prediction(uid='A1W9C4TZA5YCBL', iid='B007TJGY5K', r_ui=2.0, est=1.8740919035123733, details={'actual_k': 2, 'was_impossible': False}),\n",
       " Prediction(uid='A19FRW264WZTGP', iid='B007RTR9G0', r_ui=2.0, est=2.2636646352648517, details={'actual_k': 4, 'was_impossible': False}),\n",
       " Prediction(uid='ARQA29IJXR303', iid='B000H0ZJHW', r_ui=5.0, est=5, details={'actual_k': 3, 'was_impossible': False}),\n",
       " Prediction(uid='A1RCQ6WRMXE0ZN', iid='B001CWSKFC', r_ui=5.0, est=5, details={'actual_k': 5, 'was_impossible': False}),\n",
       " Prediction(uid='A10YG7VZ8DI63X', iid='B000FMZO8G', r_ui=5.0, est=4.9909154437456325, details={'actual_k': 1, 'was_impossible': False}),\n",
       " Prediction(uid='AJL92UH5GMOQD', iid='B002AUF0Q2', r_ui=5.0, est=4.169958337495666, details={'was_impossible': True, 'reason': 'User and/or item is unknown.'}),\n",
       " Prediction(uid='A3G8C334EDZPP7', iid='B000255OIG', r_ui=5.0, est=4.986732515903242, details={'actual_k': 5, 'was_impossible': False}),\n",
       " Prediction(uid='A2KUR76NAPC23S', iid='B005PIJQC0', r_ui=5.0, est=4.849936143039591, details={'actual_k': 1, 'was_impossible': False}),\n",
       " Prediction(uid='A2CU16YU1KEOUY', iid='B008FHUCNU', r_ui=5.0, est=5, details={'actual_k': 4, 'was_impossible': False}),\n",
       " Prediction(uid='A3UCY17BD0ELYR', iid='B0009XSXZM', r_ui=5.0, est=4.169958337495666, details={'was_impossible': True, 'reason': 'User and/or item is unknown.'}),\n",
       " Prediction(uid='A3N1TTB57J79UU', iid='B001EO5RFE', r_ui=5.0, est=4.169958337495666, details={'was_impossible': True, 'reason': 'User and/or item is unknown.'}),\n",
       " Prediction(uid='AO1ZN3OKHD3JZ', iid='B001AJ1ULS', r_ui=1.0, est=1.1016922187244265, details={'actual_k': 2, 'was_impossible': False}),\n",
       " Prediction(uid='A2BCW971WNEKXM', iid='B005K4Q37A', r_ui=5.0, est=5, details={'actual_k': 2, 'was_impossible': False}),\n",
       " Prediction(uid='A2D1FG0PPEWPCG', iid='B004MC0CNW', r_ui=5.0, est=4.9589750197855915, details={'actual_k': 5, 'was_impossible': False}),\n",
       " Prediction(uid='A2VUNZOFE843JG', iid='B004OVWQDA', r_ui=5.0, est=4.169958337495666, details={'was_impossible': True, 'reason': 'User and/or item is unknown.'}),\n",
       " Prediction(uid='A16CTQV8V0148Q', iid='B001E5DWW8', r_ui=5.0, est=4.169958337495666, details={'was_impossible': True, 'reason': 'User and/or item is unknown.'}),\n",
       " Prediction(uid='A28I98PKHZZKVB', iid='B0045XE32E', r_ui=4.0, est=4.067699300740784, details={'actual_k': 5, 'was_impossible': False}),\n",
       " Prediction(uid='AWEXV1R1AJEZN', iid='B000HDMV3E', r_ui=4.0, est=3.9872372372372373, details={'actual_k': 1, 'was_impossible': False}),\n",
       " Prediction(uid='A1215UUO1UMVCR', iid='B002GJ9JWS', r_ui=5.0, est=5, details={'actual_k': 2, 'was_impossible': False}),\n",
       " Prediction(uid='A28XT5OCKGN09X', iid='B004HOLD60', r_ui=5.0, est=4.98972292965775, details={'actual_k': 5, 'was_impossible': False}),\n",
       " Prediction(uid='A3U0S17XYK8XMJ', iid='B006BXV1H6', r_ui=5.0, est=3.099924835630693, details={'actual_k': 4, 'was_impossible': False}),\n",
       " Prediction(uid='A3B3F8S3RWQ4XI', iid='B000FVDWU4', r_ui=4.0, est=3.9962076480330553, details={'actual_k': 5, 'was_impossible': False}),\n",
       " Prediction(uid='A24T5MHFK3R9RN', iid='B000EVQWKC', r_ui=1.0, est=4.169958337495666, details={'was_impossible': True, 'reason': 'User and/or item is unknown.'}),\n",
       " Prediction(uid='A1N650C8SNBTHT', iid='B000CQE3HS', r_ui=5.0, est=5, details={'actual_k': 3, 'was_impossible': False}),\n",
       " Prediction(uid='A2AV085URZRF55', iid='B000CQG8KS', r_ui=5.0, est=4.947549654404572, details={'actual_k': 5, 'was_impossible': False}),\n",
       " Prediction(uid='AHOLW06PC47JA', iid='B004IJMVQK', r_ui=5.0, est=4.9944198950625855, details={'actual_k': 5, 'was_impossible': False}),\n",
       " Prediction(uid='A1A2PW8A6ZJH9Q', iid='B002DZIL24', r_ui=5.0, est=4.9765734265734265, details={'actual_k': 1, 'was_impossible': False}),\n",
       " Prediction(uid='A3I3CDH63BQQZO', iid='B000FBM46W', r_ui=5.0, est=5, details={'actual_k': 5, 'was_impossible': False}),\n",
       " Prediction(uid='A2P4DZLXFI2LU1', iid='B003Z6W32E', r_ui=5.0, est=5, details={'actual_k': 2, 'was_impossible': False}),\n",
       " Prediction(uid='APP8XWYYV4PAA', iid='B0015YJD1C', r_ui=5.0, est=5, details={'actual_k': 5, 'was_impossible': False}),\n",
       " Prediction(uid='A1Q8SW109EBWFN', iid='B006N3IE6A', r_ui=2.0, est=1.9848010333419912, details={'actual_k': 5, 'was_impossible': False}),\n",
       " Prediction(uid='A16YP6B8I7G0H9', iid='B000E48IMO', r_ui=5.0, est=4.435483870967742, details={'actual_k': 0, 'was_impossible': False}),\n",
       " Prediction(uid='A2EDTVVR9IFNLW', iid='B005VOOL00', r_ui=3.0, est=3.1125005982590754, details={'actual_k': 5, 'was_impossible': False}),\n",
       " Prediction(uid='ADPCK648WY0LZ', iid='B0016B7Z32', r_ui=1.0, est=1, details={'actual_k': 5, 'was_impossible': False}),\n",
       " Prediction(uid='A3CF9QL19W9ZCL', iid='B004HOOZEW', r_ui=5.0, est=5, details={'actual_k': 5, 'was_impossible': False}),\n",
       " Prediction(uid='A3T7V207KRDE2O', iid='B001OCKIP0', r_ui=2.0, est=3.8063123726648014, details={'actual_k': 1, 'was_impossible': False}),\n",
       " Prediction(uid='AH8DO0BBKJUVQ', iid='B001E5DRBO', r_ui=1.0, est=4.169958337495666, details={'was_impossible': True, 'reason': 'User and/or item is unknown.'}),\n",
       " Prediction(uid='A2C18CH1YC6BYT', iid='B004728MI4', r_ui=4.0, est=4.007669760591408, details={'actual_k': 5, 'was_impossible': False}),\n",
       " Prediction(uid='ACZJER77ZSMFZ', iid='B006N3I7JO', r_ui=4.0, est=3.9229990254447324, details={'actual_k': 3, 'was_impossible': False}),\n",
       " Prediction(uid='A2LQAZBIHSENH3', iid='B005K4Q1YA', r_ui=5.0, est=4.9492051992922725, details={'actual_k': 1, 'was_impossible': False}),\n",
       " Prediction(uid='A1IUGRT7PJ2IH0', iid='B006Y02OZO', r_ui=5.0, est=4.9189286462649315, details={'actual_k': 4, 'was_impossible': False}),\n",
       " Prediction(uid='A1EDUYYI7G27NN', iid='B000AYFATW', r_ui=5.0, est=4.975678137040431, details={'actual_k': 5, 'was_impossible': False}),\n",
       " Prediction(uid='AJ1ZEMJSJYDOC', iid='B0090X8IPM', r_ui=5.0, est=4.169958337495666, details={'was_impossible': True, 'reason': 'User and/or item is unknown.'}),\n",
       " Prediction(uid='A3A2NL6CDH3GWN', iid='B0040K41MY', r_ui=2.0, est=4.01249995458856, details={'actual_k': 3, 'was_impossible': False}),\n",
       " Prediction(uid='A3525L1EANL3TQ', iid='B000EQX6HO', r_ui=3.0, est=3.1753008895866035, details={'actual_k': 1, 'was_impossible': False}),\n",
       " Prediction(uid='A17FLA8HQOFVIG', iid='B007RTR8UM', r_ui=5.0, est=4.969230769230769, details={'actual_k': 1, 'was_impossible': False}),\n",
       " Prediction(uid='A2JHHYYOOO4DS6', iid='B0090X8IPM', r_ui=5.0, est=5, details={'actual_k': 2, 'was_impossible': False}),\n",
       " Prediction(uid='ASALATXVOO93K', iid='B0029NIIKK', r_ui=3.0, est=2.91146103938007, details={'actual_k': 4, 'was_impossible': False}),\n",
       " Prediction(uid='A4XQ04F3KY20W', iid='B001E5E25Y', r_ui=5.0, est=4.763962106571134, details={'actual_k': 5, 'was_impossible': False}),\n",
       " Prediction(uid='A3UV1TIR54OVCY', iid='B000CQG8K8', r_ui=5.0, est=5, details={'actual_k': 4, 'was_impossible': False}),\n",
       " Prediction(uid='A27WMCFVVBSO2K', iid='B002GJ9JWS', r_ui=5.0, est=4.169958337495666, details={'was_impossible': True, 'reason': 'User and/or item is unknown.'}),\n",
       " Prediction(uid='AGIH0ZDVWF5LW', iid='B000KV61FC', r_ui=1.0, est=1, details={'actual_k': 1, 'was_impossible': False}),\n",
       " Prediction(uid='AGJCU14E8LPQF', iid='B000EVQWKC', r_ui=5.0, est=2.847058823529412, details={'actual_k': 0, 'was_impossible': False}),\n",
       " Prediction(uid='A2I24UZNBCF9NR', iid='B006N3HZ6K', r_ui=4.0, est=3.9740804823918876, details={'actual_k': 2, 'was_impossible': False}),\n",
       " Prediction(uid='A9NXTC0HTPSDO', iid='B002TSA91G', r_ui=3.0, est=4.743034825870646, details={'actual_k': 1, 'was_impossible': False}),\n",
       " Prediction(uid='A2CS0ZTHRO5U3C', iid='B00004RAMY', r_ui=5.0, est=4.169958337495666, details={'was_impossible': True, 'reason': 'User and/or item is unknown.'}),\n",
       " Prediction(uid='A2NRKNW644Z7F4', iid='B003EML8PM', r_ui=4.0, est=4.118461538461538, details={'actual_k': 1, 'was_impossible': False}),\n",
       " Prediction(uid='ASV7V12XHAUW4', iid='B000KEPBBY', r_ui=5.0, est=4.169958337495666, details={'was_impossible': True, 'reason': 'User and/or item is unknown.'}),\n",
       " Prediction(uid='A364Z8P1YEV5NS', iid='B004YGQPCI', r_ui=5.0, est=3.8540463270220227, details={'actual_k': 2, 'was_impossible': False}),\n",
       " Prediction(uid='A2CWO64OI8D8TN', iid='B005K4Q1T0', r_ui=5.0, est=5, details={'actual_k': 2, 'was_impossible': False}),\n",
       " Prediction(uid='A231FGX8G2Q5EW', iid='B008RWUKXK', r_ui=1.0, est=3.8101329348283186, details={'actual_k': 4, 'was_impossible': False}),\n",
       " Prediction(uid='A2UQ0XJ3BYD41F', iid='B001BCVY4W', r_ui=5.0, est=4.9491930953850805, details={'actual_k': 4, 'was_impossible': False}),\n",
       " Prediction(uid='A2GY8OFEBD9YT9', iid='B003VXL0V6', r_ui=5.0, est=4.9773791406119585, details={'actual_k': 5, 'was_impossible': False}),\n",
       " Prediction(uid='A3I5J937BBW281', iid='B005GBIXZM', r_ui=1.0, est=1.1577197691953045, details={'actual_k': 4, 'was_impossible': False}),\n",
       " Prediction(uid='A3REK3OFONWB1Q', iid='B001LGGH54', r_ui=5.0, est=4.2348470794780955, details={'actual_k': 5, 'was_impossible': False}),\n",
       " Prediction(uid='A29SF0C9XJ92AD', iid='B000ED7M3Q', r_ui=2.0, est=4.169958337495666, details={'was_impossible': True, 'reason': 'User and/or item is unknown.'}),\n",
       " Prediction(uid='A3QYXYUH90DHDA', iid='B007TJGZ18', r_ui=5.0, est=5, details={'actual_k': 3, 'was_impossible': False}),\n",
       " Prediction(uid='A3NNBY5IQ88KQ4', iid='B001ELL60W', r_ui=5.0, est=4.169958337495666, details={'was_impossible': True, 'reason': 'User and/or item is unknown.'}),\n",
       " Prediction(uid='ACV205GSN3MKO', iid='B002AQ0OS0', r_ui=5.0, est=4.169958337495666, details={'was_impossible': True, 'reason': 'User and/or item is unknown.'}),\n",
       " Prediction(uid='A29JUMRL1US6YP', iid='B000WFU8O6', r_ui=5.0, est=5, details={'actual_k': 5, 'was_impossible': False}),\n",
       " Prediction(uid='A12AOQL4WMO276', iid='B003M61F0I', r_ui=5.0, est=4.696311241267365, details={'actual_k': 5, 'was_impossible': False}),\n",
       " Prediction(uid='AB5766FNITBNO', iid='B0060JNAE8', r_ui=5.0, est=4.169958337495666, details={'was_impossible': True, 'reason': 'User and/or item is unknown.'}),\n",
       " Prediction(uid='A2451D3YB44IJ3', iid='B007R1PGVS', r_ui=4.0, est=4.034779050736498, details={'actual_k': 1, 'was_impossible': False}),\n",
       " Prediction(uid='A2MSAEEPBU81I6', iid='B0029NIFXK', r_ui=5.0, est=4.9988498764349805, details={'actual_k': 5, 'was_impossible': False}),\n",
       " Prediction(uid='A17O9AHKHK66AI', iid='B005VOOLXM', r_ui=2.0, est=1.982123552758815, details={'actual_k': 5, 'was_impossible': False}),\n",
       " Prediction(uid='A12PCFKN5CDT97', iid='B000VTRI32', r_ui=5.0, est=4.973287947906159, details={'actual_k': 3, 'was_impossible': False}),\n",
       " Prediction(uid='AJRHMTSVM2D16', iid='B0019QT66I', r_ui=5.0, est=4.967067123152246, details={'actual_k': 5, 'was_impossible': False}),\n",
       " Prediction(uid='A3PDXN7WC1MGT1', iid='B004Q3LBTG', r_ui=2.0, est=4.169958337495666, details={'was_impossible': True, 'reason': 'User and/or item is unknown.'}),\n",
       " Prediction(uid='A2989HCATUSNC5', iid='B005V9UG18', r_ui=5.0, est=5, details={'actual_k': 2, 'was_impossible': False}),\n",
       " Prediction(uid='A25MRVI1HJ4BUE', iid='B003TIVBSU', r_ui=5.0, est=4.169958337495666, details={'was_impossible': True, 'reason': 'User and/or item is unknown.'}),\n",
       " Prediction(uid='AE0CTLWSIGE9I', iid='B007RTR8UC', r_ui=4.0, est=4.439470365699874, details={'actual_k': 1, 'was_impossible': False}),\n",
       " Prediction(uid='A3TVZM3ZIXG8YW', iid='B000QSN7P6', r_ui=1.0, est=1, details={'actual_k': 5, 'was_impossible': False}),\n",
       " Prediction(uid='A13HRSMJ5TOWEZ', iid='B000CQC0B4', r_ui=5.0, est=4.99396407834198, details={'actual_k': 5, 'was_impossible': False}),\n",
       " Prediction(uid='A3YQT4P9QRVW0', iid='B001LQCOIS', r_ui=2.0, est=1.9207134637514387, details={'actual_k': 1, 'was_impossible': False}),\n",
       " Prediction(uid='A2SH6KIZQ5LMMG', iid='B006N3I29E', r_ui=5.0, est=5, details={'actual_k': 4, 'was_impossible': False}),\n",
       " Prediction(uid='A1BXG0K7UD9CTD', iid='B0058AMY10', r_ui=1.0, est=1, details={'actual_k': 5, 'was_impossible': False}),\n",
       " Prediction(uid='A1WM5VQTJ5X04G', iid='B001VIY7O0', r_ui=5.0, est=4.169958337495666, details={'was_impossible': True, 'reason': 'User and/or item is unknown.'}),\n",
       " Prediction(uid='A2LDEJDDGSWNJD', iid='B000KV61FC', r_ui=3.0, est=2.999232881136951, details={'actual_k': 1, 'was_impossible': False}),\n",
       " Prediction(uid='A2YMNR5K7UN57Q', iid='B000UBD88A', r_ui=5.0, est=4.169958337495666, details={'was_impossible': True, 'reason': 'User and/or item is unknown.'}),\n",
       " Prediction(uid='A36TXQEOEX8PQ1', iid='B001IZIEGS', r_ui=5.0, est=4.169958337495666, details={'was_impossible': True, 'reason': 'User and/or item is unknown.'}),\n",
       " Prediction(uid='A1XQAJ9EZFU120', iid='B000KV7ZGQ', r_ui=4.0, est=4.000767118863049, details={'actual_k': 1, 'was_impossible': False}),\n",
       " Prediction(uid='A26X7W5UM5QFT4', iid='B001E5E1LE', r_ui=4.0, est=3.843137254901961, details={'actual_k': 0, 'was_impossible': False}),\n",
       " Prediction(uid='A22VNXHU6IZ5MT', iid='B004E4HUMY', r_ui=2.0, est=3.8641968357349095, details={'actual_k': 2, 'was_impossible': False}),\n",
       " Prediction(uid='A2ECZB3IFXNUZM', iid='B008JKSJJ2', r_ui=5.0, est=4.986916253475331, details={'actual_k': 5, 'was_impossible': False}),\n",
       " Prediction(uid='AQRV77CBM8ZZG', iid='B000EHIVIW', r_ui=5.0, est=4.169958337495666, details={'was_impossible': True, 'reason': 'User and/or item is unknown.'}),\n",
       " Prediction(uid='A2SAG6ZHHOVFEM', iid='B001BLZVQ0', r_ui=5.0, est=4.169958337495666, details={'was_impossible': True, 'reason': 'User and/or item is unknown.'}),\n",
       " Prediction(uid='A3BAQ9DKXRHBLN', iid='B002VLZ8D0', r_ui=5.0, est=4.169958337495666, details={'was_impossible': True, 'reason': 'User and/or item is unknown.'}),\n",
       " Prediction(uid='A2KLM34ZYB58SP', iid='B005ZBZM52', r_ui=3.0, est=2.7592126974149442, details={'actual_k': 1, 'was_impossible': False}),\n",
       " Prediction(uid='A8GLWWOM0OMFI', iid='B000WVYB8Y', r_ui=1.0, est=1.0154948921515152, details={'actual_k': 5, 'was_impossible': False}),\n",
       " Prediction(uid='A1GO939KXET3A', iid='B000PDWBKO', r_ui=4.0, est=4.079640237299925, details={'actual_k': 2, 'was_impossible': False}),\n",
       " Prediction(uid='AKI4BFD5QPKPD', iid='B002LN1ME2', r_ui=4.0, est=3.9928753682740465, details={'actual_k': 5, 'was_impossible': False}),\n",
       " Prediction(uid='A34U3ZEKNPKX8B', iid='B000CRIBCA', r_ui=2.0, est=4.169958337495666, details={'was_impossible': True, 'reason': 'User and/or item is unknown.'}),\n",
       " Prediction(uid='A2B64JLOO03V04', iid='B000NBQUNW', r_ui=5.0, est=4.169958337495666, details={'was_impossible': True, 'reason': 'User and/or item is unknown.'}),\n",
       " Prediction(uid='A21XWCVQOL9EMV', iid='B007TJGY5K', r_ui=5.0, est=4.912289466171853, details={'actual_k': 1, 'was_impossible': False}),\n",
       " Prediction(uid='A13HRSMJ5TOWEZ', iid='B003D4MW38', r_ui=5.0, est=4.340055799226569, details={'actual_k': 5, 'was_impossible': False}),\n",
       " Prediction(uid='A2EIR9OOMS02YZ', iid='B000EVIDWW', r_ui=5.0, est=5, details={'actual_k': 2, 'was_impossible': False}),\n",
       " Prediction(uid='A1BXC01T74MTEK', iid='B001EO77FW', r_ui=5.0, est=4.998810315858938, details={'actual_k': 3, 'was_impossible': False}),\n",
       " Prediction(uid='A2K0CQ6XQP462U', iid='B003FDG4K4', r_ui=5.0, est=4.970331217369501, details={'actual_k': 2, 'was_impossible': False}),\n",
       " Prediction(uid='A3W4D8XOGLWUN5', iid='B004YGQPCI', r_ui=4.0, est=3.2754887326918434, details={'actual_k': 5, 'was_impossible': False}),\n",
       " Prediction(uid='A30V1I648K4IKD', iid='B000WFEN74', r_ui=4.0, est=3.9670387788286376, details={'actual_k': 5, 'was_impossible': False}),\n",
       " Prediction(uid='AFCVGRQLNHW8F', iid='B001E4S8GO', r_ui=5.0, est=4.169958337495666, details={'was_impossible': True, 'reason': 'User and/or item is unknown.'}),\n",
       " Prediction(uid='ADSHWWYEYIAN8', iid='B0034EDMCW', r_ui=5.0, est=4.976628688518125, details={'actual_k': 3, 'was_impossible': False}),\n",
       " Prediction(uid='A2Y8IDC1FKGNJC', iid='B001HTP04E', r_ui=5.0, est=5, details={'actual_k': 4, 'was_impossible': False}),\n",
       " Prediction(uid='A4VAISNKHO5IG', iid='B0008IT4OM', r_ui=2.0, est=4.169958337495666, details={'was_impossible': True, 'reason': 'User and/or item is unknown.'}),\n",
       " Prediction(uid='A3HAA7H8PBVM78', iid='B0061IULW2', r_ui=5.0, est=4.365424069670671, details={'actual_k': 5, 'was_impossible': False}),\n",
       " Prediction(uid='A146QH8GQ91779', iid='B001XSMANI', r_ui=5.0, est=4.169958337495666, details={'was_impossible': True, 'reason': 'User and/or item is unknown.'}),\n",
       " Prediction(uid='A2FRAS05LEI6JJ', iid='B0044CPA28', r_ui=1.0, est=4.057359307359308, details={'actual_k': 1, 'was_impossible': False}),\n",
       " Prediction(uid='A25C2M3QF9G7OQ', iid='B002IEVJRY', r_ui=5.0, est=4.033788117029526, details={'actual_k': 5, 'was_impossible': False}),\n",
       " Prediction(uid='A740KUBAB2GXL', iid='B00817GPWQ', r_ui=5.0, est=4.844533874299224, details={'actual_k': 3, 'was_impossible': False}),\n",
       " Prediction(uid='A1UC50DYFPSXYD', iid='B003VXFK44', r_ui=5.0, est=4.9197964195830926, details={'actual_k': 5, 'was_impossible': False}),\n",
       " Prediction(uid='A33HGS0F6NVBRA', iid='B002QWP89S', r_ui=5.0, est=4.169958337495666, details={'was_impossible': True, 'reason': 'User and/or item is unknown.'}),\n",
       " Prediction(uid='A3OTTW2Y6Z2H28', iid='B000ENUC3S', r_ui=1.0, est=1, details={'actual_k': 2, 'was_impossible': False}),\n",
       " Prediction(uid='A2IJFCJVF6CZCD', iid='B000G7VYRA', r_ui=5.0, est=4.74339094257558, details={'actual_k': 3, 'was_impossible': False}),\n",
       " Prediction(uid='A172E6Q51JWBUE', iid='B000GAT6NG', r_ui=5.0, est=4.990296446202988, details={'actual_k': 2, 'was_impossible': False}),\n",
       " Prediction(uid='A2I05FGBTCRRB8', iid='B0061IUIDY', r_ui=5.0, est=5, details={'actual_k': 5, 'was_impossible': False}),\n",
       " Prediction(uid='A2WBB4O1OACF1Y', iid='B001NXM3GM', r_ui=5.0, est=4.169958337495666, details={'was_impossible': True, 'reason': 'User and/or item is unknown.'}),\n",
       " Prediction(uid='A21MJZ24BN4Y4F', iid='B000UBD88A', r_ui=5.0, est=4.970755246791605, details={'actual_k': 1, 'was_impossible': False}),\n",
       " Prediction(uid='A1HRYC60VTMYC0', iid='B0006345PW', r_ui=5.0, est=4.935586862101397, details={'actual_k': 5, 'was_impossible': False}),\n",
       " Prediction(uid='A244AI43K7GGAR', iid='B000REI2X6', r_ui=5.0, est=4.169958337495666, details={'was_impossible': True, 'reason': 'User and/or item is unknown.'}),\n",
       " Prediction(uid='A13J57AACBVI5I', iid='B0039556K2', r_ui=5.0, est=4.910497532329137, details={'actual_k': 5, 'was_impossible': False}),\n",
       " Prediction(uid='A2XSA4B9JA99U2', iid='B000CQG8K8', r_ui=5.0, est=5, details={'actual_k': 3, 'was_impossible': False}),\n",
       " Prediction(uid='AN3F3VMOVXCEI', iid='B0083T5TAQ', r_ui=1.0, est=4.169958337495666, details={'was_impossible': True, 'reason': 'User and/or item is unknown.'}),\n",
       " Prediction(uid='A3R6LL7MO05CPZ', iid='B0018KLPFK', r_ui=5.0, est=4.998461205737395, details={'actual_k': 3, 'was_impossible': False}),\n",
       " Prediction(uid='AYGEP8I4BQ3CK', iid='B003GTR8IO', r_ui=3.0, est=3.836755404615449, details={'actual_k': 2, 'was_impossible': False}),\n",
       " Prediction(uid='A2YR96JDGCG7WT', iid='B0029NVJNI', r_ui=5.0, est=5, details={'actual_k': 3, 'was_impossible': False}),\n",
       " Prediction(uid='AJN2TAVFBN7FI', iid='B000EVOSE4', r_ui=5.0, est=4.169958337495666, details={'was_impossible': True, 'reason': 'User and/or item is unknown.'}),\n",
       " Prediction(uid='AVD0L89FR68BT', iid='B005HGAV8I', r_ui=5.0, est=4.169958337495666, details={'was_impossible': True, 'reason': 'User and/or item is unknown.'}),\n",
       " Prediction(uid='A2TTPQ4HMYR27F', iid='B003Z6W32E', r_ui=5.0, est=5, details={'actual_k': 3, 'was_impossible': False}),\n",
       " Prediction(uid='A3H4WBAZ6YPTW6', iid='B005K4Q37A', r_ui=1.0, est=1.0493683684754944, details={'actual_k': 3, 'was_impossible': False}),\n",
       " Prediction(uid='A2FN03182R5058', iid='B001189I3A', r_ui=3.0, est=3.739130434782609, details={'actual_k': 0, 'was_impossible': False}),\n",
       " Prediction(uid='A3FQZH8PJB535A', iid='B005VOOM4A', r_ui=5.0, est=4.951287926206982, details={'actual_k': 5, 'was_impossible': False}),\n",
       " Prediction(uid='AJ1ZEMJSJYDOC', iid='B003GTR8IO', r_ui=5.0, est=4.169958337495666, details={'was_impossible': True, 'reason': 'User and/or item is unknown.'}),\n",
       " Prediction(uid='A39S79CVZNR40W', iid='B000ORY230', r_ui=5.0, est=4.169958337495666, details={'was_impossible': True, 'reason': 'User and/or item is unknown.'}),\n",
       " Prediction(uid='A3OEPL7TJPSDED', iid='B005K4Q4LK', r_ui=5.0, est=4.97438553704399, details={'actual_k': 2, 'was_impossible': False}),\n",
       " Prediction(uid='A3J0IL133QZ3H4', iid='B000EHL21U', r_ui=5.0, est=4.911424903722722, details={'actual_k': 1, 'was_impossible': False}),\n",
       " Prediction(uid='A2UQXVFOFKAJFY', iid='B001EO5RLI', r_ui=5.0, est=4.169958337495666, details={'was_impossible': True, 'reason': 'User and/or item is unknown.'}),\n",
       " Prediction(uid='AGLBXNX8O9JSX', iid='B0075JTH7Q', r_ui=1.0, est=1.0974528382101174, details={'actual_k': 2, 'was_impossible': False}),\n",
       " Prediction(uid='AHCITEFRLTK48', iid='B001181NBA', r_ui=5.0, est=4.99805756657499, details={'actual_k': 4, 'was_impossible': False}),\n",
       " Prediction(uid='A2LUMWYGAOS4ZR', iid='B000ZSZ5S4', r_ui=2.0, est=2.0322521633147734, details={'actual_k': 5, 'was_impossible': False}),\n",
       " Prediction(uid='A18HMM4NUF4CJA', iid='B002GKEK7G', r_ui=5.0, est=4.169958337495666, details={'was_impossible': True, 'reason': 'User and/or item is unknown.'}),\n",
       " Prediction(uid='A2UM324B00HBC8', iid='B0061IULW2', r_ui=5.0, est=5, details={'actual_k': 1, 'was_impossible': False}),\n",
       " Prediction(uid='AEX4E7PPSEG36', iid='B002FJM9SU', r_ui=5.0, est=4.169958337495666, details={'was_impossible': True, 'reason': 'User and/or item is unknown.'}),\n",
       " Prediction(uid='A1UZUQTDFG385R', iid='B007TJGZ18', r_ui=3.0, est=3.036413525119886, details={'actual_k': 3, 'was_impossible': False}),\n",
       " Prediction(uid='A3SZITOTQ0KPQN', iid='B0015MY6PC', r_ui=5.0, est=5, details={'actual_k': 2, 'was_impossible': False}),\n",
       " Prediction(uid='AON62QL3IQBYC', iid='B002OMV09W', r_ui=4.0, est=4.169958337495666, details={'was_impossible': True, 'reason': 'User and/or item is unknown.'}),\n",
       " Prediction(uid='A2EXT8FXO9E24E', iid='B008FHUGNQ', r_ui=5.0, est=4.964726031330993, details={'actual_k': 3, 'was_impossible': False}),\n",
       " Prediction(uid='A2KRRM1ZSINL1W', iid='B000CNB4LE', r_ui=5.0, est=4.956045581029537, details={'actual_k': 2, 'was_impossible': False}),\n",
       " Prediction(uid='AG90OGHDGOOVH', iid='B005VOONGM', r_ui=3.0, est=3.0469044944239445, details={'actual_k': 5, 'was_impossible': False}),\n",
       " Prediction(uid='A3HQAPXAJV7PRX', iid='B007K449CE', r_ui=4.0, est=4.783238429503627, details={'actual_k': 5, 'was_impossible': False}),\n",
       " Prediction(uid='A2EDTVVR9IFNLW', iid='B002IEZJMA', r_ui=2.0, est=3.53968400118188, details={'actual_k': 4, 'was_impossible': False}),\n",
       " Prediction(uid='A18O55X8GSYWY1', iid='B0051ZCNIQ', r_ui=5.0, est=4.912261429606025, details={'actual_k': 2, 'was_impossible': False}),\n",
       " Prediction(uid='A324N8FYP1DXRZ', iid='B003A23HZK', r_ui=1.0, est=1.112442396313364, details={'actual_k': 1, 'was_impossible': False}),\n",
       " Prediction(uid='AT1I7H44WVWDD', iid='B000FBKFV8', r_ui=5.0, est=4.997630388920131, details={'actual_k': 5, 'was_impossible': False}),\n",
       " Prediction(uid='A1DOBB5XZ1KMZ5', iid='B006WYSFZK', r_ui=5.0, est=4.978777759993717, details={'actual_k': 5, 'was_impossible': False}),\n",
       " Prediction(uid='A1Z54EM24Y40LL', iid='B00474VPLI', r_ui=5.0, est=4.97281281266635, details={'actual_k': 3, 'was_impossible': False}),\n",
       " Prediction(uid='A3DSW2FL434RM', iid='B0000DJDJZ', r_ui=5.0, est=4.169958337495666, details={'was_impossible': True, 'reason': 'User and/or item is unknown.'}),\n",
       " Prediction(uid='AV3MFXRMBTEIU', iid='B001EPPC80', r_ui=5.0, est=5, details={'actual_k': 1, 'was_impossible': False}),\n",
       " Prediction(uid='A23PYE23K916II', iid='B000EVG8HY', r_ui=5.0, est=4.9991397081069735, details={'actual_k': 5, 'was_impossible': False}),\n",
       " Prediction(uid='A2N3N439PRGV3I', iid='B003SSWCJI', r_ui=5.0, est=5, details={'actual_k': 5, 'was_impossible': False}),\n",
       " Prediction(uid='A2D1LPEUCTNT8X', iid='B000ED7M2W', r_ui=5.0, est=4.651162790697675, details={'actual_k': 0, 'was_impossible': False}),\n",
       " Prediction(uid='A1Z2VB3WORG5HQ', iid='B001EQ4H7G', r_ui=5.0, est=4.8580512071155235, details={'actual_k': 5, 'was_impossible': False}),\n",
       " Prediction(uid='A2CMA4DBA44RA4', iid='B005HG9ET0', r_ui=3.0, est=2.9934499321535855, details={'actual_k': 2, 'was_impossible': False}),\n",
       " Prediction(uid='A1EPICWPVK767I', iid='B000NMJWZO', r_ui=5.0, est=4.169958337495666, details={'was_impossible': True, 'reason': 'User and/or item is unknown.'}),\n",
       " Prediction(uid='A1GPF475C8GRJD', iid='B007JFMH8M', r_ui=5.0, est=4.169958337495666, details={'was_impossible': True, 'reason': 'User and/or item is unknown.'}),\n",
       " Prediction(uid='A2ESI8PZ7N4ZBR', iid='B0006I5M2M', r_ui=5.0, est=4.942900405831994, details={'actual_k': 5, 'was_impossible': False}),\n",
       " Prediction(uid='A1S5XHBZIYOGRE', iid='B002D4DY8G', r_ui=5.0, est=3.0923462538241075, details={'actual_k': 2, 'was_impossible': False}),\n",
       " Prediction(uid='A1RXX18AE56BOW', iid='B001D0DMME', r_ui=5.0, est=4.954390280249239, details={'actual_k': 3, 'was_impossible': False}),\n",
       " Prediction(uid='A3DRRWH0YZTJGX', iid='B002CENRLG', r_ui=5.0, est=4.169958337495666, details={'was_impossible': True, 'reason': 'User and/or item is unknown.'}),\n",
       " Prediction(uid='AGGK2X8P26FFY', iid='B000EDGB7E', r_ui=3.0, est=3.0034223848940957, details={'actual_k': 4, 'was_impossible': False}),\n",
       " Prediction(uid='A2IAWWN1C9KOE', iid='B0030VJ9K8', r_ui=5.0, est=4.856680461593054, details={'actual_k': 2, 'was_impossible': False}),\n",
       " Prediction(uid='A6LHCT7P53RSA', iid='B00438XVGU', r_ui=5.0, est=5, details={'actual_k': 1, 'was_impossible': False}),\n",
       " Prediction(uid='A3VN2FZ8EGEBJF', iid='B001E5E0CE', r_ui=3.0, est=4.169958337495666, details={'was_impossible': True, 'reason': 'User and/or item is unknown.'}),\n",
       " Prediction(uid='A3IW0L9LJIG94U', iid='B003NZHOQ2', r_ui=5.0, est=4.900965088187143, details={'actual_k': 5, 'was_impossible': False}),\n",
       " Prediction(uid='A2IT7A6SKJELLN', iid='B007JFMH8M', r_ui=5.0, est=4.169958337495666, details={'was_impossible': True, 'reason': 'User and/or item is unknown.'}),\n",
       " Prediction(uid='A3B752AYZDGULC', iid='B000NMJWZO', r_ui=5.0, est=4.169958337495666, details={'was_impossible': True, 'reason': 'User and/or item is unknown.'}),\n",
       " Prediction(uid='A12B203CDL7ZOA', iid='B007RTR8UM', r_ui=5.0, est=4.969230769230769, details={'actual_k': 1, 'was_impossible': False}),\n",
       " Prediction(uid='A27CHILBK6HIL2', iid='B004JRO1S2', r_ui=3.0, est=3.64537795992714, details={'actual_k': 1, 'was_impossible': False}),\n",
       " Prediction(uid='A3L4A28XM35EYU', iid='B000UBD88A', r_ui=5.0, est=4.970755246791605, details={'actual_k': 1, 'was_impossible': False}),\n",
       " Prediction(uid='A1FA334QG2HYY5', iid='B001F0RRU0', r_ui=5.0, est=5, details={'actual_k': 1, 'was_impossible': False}),\n",
       " Prediction(uid='A1WX42M589VAMQ', iid='B004SRFYMK', r_ui=1.0, est=1.1435127927081532, details={'actual_k': 5, 'was_impossible': False}),\n",
       " Prediction(uid='A2FWZ58M6IQMD7', iid='B000CRIBCA', r_ui=1.0, est=3.0816326530612246, details={'actual_k': 0, 'was_impossible': False}),\n",
       " Prediction(uid='AKCZIJ6ZHE41D', iid='B001OCBT3U', r_ui=3.0, est=2.6190750201863775, details={'actual_k': 2, 'was_impossible': False}),\n",
       " Prediction(uid='AMKEJ1FF975P5', iid='B001D0DMME', r_ui=5.0, est=4.963185385876129, details={'actual_k': 4, 'was_impossible': False}),\n",
       " Prediction(uid='A2DY1A4SRQ0XOE', iid='B0015YJD1C', r_ui=5.0, est=4.919675990327915, details={'actual_k': 2, 'was_impossible': False}),\n",
       " Prediction(uid='AG6TX1ZJHLMO7', iid='B006Q7YG56', r_ui=3.0, est=2.9341248984030064, details={'actual_k': 5, 'was_impossible': False}),\n",
       " Prediction(uid='A27YKN5IIUEILY', iid='B003VXHGDM', r_ui=5.0, est=5, details={'actual_k': 5, 'was_impossible': False}),\n",
       " Prediction(uid='ANOLI5GG4FQR0', iid='B001EO5Y8Y', r_ui=5.0, est=5, details={'actual_k': 5, 'was_impossible': False}),\n",
       " Prediction(uid='A1A0MBT5LKK8U9', iid='B000FBKFRW', r_ui=5.0, est=4.794177744210753, details={'actual_k': 5, 'was_impossible': False}),\n",
       " Prediction(uid='AGZKJ1RCAT9Z9', iid='B001YJBLMM', r_ui=5.0, est=4.392156862745098, details={'actual_k': 0, 'was_impossible': False}),\n",
       " Prediction(uid='A30IP3E4MDQ36', iid='B008O3G2K2', r_ui=5.0, est=4.870726075332001, details={'actual_k': 5, 'was_impossible': False}),\n",
       " Prediction(uid='A3NEAETOSXDBOM', iid='B004TPKAN4', r_ui=5.0, est=4.028708133971292, details={'actual_k': 0, 'was_impossible': False}),\n",
       " Prediction(uid='A3LUI0FO1SUENT', iid='B008FHUGNQ', r_ui=2.0, est=1.9656552768751996, details={'actual_k': 2, 'was_impossible': False}),\n",
       " Prediction(uid='A1KNHNEMQR2BUX', iid='B000GZYAN2', r_ui=5.0, est=4.169958337495666, details={'was_impossible': True, 'reason': 'User and/or item is unknown.'}),\n",
       " Prediction(uid='A1L7NHY38W04IG', iid='B00305L330', r_ui=5.0, est=4.997197338781497, details={'actual_k': 1, 'was_impossible': False}),\n",
       " Prediction(uid='A23OU39W2GK58R', iid='B000G2UUOS', r_ui=5.0, est=4.169958337495666, details={'was_impossible': True, 'reason': 'User and/or item is unknown.'}),\n",
       " Prediction(uid='A11TOXC5W91LW4', iid='B004CLCEDE', r_ui=4.0, est=4.169958337495666, details={'was_impossible': True, 'reason': 'User and/or item is unknown.'}),\n",
       " Prediction(uid='A3GOAJ20MMKZTJ', iid='B000NMJWZO', r_ui=5.0, est=4.169958337495666, details={'was_impossible': True, 'reason': 'User and/or item is unknown.'}),\n",
       " Prediction(uid='A17HMM1M7T9PJ1', iid='B001J9QBU4', r_ui=5.0, est=5, details={'actual_k': 5, 'was_impossible': False}),\n",
       " Prediction(uid='A34JBYZV3YSZ2S', iid='B001OHX1ZY', r_ui=1.0, est=1.0812672176308533, details={'actual_k': 1, 'was_impossible': False}),\n",
       " Prediction(uid='A10KR3J5XH4ODQ', iid='B002AQP5MK', r_ui=4.0, est=4.414893617021277, details={'actual_k': 0, 'was_impossible': False}),\n",
       " Prediction(uid='A3AWV00ZU7MSK1', iid='B000VK8AVK', r_ui=5.0, est=4.981052566357183, details={'actual_k': 5, 'was_impossible': False}),\n",
       " Prediction(uid='A35EFSNM9CHZ4K', iid='B000E1VF86', r_ui=5.0, est=5, details={'actual_k': 1, 'was_impossible': False}),\n",
       " Prediction(uid='A18KR83EKNBPZ3', iid='B000VTTAMY', r_ui=5.0, est=5, details={'actual_k': 3, 'was_impossible': False}),\n",
       " Prediction(uid='AP6ZL52YA27W5', iid='B001BCXTGS', r_ui=3.0, est=2.981606960220169, details={'actual_k': 2, 'was_impossible': False}),\n",
       " Prediction(uid='A2F0US2MIZNIOK', iid='B001AS1A4Q', r_ui=5.0, est=5, details={'actual_k': 1, 'was_impossible': False}),\n",
       " Prediction(uid='A3HQ03VWC4T4OE', iid='B000UBD88A', r_ui=2.0, est=4.169958337495666, details={'was_impossible': True, 'reason': 'User and/or item is unknown.'}),\n",
       " Prediction(uid='A1KKXUW8LMDR21', iid='B007PA33NY', r_ui=4.0, est=3.921782953533954, details={'actual_k': 2, 'was_impossible': False}),\n",
       " Prediction(uid='A1C8T3QR25A8O9', iid='B000UBH9YE', r_ui=3.0, est=4.169958337495666, details={'was_impossible': True, 'reason': 'User and/or item is unknown.'}),\n",
       " Prediction(uid='A3OC42X7H74D1Y', iid='B001EQ55RW', r_ui=4.0, est=4.591016165781226, details={'actual_k': 4, 'was_impossible': False}),\n",
       " Prediction(uid='A13F64BC635LHD', iid='B005GRCWDU', r_ui=5.0, est=4.929017092424267, details={'actual_k': 5, 'was_impossible': False}),\n",
       " Prediction(uid='A2F6G5AOM599KM', iid='B000H241DS', r_ui=5.0, est=4.169958337495666, details={'was_impossible': True, 'reason': 'User and/or item is unknown.'}),\n",
       " Prediction(uid='A1BEETY6EHAP90', iid='B007TJGZ54', r_ui=1.0, est=1, details={'actual_k': 3, 'was_impossible': False}),\n",
       " Prediction(uid='AISFO872U2MI4', iid='B002GKEK7G', r_ui=1.0, est=1.002802661218503, details={'actual_k': 1, 'was_impossible': False}),\n",
       " Prediction(uid='A1NRKYS71RZ9U', iid='B000EVG8H4', r_ui=5.0, est=4.169958337495666, details={'was_impossible': True, 'reason': 'User and/or item is unknown.'}),\n",
       " Prediction(uid='A5CISGCLH8L7B', iid='B001D09KAM', r_ui=5.0, est=4.956801783069281, details={'actual_k': 4, 'was_impossible': False}),\n",
       " Prediction(uid='A1G8451XIDKWIM', iid='B000LKXCD6', r_ui=4.0, est=4.169958337495666, details={'was_impossible': True, 'reason': 'User and/or item is unknown.'}),\n",
       " Prediction(uid='A1JBB01LAK69LV', iid='B00472I5A4', r_ui=4.0, est=3.9813031750491774, details={'actual_k': 5, 'was_impossible': False}),\n",
       " Prediction(uid='A5E9PDZJWG5N4', iid='B000CQC064', r_ui=5.0, est=5, details={'actual_k': 5, 'was_impossible': False}),\n",
       " Prediction(uid='AW6CZ60A1PFDN', iid='B0013A0QXC', r_ui=5.0, est=4.169958337495666, details={'was_impossible': True, 'reason': 'User and/or item is unknown.'}),\n",
       " Prediction(uid='ADHYEIYUDKL1K', iid='B0010B6IFY', r_ui=4.0, est=4.826467914114466, details={'actual_k': 2, 'was_impossible': False}),\n",
       " Prediction(uid='A10AWICREVLZBR', iid='B001P3NU30', r_ui=5.0, est=4.169958337495666, details={'was_impossible': True, 'reason': 'User and/or item is unknown.'}),\n",
       " Prediction(uid='A28OB1QLXN5BM6', iid='B005IW4WFY', r_ui=4.0, est=4.077024371601496, details={'actual_k': 4, 'was_impossible': False}),\n",
       " Prediction(uid='AXHETL0M8XZPT', iid='B006Q7YG24', r_ui=4.0, est=3.9384973867438227, details={'actual_k': 5, 'was_impossible': False}),\n",
       " Prediction(uid='A20ZM1V1IRQHH', iid='B000FVBYCW', r_ui=5.0, est=5, details={'actual_k': 5, 'was_impossible': False}),\n",
       " Prediction(uid='A3EJ0IRBMGEYNV', iid='B005K4Q4LK', r_ui=1.0, est=1, details={'actual_k': 1, 'was_impossible': False}),\n",
       " Prediction(uid='AA4P4G08YLULB', iid='B005PXZ6JM', r_ui=5.0, est=4.169958337495666, details={'was_impossible': True, 'reason': 'User and/or item is unknown.'}),\n",
       " Prediction(uid='A33LK1L2UWH9GK', iid='B0030VJ8YU', r_ui=5.0, est=5, details={'actual_k': 3, 'was_impossible': False}),\n",
       " Prediction(uid='A3TQ9AGVZBUT0G', iid='B0012C2GFM', r_ui=5.0, est=4.169958337495666, details={'was_impossible': True, 'reason': 'User and/or item is unknown.'}),\n",
       " Prediction(uid='A24BG4B6F3NUT3', iid='B001J9QBU4', r_ui=5.0, est=5, details={'actual_k': 1, 'was_impossible': False}),\n",
       " Prediction(uid='A2XBS6NAK8XE6N', iid='B006N3HZ6K', r_ui=3.0, est=2.989192504744513, details={'actual_k': 3, 'was_impossible': False}),\n",
       " Prediction(uid='A2CZCRUK0P7X7G', iid='B0098WV8F2', r_ui=5.0, est=4.169958337495666, details={'was_impossible': True, 'reason': 'User and/or item is unknown.'}),\n",
       " Prediction(uid='A22SDYPN7DWQ97', iid='B000255OIG', r_ui=5.0, est=4.999139017936221, details={'actual_k': 5, 'was_impossible': False}),\n",
       " Prediction(uid='A2IDZZAW85KW10', iid='B001EQ4HVC', r_ui=1.0, est=4.169958337495666, details={'was_impossible': True, 'reason': 'User and/or item is unknown.'}),\n",
       " Prediction(uid='A2W1OU0UBB3RDX', iid='B0029ZAOW8', r_ui=5.0, est=4.799674701365188, details={'actual_k': 1, 'was_impossible': False}),\n",
       " Prediction(uid='A1D95SK84X58RW', iid='B00004RAMY', r_ui=5.0, est=4.169958337495666, details={'was_impossible': True, 'reason': 'User and/or item is unknown.'}),\n",
       " Prediction(uid='A3NVNHJ1SJW080', iid='B003VXFK44', r_ui=5.0, est=4.902737192519411, details={'actual_k': 4, 'was_impossible': False}),\n",
       " Prediction(uid='A87VJS1SZPCDO', iid='B002OL2MWM', r_ui=4.0, est=4.169958337495666, details={'was_impossible': True, 'reason': 'User and/or item is unknown.'}),\n",
       " Prediction(uid='A19Z9JZCDQ91JJ', iid='B003EML8PM', r_ui=4.0, est=4.169958337495666, details={'was_impossible': True, 'reason': 'User and/or item is unknown.'}),\n",
       " Prediction(uid='A1Y5RYRM4AFUKC', iid='B00012182G', r_ui=5.0, est=4.169958337495666, details={'was_impossible': True, 'reason': 'User and/or item is unknown.'}),\n",
       " Prediction(uid='AZ2NEHE8TNRUW', iid='B001EO5R04', r_ui=2.0, est=2.0159051995896267, details={'actual_k': 5, 'was_impossible': False}),\n",
       " Prediction(uid='A3JRTVV2E9P6R1', iid='B002QWHJOU', r_ui=2.0, est=1.9880927554154115, details={'actual_k': 3, 'was_impossible': False}),\n",
       " Prediction(uid='A3A2H05RXDIGBF', iid='B001D09KAM', r_ui=5.0, est=4.937409939945484, details={'actual_k': 5, 'was_impossible': False}),\n",
       " Prediction(uid='A32ZE625A5YM8O', iid='B000SMN0DO', r_ui=5.0, est=4.169958337495666, details={'was_impossible': True, 'reason': 'User and/or item is unknown.'}),\n",
       " Prediction(uid='A1AC6YYMVQEB10', iid='B0029XLH4Y', r_ui=5.0, est=5, details={'actual_k': 2, 'was_impossible': False}),\n",
       " Prediction(uid='AP520XQ9GV1AJ', iid='B00141OY4W', r_ui=5.0, est=4.647041332143919, details={'actual_k': 1, 'was_impossible': False}),\n",
       " Prediction(uid='A10THUY91ILU8I', iid='B000KFXEYE', r_ui=2.0, est=2.111554332680373, details={'actual_k': 3, 'was_impossible': False}),\n",
       " Prediction(uid='A23NNLX4OGN4MQ', iid='B001E5E20O', r_ui=5.0, est=4.169958337495666, details={'was_impossible': True, 'reason': 'User and/or item is unknown.'}),\n",
       " Prediction(uid='A36FKNCQK6YJ38', iid='B004SRFYMK', r_ui=5.0, est=5, details={'actual_k': 2, 'was_impossible': False}),\n",
       " Prediction(uid='A16Q6DGTG8LGAG', iid='B00073JVFU', r_ui=4.0, est=4.008594834868107, details={'actual_k': 5, 'was_impossible': False}),\n",
       " Prediction(uid='A35LT14WG5BX0T', iid='B005QRPGYW', r_ui=4.0, est=4.005276592548141, details={'actual_k': 5, 'was_impossible': False}),\n",
       " Prediction(uid='A11LNPG39A2ZV4', iid='B005VOOKS8', r_ui=3.0, est=2.9942514434414442, details={'actual_k': 5, 'was_impossible': False}),\n",
       " Prediction(uid='AYBYYDVV5ABJE', iid='B002DLXXHG', r_ui=1.0, est=1, details={'actual_k': 1, 'was_impossible': False}),\n",
       " Prediction(uid='A231FGX8G2Q5EW', iid='B008RWUHA6', r_ui=1.0, est=3.9896044524826753, details={'actual_k': 3, 'was_impossible': False}),\n",
       " Prediction(uid='A1FPQ54AIB26L0', iid='B006MONQMC', r_ui=5.0, est=4.676054237613511, details={'actual_k': 5, 'was_impossible': False}),\n",
       " Prediction(uid='A101P2KHWCU0G6', iid='B003ANFMY8', r_ui=1.0, est=1.254325653109305, details={'actual_k': 5, 'was_impossible': False}),\n",
       " Prediction(uid='A2OL0JTU0DLH6B', iid='B005VOONLW', r_ui=5.0, est=4.988851902386693, details={'actual_k': 5, 'was_impossible': False}),\n",
       " Prediction(uid='A33J2VWP9HXDU9', iid='B0090X8IPM', r_ui=4.0, est=3.631853241609339, details={'actual_k': 1, 'was_impossible': False}),\n",
       " Prediction(uid='A2MYQLINR5NC26', iid='B001GKV8DQ', r_ui=5.0, est=4.169958337495666, details={'was_impossible': True, 'reason': 'User and/or item is unknown.'}),\n",
       " Prediction(uid='A2MWW2G6ETG8N8', iid='B004P4POZ8', r_ui=5.0, est=5, details={'actual_k': 1, 'was_impossible': False}),\n",
       " Prediction(uid='A1H5R0ANTSEAAX', iid='B001E6K63A', r_ui=5.0, est=4.965757870821162, details={'actual_k': 1, 'was_impossible': False}),\n",
       " Prediction(uid='A3HS7FAIHHW998', iid='B003M5TG28', r_ui=3.0, est=2.9302302444894712, details={'actual_k': 5, 'was_impossible': False}),\n",
       " Prediction(uid='A2KKQN5F0SNY2L', iid='B007JFMH8M', r_ui=5.0, est=4.169958337495666, details={'was_impossible': True, 'reason': 'User and/or item is unknown.'}),\n",
       " Prediction(uid='A3SXIXQ5HIPWL7', iid='B001AG6BMO', r_ui=4.0, est=3.9124378109452733, details={'actual_k': 1, 'was_impossible': False}),\n",
       " Prediction(uid='A3K91X9X2ARDOK', iid='B0044CPA28', r_ui=5.0, est=4.533640966453574, details={'actual_k': 5, 'was_impossible': False}),\n",
       " Prediction(uid='A29ROD0QEENLIV', iid='B000EVIDWW', r_ui=5.0, est=4.989837185234428, details={'actual_k': 3, 'was_impossible': False}),\n",
       " Prediction(uid='A3KE6TMMH3BG00', iid='B001D0GVAO', r_ui=5.0, est=5, details={'actual_k': 1, 'was_impossible': False}),\n",
       " Prediction(uid='A135K498IN3A3H', iid='B000Q5X876', r_ui=4.0, est=3.9873162268827205, details={'actual_k': 3, 'was_impossible': False}),\n",
       " Prediction(uid='A1SCANWWQTEG9I', iid='B000CQIDHY', r_ui=2.0, est=1.9561366011978505, details={'actual_k': 5, 'was_impossible': False}),\n",
       " Prediction(uid='A1704R6TRR5UTL', iid='B000Q611U6', r_ui=5.0, est=4.940794299935423, details={'actual_k': 3, 'was_impossible': False}),\n",
       " Prediction(uid='AHO3SL52Y5JE4', iid='B0095KATS4', r_ui=5.0, est=4.822018850469761, details={'actual_k': 4, 'was_impossible': False}),\n",
       " Prediction(uid='A1MT1QMMZUK9AJ', iid='B001D0DMMY', r_ui=5.0, est=4.9764274488811635, details={'actual_k': 5, 'was_impossible': False}),\n",
       " Prediction(uid='A1Z9OGQ9ETUX0T', iid='B000EQX6HO', r_ui=4.0, est=4.1753008895866035, details={'actual_k': 1, 'was_impossible': False}),\n",
       " Prediction(uid='AZJHB1BU40E1Q', iid='B000TK6LBS', r_ui=3.0, est=3.056108300001405, details={'actual_k': 4, 'was_impossible': False}),\n",
       " Prediction(uid='A15JZAG7611LLR', iid='B000SU201O', r_ui=5.0, est=4.838553849691814, details={'actual_k': 2, 'was_impossible': False}),\n",
       " Prediction(uid='A3NFCPLJ6OUX16', iid='B003QNLUTI', r_ui=1.0, est=1.041134234339209, details={'actual_k': 3, 'was_impossible': False}),\n",
       " Prediction(uid='A6JKO75K68MSD', iid='B006N3I69A', r_ui=1.0, est=4.169958337495666, details={'was_impossible': True, 'reason': 'User and/or item is unknown.'}),\n",
       " Prediction(uid='A30MJHYGDEE63V', iid='B003EM7J9Q', r_ui=5.0, est=4.881538461538462, details={'actual_k': 1, 'was_impossible': False}),\n",
       " Prediction(uid='A1IITR42COHUA3', iid='B000ETGBN2', r_ui=5.0, est=5, details={'actual_k': 5, 'was_impossible': False}),\n",
       " Prediction(uid='A1QI8MXHW45F5J', iid='B000OH57ZW', r_ui=4.0, est=3.974896273044025, details={'actual_k': 5, 'was_impossible': False}),\n",
       " Prediction(uid='A3N4VTNFPMTHEF', iid='B006BXV1H6', r_ui=3.0, est=3.8208944117865915, details={'actual_k': 1, 'was_impossible': False}),\n",
       " Prediction(uid='A1QTPS4ASOX4FV', iid='B000EQT9MK', r_ui=5.0, est=5, details={'actual_k': 5, 'was_impossible': False}),\n",
       " Prediction(uid='A2MXV5LPA37YH4', iid='B000E39P9U', r_ui=5.0, est=4.169958337495666, details={'was_impossible': True, 'reason': 'User and/or item is unknown.'}),\n",
       " Prediction(uid='ARUPTZMAN8CXJ', iid='B0013BTP9C', r_ui=5.0, est=5, details={'actual_k': 5, 'was_impossible': False}),\n",
       " Prediction(uid='AR9IGTVTL5Y4O', iid='B007TGDXNO', r_ui=3.0, est=2.9974099099099103, details={'actual_k': 1, 'was_impossible': False}),\n",
       " Prediction(uid='A9QIODBQGOG2U', iid='B000812K0O', r_ui=5.0, est=5, details={'actual_k': 4, 'was_impossible': False}),\n",
       " Prediction(uid='AIC38SWPHOB1Y', iid='B000VKA92I', r_ui=5.0, est=4.169958337495666, details={'was_impossible': True, 'reason': 'User and/or item is unknown.'}),\n",
       " Prediction(uid='A2IA4ZFUSOON4', iid='B0014B0HWK', r_ui=5.0, est=5, details={'actual_k': 5, 'was_impossible': False}),\n",
       " Prediction(uid='A2AR52QYG9M27T', iid='B003GS3VQ8', r_ui=5.0, est=4.87037037037037, details={'actual_k': 1, 'was_impossible': False}),\n",
       " Prediction(uid='ALMKM3YYBHVYV', iid='B0013E7C0S', r_ui=1.0, est=4.169958337495666, details={'was_impossible': True, 'reason': 'User and/or item is unknown.'}),\n",
       " Prediction(uid='A2A96QZI9U71YT', iid='B000H241DS', r_ui=2.0, est=4.169958337495666, details={'was_impossible': True, 'reason': 'User and/or item is unknown.'}),\n",
       " Prediction(uid='AG1L3ZDOSB9DG', iid='B000Y4S38I', r_ui=4.0, est=4.019230769230769, details={'actual_k': 1, 'was_impossible': False}),\n",
       " Prediction(uid='A189BPUDLRCQEQ', iid='B001BDDTB2', r_ui=5.0, est=5, details={'actual_k': 5, 'was_impossible': False}),\n",
       " Prediction(uid='A2VDY8RY84A2PF', iid='B001181NBA', r_ui=5.0, est=5, details={'actual_k': 2, 'was_impossible': False}),\n",
       " Prediction(uid='A81HAO8KEKBZH', iid='B002HFRAN6', r_ui=5.0, est=4.960859211440176, details={'actual_k': 5, 'was_impossible': False}),\n",
       " Prediction(uid='A1R9W2XDAHUZKK', iid='B0075JTH7Q', r_ui=5.0, est=5, details={'actual_k': 1, 'was_impossible': False}),\n",
       " Prediction(uid='A1CECG42QSGZ9E', iid='B000QSN7P6', r_ui=5.0, est=4.958239671870192, details={'actual_k': 5, 'was_impossible': False}),\n",
       " Prediction(uid='A2TMS1YC8SNFV', iid='B0018AD7QK', r_ui=4.0, est=4.012583644792314, details={'actual_k': 5, 'was_impossible': False}),\n",
       " Prediction(uid='A3UNJL7AWQIZI0', iid='B005TBURAI', r_ui=4.0, est=4.169958337495666, details={'was_impossible': True, 'reason': 'User and/or item is unknown.'}),\n",
       " Prediction(uid='A134O89X79ASVA', iid='B003561V40', r_ui=5.0, est=5, details={'actual_k': 5, 'was_impossible': False}),\n",
       " Prediction(uid='A3L9MOG9T3MNHS', iid='B005P6TCGW', r_ui=5.0, est=4.9602444607197045, details={'actual_k': 2, 'was_impossible': False}),\n",
       " Prediction(uid='A10FLMJWDDX2CJ', iid='B000GZYAN2', r_ui=4.0, est=4.169958337495666, details={'was_impossible': True, 'reason': 'User and/or item is unknown.'}),\n",
       " Prediction(uid='A1R6DKN9YQ2YU1', iid='B006MONQMC', r_ui=4.0, est=2.381746707551047, details={'actual_k': 5, 'was_impossible': False}),\n",
       " Prediction(uid='A2MA4ATED1B1GB', iid='B005A1LINC', r_ui=3.0, est=2.568686110907736, details={'actual_k': 5, 'was_impossible': False}),\n",
       " Prediction(uid='A8KJS2P6E5DCB', iid='B004FEN3GK', r_ui=3.0, est=4.451970205130002, details={'actual_k': 2, 'was_impossible': False}),\n",
       " Prediction(uid='A2PTFW5G285RHT', iid='B004HOLD92', r_ui=5.0, est=4.990229744287773, details={'actual_k': 5, 'was_impossible': False}),\n",
       " Prediction(uid='A2PU80LCKRMC9X', iid='B003GTR8IO', r_ui=5.0, est=4.837613390761452, details={'actual_k': 5, 'was_impossible': False}),\n",
       " Prediction(uid='A3RRIP2E45NGRQ', iid='B008O3G2K2', r_ui=5.0, est=4.88866993174777, details={'actual_k': 5, 'was_impossible': False}),\n",
       " Prediction(uid='A1RLP0R1N8H8C4', iid='B004TPKAN4', r_ui=4.0, est=3.943983074110879, details={'actual_k': 3, 'was_impossible': False}),\n",
       " Prediction(uid='A38P3PPW3JXA3E', iid='B003NUYBV8', r_ui=5.0, est=4.169958337495666, details={'was_impossible': True, 'reason': 'User and/or item is unknown.'}),\n",
       " Prediction(uid='A3HKUNUPNM15YT', iid='B00158U8DU', r_ui=3.0, est=4.169958337495666, details={'was_impossible': True, 'reason': 'User and/or item is unknown.'}),\n",
       " Prediction(uid='A1H7Y5XKPGT0OS', iid='B004E4CCSQ', r_ui=4.0, est=3.117569364084319, details={'actual_k': 5, 'was_impossible': False}),\n",
       " Prediction(uid='A8M8D27GOP1DG', iid='B000E63LQU', r_ui=5.0, est=4.382978723404255, details={'actual_k': 0, 'was_impossible': False}),\n",
       " Prediction(uid='A3F2P8DZBM72HY', iid='B000WFEN74', r_ui=5.0, est=4.967038778828638, details={'actual_k': 5, 'was_impossible': False}),\n",
       " Prediction(uid='A17KNP1347GV5D', iid='B000CR008I', r_ui=5.0, est=4.976941122310215, details={'actual_k': 5, 'was_impossible': False}),\n",
       " Prediction(uid='A15U3VJ1080VS3', iid='B001CWSKFC', r_ui=5.0, est=5, details={'actual_k': 5, 'was_impossible': False}),\n",
       " Prediction(uid='A1WRPVCIKF0P34', iid='B003D4F1QS', r_ui=2.0, est=2.0418986854085337, details={'actual_k': 3, 'was_impossible': False}),\n",
       " Prediction(uid='A2STHEM3T5PHAZ', iid='B003EM7J9Q', r_ui=5.0, est=4.881538461538462, details={'actual_k': 1, 'was_impossible': False}),\n",
       " Prediction(uid='AXUOZT7JNS57R', iid='B000OQ2DJQ', r_ui=5.0, est=4.914451051359417, details={'actual_k': 5, 'was_impossible': False}),\n",
       " Prediction(uid='AMWT1TL8J4WEQ', iid='B003MOXA6C', r_ui=4.0, est=4.077863577863578, details={'actual_k': 1, 'was_impossible': False}),\n",
       " Prediction(uid='AJQDIT55SZ3ZX', iid='B000AYFATW', r_ui=5.0, est=5, details={'actual_k': 5, 'was_impossible': False}),\n",
       " Prediction(uid='A1OPG0S5E0V0BK', iid='B0000DGG1U', r_ui=4.0, est=4.169958337495666, details={'was_impossible': True, 'reason': 'User and/or item is unknown.'}),\n",
       " Prediction(uid='A12TCY12RMA0YE', iid='B0026RQTGE', r_ui=5.0, est=5, details={'actual_k': 3, 'was_impossible': False}),\n",
       " Prediction(uid='A2V8W49S1JDBZN', iid='B005K4Q4KG', r_ui=5.0, est=4.992202839967791, details={'actual_k': 3, 'was_impossible': False}),\n",
       " Prediction(uid='A10GB1QMKTTSH1', iid='B001E5E060', r_ui=4.0, est=4.169958337495666, details={'was_impossible': True, 'reason': 'User and/or item is unknown.'}),\n",
       " Prediction(uid='AMFMVWHYF2Q6T', iid='B004OW342G', r_ui=5.0, est=4.476744186046512, details={'actual_k': 0, 'was_impossible': False}),\n",
       " Prediction(uid='A2NDWC61L0Y0IW', iid='B002QWP8H0', r_ui=5.0, est=4.99796727424928, details={'actual_k': 2, 'was_impossible': False}),\n",
       " Prediction(uid='A2NSCHJNZAAT28', iid='B001P3NU4O', r_ui=5.0, est=5, details={'actual_k': 2, 'was_impossible': False}),\n",
       " Prediction(uid='A39NP3KPM2OIVN', iid='B005HGAV8I', r_ui=4.0, est=4.169958337495666, details={'was_impossible': True, 'reason': 'User and/or item is unknown.'}),\n",
       " Prediction(uid='A2VYSDQ4Q7B2TC', iid='B001OCKIP0', r_ui=4.0, est=4.318602613902869, details={'actual_k': 2, 'was_impossible': False}),\n",
       " Prediction(uid='AB29JTBIUJQFL', iid='B004IJFZ54', r_ui=5.0, est=5, details={'actual_k': 5, 'was_impossible': False}),\n",
       " Prediction(uid='A3AZI828WJN1CD', iid='B004779XHI', r_ui=5.0, est=4.884363623607059, details={'actual_k': 4, 'was_impossible': False}),\n",
       " Prediction(uid='A2NQWPJ8EBWM3L', iid='B0015MY6PC', r_ui=5.0, est=5, details={'actual_k': 3, 'was_impossible': False}),\n",
       " Prediction(uid='AAJ361GDDI06D', iid='B002GJ9JWS', r_ui=1.0, est=1.010896564766396, details={'actual_k': 2, 'was_impossible': False}),\n",
       " Prediction(uid='A1WX42M589VAMQ', iid='B004HOSGWE', r_ui=5.0, est=4.958815772007212, details={'actual_k': 5, 'was_impossible': False}),\n",
       " Prediction(uid='A7JCNKDASI7R0', iid='B006N3IG4K', r_ui=5.0, est=4.425315349380689, details={'actual_k': 5, 'was_impossible': False}),\n",
       " Prediction(uid='A3LQXP80NCRM5T', iid='B000CQE3HS', r_ui=5.0, est=5, details={'actual_k': 2, 'was_impossible': False}),\n",
       " Prediction(uid='A154GPIDWCOBM5', iid='B006N3I69A', r_ui=1.0, est=4.169958337495666, details={'was_impossible': True, 'reason': 'User and/or item is unknown.'}),\n",
       " Prediction(uid='A3L6MXFVGLIUS9', iid='B0012XBCZQ', r_ui=5.0, est=5, details={'actual_k': 2, 'was_impossible': False}),\n",
       " Prediction(uid='A3CMCXOQMENRDX', iid='B003THQKXM', r_ui=4.0, est=4.2422395699909945, details={'actual_k': 5, 'was_impossible': False}),\n",
       " Prediction(uid='A1YUL9PCJR3JTY', iid='B001EO5TGQ', r_ui=4.0, est=4.074663348582787, details={'actual_k': 5, 'was_impossible': False}),\n",
       " Prediction(uid='A1Z77BZWQTRIBM', iid='B00141OY4W', r_ui=5.0, est=4.832049306625578, details={'actual_k': 1, 'was_impossible': False}),\n",
       " Prediction(uid='A76XLYUJGXZXD', iid='B004M63EI8', r_ui=5.0, est=5, details={'actual_k': 5, 'was_impossible': False}),\n",
       " Prediction(uid='A14AX6GIXYNOEI', iid='B004GW6O9E', r_ui=5.0, est=5, details={'actual_k': 3, 'was_impossible': False}),\n",
       " Prediction(uid='A38VV3J6DQ5LSC', iid='B008FHUKE6', r_ui=3.0, est=3.147942002968737, details={'actual_k': 4, 'was_impossible': False}),\n",
       " Prediction(uid='#oc-R109MU5OBBZ59U', iid='B008I1XPKA', r_ui=5.0, est=4.169958337495666, details={'was_impossible': True, 'reason': 'User and/or item is unknown.'}),\n",
       " Prediction(uid='ANHTWUP61X9W1', iid='B000KFXEWQ', r_ui=5.0, est=5, details={'actual_k': 2, 'was_impossible': False}),\n",
       " Prediction(uid='A27L5L6I7OSV5B', iid='B004FELBH8', r_ui=3.0, est=3.489128956012827, details={'actual_k': 5, 'was_impossible': False}),\n",
       " Prediction(uid='A5WISJ26DDN0P', iid='B004P4POZ8', r_ui=4.0, est=4.054699267836793, details={'actual_k': 2, 'was_impossible': False}),\n",
       " Prediction(uid='AYHF0RWIOY5DR', iid='B004P4POZ8', r_ui=5.0, est=5, details={'actual_k': 5, 'was_impossible': False}),\n",
       " Prediction(uid='A109VW0OXUQX45', iid='B002AYIJDO', r_ui=5.0, est=4.929081057406291, details={'actual_k': 5, 'was_impossible': False}),\n",
       " Prediction(uid='A1D4T9UEKT2R6T', iid='B007Y59HVM', r_ui=4.0, est=4.387640449438202, details={'actual_k': 0, 'was_impossible': False}),\n",
       " Prediction(uid='A16AXQ11SZA8SQ', iid='B004T80BYE', r_ui=3.0, est=3.982197593108583, details={'actual_k': 5, 'was_impossible': False}),\n",
       " Prediction(uid='ATIAD2WL24IPS', iid='B001EO5S6M', r_ui=5.0, est=2.8998302207130733, details={'actual_k': 1, 'was_impossible': False}),\n",
       " Prediction(uid='AGMAH717O145R', iid='B004EDZ87Y', r_ui=5.0, est=4.970783939824445, details={'actual_k': 5, 'was_impossible': False}),\n",
       " Prediction(uid='A3OCCBL7CF16UB', iid='B0034EDMLI', r_ui=5.0, est=5, details={'actual_k': 3, 'was_impossible': False}),\n",
       " Prediction(uid='A109P5HL1KF2P8', iid='B000CORSCW', r_ui=5.0, est=4.936854256683412, details={'actual_k': 2, 'was_impossible': False}),\n",
       " Prediction(uid='AC04COHND3OEL', iid='B003QNLUTI', r_ui=4.0, est=4.041134234339209, details={'actual_k': 3, 'was_impossible': False}),\n",
       " Prediction(uid='A2RQHAVYX69H1W', iid='B000I60JUW', r_ui=5.0, est=4.169958337495666, details={'was_impossible': True, 'reason': 'User and/or item is unknown.'}),\n",
       " Prediction(uid='A1RXKMBV6UEVGC', iid='B000AQJRWG', r_ui=1.0, est=4.169958337495666, details={'was_impossible': True, 'reason': 'User and/or item is unknown.'}),\n",
       " Prediction(uid='AQIJ3ZEEVCIKU', iid='B006J4MAUE', r_ui=4.0, est=4.015232844915132, details={'actual_k': 1, 'was_impossible': False}),\n",
       " Prediction(uid='APOT8KGS1DUEI', iid='B000EDGBA6', r_ui=3.0, est=2.8633461806850073, details={'actual_k': 4, 'was_impossible': False}),\n",
       " Prediction(uid='A37GAGAZDFRMZ3', iid='B000ETAJZI', r_ui=4.0, est=3.82654758902398, details={'actual_k': 5, 'was_impossible': False}),\n",
       " Prediction(uid='A1SYLII0808HD6', iid='B0045XE32E', r_ui=5.0, est=4.977091270633023, details={'actual_k': 5, 'was_impossible': False}),\n",
       " Prediction(uid='AABUWTBEO03G5', iid='B001CHFSUW', r_ui=3.0, est=4.169958337495666, details={'was_impossible': True, 'reason': 'User and/or item is unknown.'}),\n",
       " Prediction(uid='A34MS72A45UK2D', iid='B002BCFHTY', r_ui=5.0, est=4.7616246203066, details={'actual_k': 2, 'was_impossible': False}),\n",
       " Prediction(uid='A3PV7BY8K747QE', iid='B00139TT72', r_ui=5.0, est=4.955776948998498, details={'actual_k': 4, 'was_impossible': False}),\n",
       " Prediction(uid='A1WVMU2PMQ0GXW', iid='B005K4Q1VI', r_ui=4.0, est=4.009876030787841, details={'actual_k': 2, 'was_impossible': False}),\n",
       " Prediction(uid='A3IMFBFX5L85S9', iid='B00020HHHC', r_ui=2.0, est=2.047616597297793, details={'actual_k': 5, 'was_impossible': False}),\n",
       " Prediction(uid='A21KNRUAA5RK5E', iid='B002TMV3CG', r_ui=4.0, est=3.9604063018242117, details={'actual_k': 1, 'was_impossible': False}),\n",
       " Prediction(uid='A1FJL8NQ11O0I2', iid='B000WVYB8Y', r_ui=5.0, est=5, details={'actual_k': 5, 'was_impossible': False}),\n",
       " Prediction(uid='A1TMAVN4CEM8U8', iid='B0034KP00S', r_ui=5.0, est=4.947412955387128, details={'actual_k': 5, 'was_impossible': False}),\n",
       " Prediction(uid='A35FICW9MJ42LJ', iid='B00866AM2G', r_ui=5.0, est=4.169958337495666, details={'was_impossible': True, 'reason': 'User and/or item is unknown.'}),\n",
       " Prediction(uid='A9PKYI8B9V9VB', iid='B000ESJR20', r_ui=5.0, est=4.63265306122449, details={'actual_k': 0, 'was_impossible': False}),\n",
       " Prediction(uid='A2771VF5C1DHPJ', iid='B002Y2QT2K', r_ui=1.0, est=4.169958337495666, details={'was_impossible': True, 'reason': 'User and/or item is unknown.'}),\n",
       " Prediction(uid='A1SB8CXAUIKT8X', iid='B000FBO9LK', r_ui=5.0, est=2.723509785688889, details={'actual_k': 5, 'was_impossible': False}),\n",
       " Prediction(uid='A1GVPYN4P5LBTR', iid='B005ZBZLPI', r_ui=5.0, est=4.169958337495666, details={'was_impossible': True, 'reason': 'User and/or item is unknown.'}),\n",
       " Prediction(uid='A34VCCL1YO6D0I', iid='B0014X5O1C', r_ui=5.0, est=3.7542746828461118, details={'actual_k': 1, 'was_impossible': False}),\n",
       " Prediction(uid='AD9L49GAX94JW', iid='B000CQG8AS', r_ui=5.0, est=4.998919777252875, details={'actual_k': 3, 'was_impossible': False}),\n",
       " Prediction(uid='A2D5DVBEYMM6ZP', iid='B001E0TBA0', r_ui=5.0, est=4.95469383876629, details={'actual_k': 5, 'was_impossible': False}),\n",
       " Prediction(uid='A3N3MWX3SU3IAK', iid='B008GRIB0A', r_ui=5.0, est=5, details={'actual_k': 5, 'was_impossible': False}),\n",
       " Prediction(uid='A3DPPES5U6EY2V', iid='B002EDIJCM', r_ui=5.0, est=4.940683074724916, details={'actual_k': 3, 'was_impossible': False}),\n",
       " Prediction(uid='AWM1KZ2MDOVWJ', iid='B000LKVRVA', r_ui=4.0, est=4.220113639433726, details={'actual_k': 5, 'was_impossible': False}),\n",
       " Prediction(uid='A1XBUHT0JKF82F', iid='B003D4MW38', r_ui=5.0, est=4.990023402188833, details={'actual_k': 4, 'was_impossible': False}),\n",
       " Prediction(uid='A1B6O7SAIYG2N0', iid='B005VOOM5E', r_ui=4.0, est=4.012173451373765, details={'actual_k': 5, 'was_impossible': False}),\n",
       " Prediction(uid='ASDUD9CJFK9GT', iid='B005K4Q1VI', r_ui=5.0, est=4.992455439755396, details={'actual_k': 2, 'was_impossible': False}),\n",
       " Prediction(uid='A2RLOCANTPCCU2', iid='B000ED7M2W', r_ui=5.0, est=4.651162790697675, details={'actual_k': 0, 'was_impossible': False}),\n",
       " Prediction(uid='A18EKQMJ0TK6K5', iid='B0083T6HC0', r_ui=5.0, est=3.5357142857142856, details={'actual_k': 0, 'was_impossible': False}),\n",
       " Prediction(uid='A1KTK6TGEZPJ2I', iid='B004UC7CMS', r_ui=5.0, est=4.922789896670493, details={'actual_k': 1, 'was_impossible': False}),\n",
       " Prediction(uid='ABGEKDNQI1Y6Q', iid='B0047RQ9M0', r_ui=5.0, est=4.962504875861475, details={'actual_k': 3, 'was_impossible': False}),\n",
       " Prediction(uid='A2VNXYBE1QRCX1', iid='B000ED7M3Q', r_ui=1.0, est=4.169958337495666, details={'was_impossible': True, 'reason': 'User and/or item is unknown.'}),\n",
       " Prediction(uid='A22PUBSSNP54L', iid='B000LKVD5U', r_ui=5.0, est=5, details={'actual_k': 5, 'was_impossible': False}),\n",
       " Prediction(uid='A2AADWLGSEHOAT', iid='B001NXM3I0', r_ui=5.0, est=4.169958337495666, details={'was_impossible': True, 'reason': 'User and/or item is unknown.'}),\n",
       " Prediction(uid='A31B3QN1Y0CKME', iid='B000SARJF6', r_ui=1.0, est=4.169958337495666, details={'was_impossible': True, 'reason': 'User and/or item is unknown.'}),\n",
       " Prediction(uid='A1NFJ0O1J7IXRN', iid='B0030FGMKE', r_ui=5.0, est=5, details={'actual_k': 3, 'was_impossible': False}),\n",
       " Prediction(uid='A38AMAMBO7I10Y', iid='B000NMJWZO', r_ui=5.0, est=4.169958337495666, details={'was_impossible': True, 'reason': 'User and/or item is unknown.'}),\n",
       " Prediction(uid='A3QVAM8CG7433', iid='B002R8SLUY', r_ui=3.0, est=2.8968058968058976, details={'actual_k': 1, 'was_impossible': False}),\n",
       " Prediction(uid='A1Z26UFCBVCGIJ', iid='B001L4JH5I', r_ui=5.0, est=4.169958337495666, details={'was_impossible': True, 'reason': 'User and/or item is unknown.'}),\n",
       " Prediction(uid='A3DE509O1GE3EF', iid='B009E7YC54', r_ui=4.0, est=3.98003302379397, details={'actual_k': 2, 'was_impossible': False}),\n",
       " Prediction(uid='A2LI3RBUEH7TXO', iid='B004391DK0', r_ui=1.0, est=4.169958337495666, details={'was_impossible': True, 'reason': 'User and/or item is unknown.'}),\n",
       " Prediction(uid='A2UMCGRN8YOU5Q', iid='B004HOOZEW', r_ui=5.0, est=5, details={'actual_k': 5, 'was_impossible': False}),\n",
       " Prediction(uid='A1ED75MIQHKM4K', iid='B001CHJ01A', r_ui=5.0, est=4.3544303797468356, details={'actual_k': 0, 'was_impossible': False}),\n",
       " Prediction(uid='A267PBERDZKPCI', iid='B001RVFDOO', r_ui=5.0, est=4.169958337495666, details={'was_impossible': True, 'reason': 'User and/or item is unknown.'}),\n",
       " Prediction(uid='A38MZTE6M6Y6RR', iid='B000G6Q4FI', r_ui=5.0, est=5, details={'actual_k': 4, 'was_impossible': False}),\n",
       " Prediction(uid='A3C5YHTV72WYJY', iid='B0083T5TAQ', r_ui=2.0, est=1.9613807245386194, details={'actual_k': 1, 'was_impossible': False}),\n",
       " Prediction(uid='A13H13NNHRKDGD', iid='B001BLZVQ0', r_ui=5.0, est=4.169958337495666, details={'was_impossible': True, 'reason': 'User and/or item is unknown.'}),\n",
       " Prediction(uid='A3EQOIXQEQ0CHY', iid='B0015MY6PC', r_ui=2.0, est=2.0680958385876416, details={'actual_k': 1, 'was_impossible': False}),\n",
       " Prediction(uid='A21HIYLQGMFA5V', iid='B007RTR898', r_ui=1.0, est=4.169958337495666, details={'was_impossible': True, 'reason': 'User and/or item is unknown.'}),\n",
       " Prediction(uid='A4CBTVP6O7SXU', iid='B000UBD88A', r_ui=5.0, est=4.970755246791605, details={'actual_k': 1, 'was_impossible': False}),\n",
       " Prediction(uid='A3EJRBPUFFECQP', iid='B000VK8AVK', r_ui=5.0, est=4.981052566357183, details={'actual_k': 5, 'was_impossible': False}),\n",
       " Prediction(uid='A1LCIUOF9K8BBV', iid='B000BRR8VQ', r_ui=5.0, est=4.961078757849788, details={'actual_k': 4, 'was_impossible': False}),\n",
       " Prediction(uid='A2R291EJFGXUOE', iid='B000EQT77M', r_ui=5.0, est=5, details={'actual_k': 2, 'was_impossible': False}),\n",
       " Prediction(uid='A1H7Y5XKPGT0OS', iid='B005VOONGM', r_ui=4.0, est=4.036270540364173, details={'actual_k': 5, 'was_impossible': False}),\n",
       " Prediction(uid='A31D9IPL1YB8OM', iid='B006VRTQW4', r_ui=5.0, est=4.877135570912056, details={'actual_k': 4, 'was_impossible': False}),\n",
       " Prediction(uid='A2POYXTGSPSW7O', iid='B004YV80OE', r_ui=3.0, est=3.815363498285666, details={'actual_k': 3, 'was_impossible': False}),\n",
       " Prediction(uid='A5ZN0RKLTGCZI', iid='B0030VJ8E0', r_ui=2.0, est=1.880107482949252, details={'actual_k': 3, 'was_impossible': False}),\n",
       " Prediction(uid='A1XR58IRKP3HEZ', iid='B005VOONM6', r_ui=4.0, est=3.9928060178215268, details={'actual_k': 5, 'was_impossible': False}),\n",
       " Prediction(uid='ACM6X1Q9R2K81', iid='B007M832YY', r_ui=5.0, est=5, details={'actual_k': 5, 'was_impossible': False}),\n",
       " Prediction(uid='A125Y24R91RCKU', iid='B001D0DMMY', r_ui=4.0, est=3.979148516966667, details={'actual_k': 5, 'was_impossible': False}),\n",
       " Prediction(uid='A3RYMO6S22FMM5', iid='B000EQYSLC', r_ui=5.0, est=4.8246991104133965, details={'actual_k': 1, 'was_impossible': False}),\n",
       " Prediction(uid='A2FVD05Z2FYW1P', iid='B0058AMYTC', r_ui=4.0, est=4.015086910077341, details={'actual_k': 5, 'was_impossible': False}),\n",
       " Prediction(uid='ABNMD6670TV53', iid='B004YGQPCI', r_ui=4.0, est=2.8540123094432097, details={'actual_k': 5, 'was_impossible': False}),\n",
       " Prediction(uid='A2V4P6IRCK1P70', iid='B0014WYY1E', r_ui=5.0, est=5, details={'actual_k': 3, 'was_impossible': False}),\n",
       " Prediction(uid='AFPJ42B9RTEZP', iid='B0081XIASW', r_ui=5.0, est=4.1018966809456145, details={'actual_k': 5, 'was_impossible': False}),\n",
       " Prediction(uid='A99S0ESOW9T1M', iid='B003VXHGDM', r_ui=4.0, est=4.086818497798678, details={'actual_k': 4, 'was_impossible': False}),\n",
       " Prediction(uid='A3EM243NDJ4DF3', iid='B001Q9EFW8', r_ui=3.0, est=3.057948939098312, details={'actual_k': 4, 'was_impossible': False}),\n",
       " Prediction(uid='A2BLFCOPSMBOZ9', iid='B003YBLF2E', r_ui=3.0, est=2.818728297772075, details={'actual_k': 3, 'was_impossible': False}),\n",
       " Prediction(uid='A2ICZYFD825S13', iid='B001D0DMMY', r_ui=5.0, est=4.962458449882014, details={'actual_k': 5, 'was_impossible': False}),\n",
       " Prediction(uid='A3L7HZ53QWOYFM', iid='B00112ILZM', r_ui=5.0, est=4.169958337495666, details={'was_impossible': True, 'reason': 'User and/or item is unknown.'}),\n",
       " Prediction(uid='AOYTZRZ3IKQJM', iid='B001QEAUZO', r_ui=5.0, est=4.795713722424851, details={'actual_k': 4, 'was_impossible': False}),\n",
       " Prediction(uid='A25SIRRSM5IP63', iid='B000CQG8KS', r_ui=5.0, est=4.972304703537191, details={'actual_k': 5, 'was_impossible': False}),\n",
       " Prediction(uid='A11NFERETUWA8Z', iid='B002DLXXHG', r_ui=1.0, est=1, details={'actual_k': 2, 'was_impossible': False}),\n",
       " Prediction(uid='A1K74YNY7O9O5P', iid='B000CQBZQK', r_ui=3.0, est=2.9489543289190365, details={'actual_k': 3, 'was_impossible': False}),\n",
       " Prediction(uid='A3AW05VYWC3LX8', iid='B002IEZJMA', r_ui=3.0, est=4.49012458771084, details={'actual_k': 5, 'was_impossible': False}),\n",
       " Prediction(uid='AL3XTUU4866TC', iid='B0013E21V8', r_ui=5.0, est=4.625, details={'actual_k': 0, 'was_impossible': False}),\n",
       " Prediction(uid='AYNIT5FYOCH30', iid='B0019QT66I', r_ui=3.0, est=2.9626075184041367, details={'actual_k': 5, 'was_impossible': False}),\n",
       " Prediction(uid='A2BRZ26DRBZCN5', iid='B000GW6786', r_ui=3.0, est=3.030876197298913, details={'actual_k': 3, 'was_impossible': False}),\n",
       " Prediction(uid='A3O1EFKA6UXFHR', iid='B001ELL60W', r_ui=5.0, est=4.698924731182796, details={'actual_k': 0, 'was_impossible': False}),\n",
       " Prediction(uid='A16J84BXTPH30', iid='7310172001', r_ui=5.0, est=4.992405667124319, details={'actual_k': 5, 'was_impossible': False}),\n",
       " Prediction(uid='A1R6YXX99GJ8NY', iid='B000NMJWZO', r_ui=4.0, est=4.169958337495666, details={'was_impossible': True, 'reason': 'User and/or item is unknown.'}),\n",
       " Prediction(uid='A1P9EWKQ1SJ6D9', iid='B003EML8PM', r_ui=5.0, est=4.169958337495666, details={'was_impossible': True, 'reason': 'User and/or item is unknown.'}),\n",
       " Prediction(uid='AW3G4EEW8ICRN', iid='B004051BLS', r_ui=5.0, est=4.169958337495666, details={'was_impossible': True, 'reason': 'User and/or item is unknown.'}),\n",
       " Prediction(uid='A1DQVXBQATAK2R', iid='B002GWMD2I', r_ui=5.0, est=4.169958337495666, details={'was_impossible': True, 'reason': 'User and/or item is unknown.'}),\n",
       " Prediction(uid='A1BXG0K7UD9CTD', iid='B000G6O2QG', r_ui=1.0, est=1, details={'actual_k': 5, 'was_impossible': False}),\n",
       " Prediction(uid='AK3DGMY737DLY', iid='B001BORBMY', r_ui=5.0, est=5, details={'actual_k': 5, 'was_impossible': False}),\n",
       " Prediction(uid='A23J1DML8VIL7Q', iid='B001E5E074', r_ui=4.0, est=4.169958337495666, details={'was_impossible': True, 'reason': 'User and/or item is unknown.'}),\n",
       " Prediction(uid='A361U4SXK7FCQE', iid='B004X3VRLG', r_ui=4.0, est=2.988083191693447, details={'actual_k': 2, 'was_impossible': False}),\n",
       " Prediction(uid='A18K14K26PMZTF', iid='B0089SPDUW', r_ui=5.0, est=4.169958337495666, details={'was_impossible': True, 'reason': 'User and/or item is unknown.'}),\n",
       " Prediction(uid='A1MG68OU7C223N', iid='B003D4MYLS', r_ui=5.0, est=4.952672098293213, details={'actual_k': 5, 'was_impossible': False}),\n",
       " Prediction(uid='A3S5414C0MJAB0', iid='B000CQIDHE', r_ui=5.0, est=5, details={'actual_k': 5, 'was_impossible': False}),\n",
       " Prediction(uid='AWSFAVWN6FRO1', iid='B003EML8PM', r_ui=5.0, est=5, details={'actual_k': 1, 'was_impossible': False}),\n",
       " Prediction(uid='A1NAM2T05NTLVX', iid='B001D0IZBM', r_ui=5.0, est=4.976321172510032, details={'actual_k': 2, 'was_impossible': False}),\n",
       " Prediction(uid='A1OHL9G55LD3NQ', iid='B000PDY3P0', r_ui=5.0, est=4.991898625145355, details={'actual_k': 3, 'was_impossible': False}),\n",
       " Prediction(uid='AYOMAHLWRQHUG', iid='B002UQE206', r_ui=3.0, est=5, details={'actual_k': 5, 'was_impossible': False}),\n",
       " Prediction(uid='AWOBBSEOX40W', iid='B0089SPENI', r_ui=5.0, est=5, details={'actual_k': 3, 'was_impossible': False}),\n",
       " Prediction(uid='AAA0TUKS5VBSA', iid='B007RTR8T8', r_ui=4.0, est=4.219642900765028, details={'actual_k': 5, 'was_impossible': False}),\n",
       " Prediction(uid='A24M0Q8JZX7AC7', iid='B000PDWBKO', r_ui=5.0, est=5, details={'actual_k': 1, 'was_impossible': False}),\n",
       " Prediction(uid='A2C5VFSYD1HH2V', iid='B000CQID1K', r_ui=5.0, est=4.967590642886504, details={'actual_k': 5, 'was_impossible': False}),\n",
       " Prediction(uid='A1Y5VVYAQGLCRR', iid='B000PDY3P0', r_ui=4.0, est=3.9873273586161444, details={'actual_k': 2, 'was_impossible': False}),\n",
       " Prediction(uid='A10F4G1THW8581', iid='B0033GMSTY', r_ui=4.0, est=3.9625117328356594, details={'actual_k': 3, 'was_impossible': False}),\n",
       " Prediction(uid='ABLDXZA3NLJEM', iid='B000REI2X6', r_ui=5.0, est=4.169958337495666, details={'was_impossible': True, 'reason': 'User and/or item is unknown.'}),\n",
       " Prediction(uid='A1EVNOCJ8RKX36', iid='B003TC7WN4', r_ui=5.0, est=4.988004123836879, details={'actual_k': 4, 'was_impossible': False}),\n",
       " Prediction(uid='AVVYZU98TJR72', iid='B004IREFUM', r_ui=1.0, est=1.0531413883690894, details={'actual_k': 2, 'was_impossible': False}),\n",
       " Prediction(uid='A3R8WVB5HU3872', iid='B000FKQD42', r_ui=4.0, est=4.756756756756757, details={'actual_k': 0, 'was_impossible': False}),\n",
       " Prediction(uid='A2HO39019JQQR9', iid='B005K4Q34S', r_ui=1.0, est=1.0415691052267548, details={'actual_k': 1, 'was_impossible': False}),\n",
       " Prediction(uid='A368F99UPGPP4R', iid='B000VK8AVK', r_ui=2.0, est=1.9810525663571834, details={'actual_k': 5, 'was_impossible': False}),\n",
       " Prediction(uid='A1P453MDKZXQ3F', iid='B0009XUAX0', r_ui=5.0, est=4.169958337495666, details={'was_impossible': True, 'reason': 'User and/or item is unknown.'}),\n",
       " Prediction(uid='A3LQ0X04C6AWXB', iid='B004K30HO2', r_ui=1.0, est=4.169958337495666, details={'was_impossible': True, 'reason': 'User and/or item is unknown.'}),\n",
       " Prediction(uid='#oc-R2GI4MU6AGGBTS', iid='B007Y59HVM', r_ui=1.0, est=1.031094488435417, details={'actual_k': 1, 'was_impossible': False}),\n",
       " Prediction(uid='A1QC0B2PFW3CNM', iid='B001GVIS4M', r_ui=5.0, est=4.169958337495666, details={'was_impossible': True, 'reason': 'User and/or item is unknown.'}),\n",
       " Prediction(uid='A30IWWU6QPZ4DM', iid='B001QE96CW', r_ui=5.0, est=4.853658536585367, details={'actual_k': 1, 'was_impossible': False}),\n",
       " Prediction(uid='A2JBW2AKMJARN5', iid='B005P0NLJ2', r_ui=5.0, est=4.169958337495666, details={'was_impossible': True, 'reason': 'User and/or item is unknown.'}),\n",
       " Prediction(uid='A2TEH84I6LA0VO', iid='B007RTR9DS', r_ui=3.0, est=4.169958337495666, details={'was_impossible': True, 'reason': 'User and/or item is unknown.'}),\n",
       " Prediction(uid='AC319JFXSIFOP', iid='B001EO5RFE', r_ui=5.0, est=4.42, details={'actual_k': 0, 'was_impossible': False}),\n",
       " Prediction(uid='A2X7CQ27QJ16HV', iid='B00188S3PM', r_ui=5.0, est=4.943575638549584, details={'actual_k': 5, 'was_impossible': False}),\n",
       " Prediction(uid='A395XPJ103IDIJ', iid='B0030FGMKE', r_ui=1.0, est=1.138607736902388, details={'actual_k': 4, 'was_impossible': False}),\n",
       " Prediction(uid='AB4ZBEIF9WLLD', iid='B0012C2GFM', r_ui=5.0, est=4.169958337495666, details={'was_impossible': True, 'reason': 'User and/or item is unknown.'}),\n",
       " Prediction(uid='AR6AZIGPZDKWO', iid='B00438XVGU', r_ui=5.0, est=4.978166095727385, details={'actual_k': 2, 'was_impossible': False}),\n",
       " Prediction(uid='A1YGGS49S92C4J', iid='B008FHUGNQ', r_ui=5.0, est=4.963993076605164, details={'actual_k': 3, 'was_impossible': False}),\n",
       " Prediction(uid='A2JS9LD9JVPDGS', iid='B00271NNLI', r_ui=1.0, est=4.169958337495666, details={'was_impossible': True, 'reason': 'User and/or item is unknown.'}),\n",
       " Prediction(uid='A1VADMMKFN02I2', iid='B000FKQD42', r_ui=4.0, est=4.169958337495666, details={'was_impossible': True, 'reason': 'User and/or item is unknown.'}),\n",
       " Prediction(uid='A24Q02CT98489C', iid='B00028P3CK', r_ui=5.0, est=5, details={'actual_k': 3, 'was_impossible': False}),\n",
       " Prediction(uid='A114H1REN93IEF', iid='B000LQORDE', r_ui=5.0, est=4.169958337495666, details={'was_impossible': True, 'reason': 'User and/or item is unknown.'}),\n",
       " Prediction(uid='A1CIWX1A7BZF3R', iid='B001QE96CW', r_ui=5.0, est=4.853658536585367, details={'actual_k': 1, 'was_impossible': False}),\n",
       " Prediction(uid='A3FNH64G4NAC8X', iid='B000EPMP40', r_ui=1.0, est=1.070269756840053, details={'actual_k': 3, 'was_impossible': False}),\n",
       " Prediction(uid='A3PIW7ZF4C5ZJL', iid='B005HG9ET0', r_ui=2.0, est=2.1123414065872272, details={'actual_k': 5, 'was_impossible': False}),\n",
       " Prediction(uid='A19QMRA5LKO605', iid='B005DDCKHK', r_ui=1.0, est=1.282398956975228, details={'actual_k': 1, 'was_impossible': False}),\n",
       " Prediction(uid='A1DTCJV6KOMJOA', iid='B002NHYQAS', r_ui=1.0, est=3.0405164555586146, details={'actual_k': 2, 'was_impossible': False}),\n",
       " Prediction(uid='A1C05TSWTI3VZ5', iid='B005GRCWDU', r_ui=5.0, est=4.937893165734858, details={'actual_k': 4, 'was_impossible': False}),\n",
       " Prediction(uid='A1437CAM9CNC1E', iid='B006BXUZVO', r_ui=4.0, est=3.823102951212904, details={'actual_k': 3, 'was_impossible': False}),\n",
       " Prediction(uid='A1YS4ZYEL0K3G1', iid='B0007A0AQM', r_ui=5.0, est=5, details={'actual_k': 5, 'was_impossible': False}),\n",
       " Prediction(uid='A1LQARKFX504K9', iid='B003FDC2I2', r_ui=5.0, est=4.970302925280387, details={'actual_k': 2, 'was_impossible': False}),\n",
       " Prediction(uid='A2HTDMMRJRE9YQ', iid='B000G7V3BM', r_ui=1.0, est=1.1204535095247223, details={'actual_k': 3, 'was_impossible': False}),\n",
       " Prediction(uid='A1Y5ERIKQBEMSP', iid='B001LGGH40', r_ui=4.0, est=4.268045120821939, details={'actual_k': 4, 'was_impossible': False}),\n",
       " Prediction(uid='AX2YAE01RTLOZ', iid='B000UBD88A', r_ui=5.0, est=4.970755246791605, details={'actual_k': 1, 'was_impossible': False}),\n",
       " Prediction(uid='A1TY4O9ISJTEF4', iid='B000ENUC3S', r_ui=3.0, est=4.169958337495666, details={'was_impossible': True, 'reason': 'User and/or item is unknown.'}),\n",
       " Prediction(uid='A332U4DDXTF857', iid='B007Y59HVM', r_ui=4.0, est=4.038903233317646, details={'actual_k': 2, 'was_impossible': False}),\n",
       " Prediction(uid='A1ZGHA3IJV01BK', iid='B0040K41MY', r_ui=3.0, est=4.189902259423916, details={'actual_k': 5, 'was_impossible': False}),\n",
       " Prediction(uid='A2UGWYQ0MVVDVL', iid='B005K4Q1VI', r_ui=2.0, est=2.009876030787841, details={'actual_k': 2, 'was_impossible': False}),\n",
       " Prediction(uid='ATRNPNV3V7VXU', iid='B003M5TG28', r_ui=5.0, est=4.8888862293991, details={'actual_k': 5, 'was_impossible': False}),\n",
       " Prediction(uid='A1N02WZ6LFXDGA', iid='B0000TSQ6Q', r_ui=5.0, est=4.995934907387321, details={'actual_k': 5, 'was_impossible': False}),\n",
       " Prediction(uid='A2QDBOCBWVJACJ', iid='B000EVT08S', r_ui=5.0, est=4.169958337495666, details={'was_impossible': True, 'reason': 'User and/or item is unknown.'}),\n",
       " Prediction(uid='A291Q9GA11R0SH', iid='B008GRIB0A', r_ui=3.0, est=3.244912418307386, details={'actual_k': 3, 'was_impossible': False}),\n",
       " Prediction(uid='A108BPYWK3GZWC', iid='B0039556K2', r_ui=5.0, est=4.817102987808873, details={'actual_k': 5, 'was_impossible': False}),\n",
       " Prediction(uid='AL63PFK6S156O', iid='B007RTR8UW', r_ui=3.0, est=4.169958337495666, details={'was_impossible': True, 'reason': 'User and/or item is unknown.'}),\n",
       " Prediction(uid='A2YYNCMNXRHSVF', iid='B000ODH4BG', r_ui=4.0, est=3.9027972027972027, details={'actual_k': 1, 'was_impossible': False}),\n",
       " Prediction(uid='A1YJJE75A9DEVD', iid='B0006Z7NOK', r_ui=5.0, est=4.169958337495666, details={'was_impossible': True, 'reason': 'User and/or item is unknown.'}),\n",
       " Prediction(uid='A28BOYRM87JPK0', iid='B00622CYTK', r_ui=5.0, est=4.978468899521531, details={'actual_k': 1, 'was_impossible': False}),\n",
       " Prediction(uid='A255UC3D8BBH1D', iid='B001KQAR24', r_ui=5.0, est=5, details={'actual_k': 1, 'was_impossible': False}),\n",
       " Prediction(uid='A105ATGVO26YDX', iid='B00370CFR6', r_ui=4.0, est=4.169958337495666, details={'was_impossible': True, 'reason': 'User and/or item is unknown.'}),\n",
       " Prediction(uid='A12EE96762GBH0', iid='B00315WGNK', r_ui=3.0, est=3.0136184603339666, details={'actual_k': 2, 'was_impossible': False}),\n",
       " Prediction(uid='AJ329F9H546BM', iid='B005VOONGM', r_ui=4.0, est=4.029446795718169, details={'actual_k': 5, 'was_impossible': False}),\n",
       " Prediction(uid='A23LSQMKWU1B00', iid='B00020HHGS', r_ui=2.0, est=1.9709637387408696, details={'actual_k': 5, 'was_impossible': False}),\n",
       " Prediction(uid='A32EOHLFZYXJEP', iid='B007JFXWRC', r_ui=5.0, est=4.521614244957791, details={'actual_k': 3, 'was_impossible': False}),\n",
       " Prediction(uid='A3MQJDWDYH3LCE', iid='B0026RQTGE', r_ui=5.0, est=5, details={'actual_k': 1, 'was_impossible': False}),\n",
       " Prediction(uid='A3AJBJJ3W352AY', iid='B0009ETA76', r_ui=1.0, est=1, details={'actual_k': 1, 'was_impossible': False}),\n",
       " Prediction(uid='A356RFKNIG043B', iid='B001RVFEP2', r_ui=4.0, est=3.993005407909219, details={'actual_k': 5, 'was_impossible': False}),\n",
       " Prediction(uid='A2B98WZX2YX23D', iid='B000G7YO2M', r_ui=5.0, est=4.960361877540739, details={'actual_k': 3, 'was_impossible': False}),\n",
       " Prediction(uid='A245L81OE57D7H', iid='B00390T5JA', r_ui=5.0, est=4.169958337495666, details={'was_impossible': True, 'reason': 'User and/or item is unknown.'}),\n",
       " Prediction(uid='A1S6HK2R1KUC5E', iid='B0030VJ9K8', r_ui=5.0, est=4.947437862743599, details={'actual_k': 5, 'was_impossible': False}),\n",
       " Prediction(uid='A1378H37GO9UZD', iid='B002VLZ8D0', r_ui=5.0, est=4.169958337495666, details={'was_impossible': True, 'reason': 'User and/or item is unknown.'}),\n",
       " Prediction(uid='AFHUP90KARX08', iid='B0006I5M2M', r_ui=4.0, est=3.9646990567688003, details={'actual_k': 5, 'was_impossible': False}),\n",
       " Prediction(uid='A2XRZV63X79YSJ', iid='B002IEZJMA', r_ui=2.0, est=2.821516320915545, details={'actual_k': 2, 'was_impossible': False}),\n",
       " Prediction(uid='A1Y9P0ZD9VDFVF', iid='B005VOOKS8', r_ui=5.0, est=5, details={'actual_k': 5, 'was_impossible': False}),\n",
       " Prediction(uid='A34F2WZJ2HXX1B', iid='B000CQIDHE', r_ui=3.0, est=3.047277680874651, details={'actual_k': 5, 'was_impossible': False}),\n",
       " Prediction(uid='A27D1T38Z4XUVJ', iid='B003VXFK44', r_ui=5.0, est=4.916302055005982, details={'actual_k': 5, 'was_impossible': False}),\n",
       " Prediction(uid='A3IO030CCQ1LUS', iid='B0009F3SFA', r_ui=2.0, est=4.169958337495666, details={'was_impossible': True, 'reason': 'User and/or item is unknown.'}),\n",
       " Prediction(uid='AA88DF6TVFYUX', iid='B000WFU8O6', r_ui=1.0, est=1.0503393235705811, details={'actual_k': 5, 'was_impossible': False}),\n",
       " Prediction(uid='A2L6BT1PVV9YN0', iid='B005HG9ERW', r_ui=5.0, est=4.987604420210498, details={'actual_k': 5, 'was_impossible': False}),\n",
       " Prediction(uid='AUVZB2ZA2UW6A', iid='B002JG5TVS', r_ui=1.0, est=4.169958337495666, details={'was_impossible': True, 'reason': 'User and/or item is unknown.'}),\n",
       " Prediction(uid='A3GAJB5Y9XCLHU', iid='B008RWUKXK', r_ui=4.0, est=3.9568199721296313, details={'actual_k': 2, 'was_impossible': False}),\n",
       " Prediction(uid='A2WHFJLN0R2PD6', iid='B004JRKEH4', r_ui=4.0, est=3.3607563716086597, details={'actual_k': 1, 'was_impossible': False}),\n",
       " Prediction(uid='A3J356L2ADK05Z', iid='B001LG940E', r_ui=4.0, est=4.235558250604079, details={'actual_k': 5, 'was_impossible': False}),\n",
       " Prediction(uid='A2WBI0JT7AKAUH', iid='B000ED7M3Q', r_ui=5.0, est=4.169958337495666, details={'was_impossible': True, 'reason': 'User and/or item is unknown.'}),\n",
       " Prediction(uid='A38XTOID4VG01S', iid='B004U49QU2', r_ui=2.0, est=3.9774489389718766, details={'actual_k': 5, 'was_impossible': False}),\n",
       " Prediction(uid='A18YMFFJW974QS', iid='B007RTR8UW', r_ui=4.0, est=5, details={'actual_k': 1, 'was_impossible': False}),\n",
       " Prediction(uid='A284Y0Q6QYCD5W', iid='B000E4ALHY', r_ui=5.0, est=4.998528435932585, details={'actual_k': 2, 'was_impossible': False}),\n",
       " Prediction(uid='ABNMD6670TV53', iid='B005VOONM6', r_ui=2.0, est=1.9966162240445655, details={'actual_k': 5, 'was_impossible': False}),\n",
       " Prediction(uid='AQAE1BZM6GQ2I', iid='B0030VJ8PE', r_ui=1.0, est=3.7101955377997484, details={'actual_k': 5, 'was_impossible': False}),\n",
       " Prediction(uid='A3FLMUFZPCP7S4', iid='B0000DID5R', r_ui=5.0, est=4.169958337495666, details={'was_impossible': True, 'reason': 'User and/or item is unknown.'}),\n",
       " Prediction(uid='A2WGD5GNQME5O5', iid='B000Q5X876', r_ui=5.0, est=4.964166709923941, details={'actual_k': 2, 'was_impossible': False}),\n",
       " Prediction(uid='A3T42G3TCOTB0A', iid='B001E0TBA0', r_ui=3.0, est=2.9469090527079826, details={'actual_k': 4, 'was_impossible': False}),\n",
       " Prediction(uid='A3AV512WASE1KD', iid='B0085YB4DU', r_ui=3.0, est=2.935651103252806, details={'actual_k': 3, 'was_impossible': False}),\n",
       " Prediction(uid='A29ENJ5KUOH57X', iid='B003G52BN0', r_ui=2.0, est=2.1088050314465407, details={'actual_k': 1, 'was_impossible': False}),\n",
       " Prediction(uid='A3DZNOVW8A5T1S', iid='B000FMZO90', r_ui=5.0, est=5, details={'actual_k': 1, 'was_impossible': False}),\n",
       " Prediction(uid='A34P5X5GO870GJ', iid='B00248EE4O', r_ui=5.0, est=4.948467740126715, details={'actual_k': 3, 'was_impossible': False}),\n",
       " Prediction(uid='AE98IZ1FQ9EHZ', iid='B000CQBZOW', r_ui=5.0, est=5, details={'actual_k': 5, 'was_impossible': False}),\n",
       " Prediction(uid='AH65EFJKOABHU', iid='B000EVIDUY', r_ui=3.0, est=4.169958337495666, details={'was_impossible': True, 'reason': 'User and/or item is unknown.'}),\n",
       " Prediction(uid='A3G93L4BYM513', iid='B007OXJKF2', r_ui=2.0, est=2.0912820512820516, details={'actual_k': 1, 'was_impossible': False}),\n",
       " Prediction(uid='A5KMMY627T3W', iid='B006MONQMC', r_ui=5.0, est=4.613197068147199, details={'actual_k': 3, 'was_impossible': False}),\n",
       " Prediction(uid='A13Q406RQU44OP', iid='B001SIY414', r_ui=1.0, est=1.0561676265590307, details={'actual_k': 5, 'was_impossible': False}),\n",
       " Prediction(uid='A3MFMHS8LI7EVU', iid='B0007A0APS', r_ui=5.0, est=5, details={'actual_k': 1, 'was_impossible': False}),\n",
       " Prediction(uid='A11YOTONCPRQ9S', iid='B000CQG8B2', r_ui=2.0, est=2.1407617863740063, details={'actual_k': 4, 'was_impossible': False}),\n",
       " Prediction(uid='A181LOC0HE4OAS', iid='B005K4Q1YA', r_ui=3.0, est=2.9698573614483785, details={'actual_k': 2, 'was_impossible': False}),\n",
       " Prediction(uid='AJB5P7GVR0MT8', iid='B000VMDB7Q', r_ui=4.0, est=3.8771929824561404, details={'actual_k': 1, 'was_impossible': False}),\n",
       " Prediction(uid='A3MJ7AYX57YD6G', iid='B0013NUGDE', r_ui=4.0, est=4.021213904713657, details={'actual_k': 5, 'was_impossible': False}),\n",
       " Prediction(uid='AYOMAHLWRQHUG', iid='B003MOXA6C', r_ui=5.0, est=5, details={'actual_k': 1, 'was_impossible': False}),\n",
       " Prediction(uid='A36MP37DITBU6F', iid='B0031UBVX6', r_ui=5.0, est=4.926470588235294, details={'actual_k': 1, 'was_impossible': False}),\n",
       " Prediction(uid='A1W2EGUPW8OYH4', iid='B005HG9ERW', r_ui=5.0, est=4.169958337495666, details={'was_impossible': True, 'reason': 'User and/or item is unknown.'}),\n",
       " Prediction(uid='A1A7YAVDDSZ8EF', iid='B002GWMD2I', r_ui=3.0, est=4.2835820895522385, details={'actual_k': 0, 'was_impossible': False}),\n",
       " Prediction(uid='A2UFC8M91UFRX9', iid='B000G6MBX2', r_ui=5.0, est=5, details={'actual_k': 5, 'was_impossible': False}),\n",
       " Prediction(uid='A2MTJ744OM86FX', iid='B0019QT66I', r_ui=4.0, est=3.970534317610733, details={'actual_k': 5, 'was_impossible': False}),\n",
       " Prediction(uid='A3RXLDCML1SXH6', iid='B000ET4SM8', r_ui=5.0, est=4.169958337495666, details={'was_impossible': True, 'reason': 'User and/or item is unknown.'}),\n",
       " Prediction(uid='A3EATEAQ12T5CU', iid='B003VXL0V6', r_ui=5.0, est=4.995521468546889, details={'actual_k': 5, 'was_impossible': False}),\n",
       " Prediction(uid='A32OCSEI333CQ6', iid='B00014IVPQ', r_ui=5.0, est=4.169958337495666, details={'was_impossible': True, 'reason': 'User and/or item is unknown.'}),\n",
       " Prediction(uid='A3U4BX2OKHBI6F', iid='B000GPNKRE', r_ui=5.0, est=4.169958337495666, details={'was_impossible': True, 'reason': 'User and/or item is unknown.'}),\n",
       " Prediction(uid='A2062FPGYJ6IQM', iid='B004X3VRLG', r_ui=4.0, est=3.546218487394958, details={'actual_k': 0, 'was_impossible': False}),\n",
       " Prediction(uid='A2MLA4FHL5K325', iid='B001BCXTGS', r_ui=4.0, est=3.34855431761486, details={'actual_k': 5, 'was_impossible': False}),\n",
       " Prediction(uid='A2YF0P1QH1Q1ZA', iid='B005QRPHSW', r_ui=3.0, est=4.169958337495666, details={'was_impossible': True, 'reason': 'User and/or item is unknown.'}),\n",
       " Prediction(uid='AEN4D5U2E34PB', iid='B003BJZMSM', r_ui=5.0, est=4.927405079806237, details={'actual_k': 3, 'was_impossible': False}),\n",
       " Prediction(uid='A28TWWUAWFVCTR', iid='B002TMV3GC', r_ui=5.0, est=3.065333069711552, details={'actual_k': 5, 'was_impossible': False}),\n",
       " Prediction(uid='A360EFJOE4L7IZ', iid='B000VK8HJ0', r_ui=5.0, est=4.991886069856767, details={'actual_k': 4, 'was_impossible': False}),\n",
       " Prediction(uid='A3HZEQQZ4E1BND', iid='B001D0GV90', r_ui=5.0, est=4.169958337495666, details={'was_impossible': True, 'reason': 'User and/or item is unknown.'}),\n",
       " Prediction(uid='AUWPCVP2M82S9', iid='B00401OZ1U', r_ui=5.0, est=4.169958337495666, details={'was_impossible': True, 'reason': 'User and/or item is unknown.'}),\n",
       " Prediction(uid='A19LF8H78H24KJ', iid='B008JKU2CO', r_ui=5.0, est=5, details={'actual_k': 3, 'was_impossible': False}),\n",
       " Prediction(uid='A1XCJC9CSJVGIB', iid='B00390T5JA', r_ui=5.0, est=4.169958337495666, details={'was_impossible': True, 'reason': 'User and/or item is unknown.'}),\n",
       " Prediction(uid='A9ELUY7JBX3K3', iid='B006N3IG4K', r_ui=5.0, est=5, details={'actual_k': 5, 'was_impossible': False}),\n",
       " Prediction(uid='A2HO898G5N5X05', iid='B001CWV4RS', r_ui=5.0, est=5, details={'actual_k': 3, 'was_impossible': False}),\n",
       " Prediction(uid='A3NE8C9FPOPRTM', iid='B003Z6ZGZK', r_ui=4.0, est=4.042503279106265, details={'actual_k': 3, 'was_impossible': False}),\n",
       " Prediction(uid='A2W1A5GK4A03ZT', iid='B00472I5A4', r_ui=5.0, est=4.98120215941401, details={'actual_k': 5, 'was_impossible': False}),\n",
       " Prediction(uid='AMXWEKJL9PF1J', iid='B0030VJ79Q', r_ui=5.0, est=5, details={'actual_k': 3, 'was_impossible': False}),\n",
       " Prediction(uid='A1X3ESYZ79H59E', iid='B006BXUY2Y', r_ui=3.0, est=3.023871507142313, details={'actual_k': 5, 'was_impossible': False}),\n",
       " Prediction(uid='AR7UQW3FL8DIL', iid='B000CQID2Y', r_ui=3.0, est=3.1461647967101767, details={'actual_k': 5, 'was_impossible': False}),\n",
       " Prediction(uid='A2E32CO9HGN51Y', iid='B002AY5BHG', r_ui=5.0, est=4.973963414039432, details={'actual_k': 3, 'was_impossible': False}),\n",
       " Prediction(uid='ANU97DL0YU2GC', iid='B003VXHGE6', r_ui=2.0, est=2.073283949996065, details={'actual_k': 5, 'was_impossible': False}),\n",
       " Prediction(uid='A2G8AAJT06LWTP', iid='B003ZMFUKU', r_ui=5.0, est=5, details={'actual_k': 1, 'was_impossible': False}),\n",
       " Prediction(uid='A1TLWMNKSFBME', iid='B001P22K5U', r_ui=5.0, est=4.169958337495666, details={'was_impossible': True, 'reason': 'User and/or item is unknown.'}),\n",
       " Prediction(uid='A2W5IUAKVQRMBF', iid='B002QWP89S', r_ui=5.0, est=4.996132447020195, details={'actual_k': 2, 'was_impossible': False}),\n",
       " Prediction(uid='AM004PHO6F3FZ', iid='B004FEN3GK', r_ui=5.0, est=3.7573289803584826, details={'actual_k': 2, 'was_impossible': False}),\n",
       " Prediction(uid='APB7IAFNAWX05', iid='B005LXGGH2', r_ui=1.0, est=1, details={'actual_k': 5, 'was_impossible': False}),\n",
       " Prediction(uid='A1SHPNZ1AG7EDI', iid='B001EO5Q64', r_ui=5.0, est=4.169958337495666, details={'was_impossible': True, 'reason': 'User and/or item is unknown.'}),\n",
       " Prediction(uid='AVJINCWC85L4K', iid='B006N3I0DM', r_ui=1.0, est=1.0176455027710585, details={'actual_k': 3, 'was_impossible': False}),\n",
       " Prediction(uid='A2URRXFYRYQ8PP', iid='B000QSON4K', r_ui=1.0, est=2.7647027775303887, details={'actual_k': 5, 'was_impossible': False}),\n",
       " Prediction(uid='A38KP1POQ191WT', iid='B006WYSFZK', r_ui=1.0, est=1, details={'actual_k': 5, 'was_impossible': False}),\n",
       " Prediction(uid='A3R6IGKV182J6Q', iid='B008ATDIDE', r_ui=5.0, est=5, details={'actual_k': 2, 'was_impossible': False}),\n",
       " Prediction(uid='A3D03P6CPF7PUL', iid='B0001ES9F8', r_ui=5.0, est=4.304568527918781, details={'actual_k': 0, 'was_impossible': False}),\n",
       " Prediction(uid='AZ4QFFUT8QVTA', iid='B00073IVAQ', r_ui=5.0, est=5, details={'actual_k': 5, 'was_impossible': False}),\n",
       " Prediction(uid='A1UASXJKH475MV', iid='B001RVFEP2', r_ui=5.0, est=5, details={'actual_k': 5, 'was_impossible': False}),\n",
       " Prediction(uid='A65Y7G3W06L6C', iid='B000SDKDM4', r_ui=1.0, est=4.169958337495666, details={'was_impossible': True, 'reason': 'User and/or item is unknown.'}),\n",
       " Prediction(uid='A18LQUANI2G7KP', iid='B000QSON4K', r_ui=5.0, est=4.954586384671257, details={'actual_k': 3, 'was_impossible': False}),\n",
       " Prediction(uid='A1CVFUQ1PGSIJL', iid='B000CQID6U', r_ui=5.0, est=4.916207990586302, details={'actual_k': 5, 'was_impossible': False}),\n",
       " Prediction(uid='A11F3TVJRPH6LX', iid='B000ER6ZRG', r_ui=2.0, est=2.122153209109731, details={'actual_k': 1, 'was_impossible': False}),\n",
       " Prediction(uid='A1H68PDH2D0AJ6', iid='B002N7DSLG', r_ui=2.0, est=2.0617201156684235, details={'actual_k': 4, 'was_impossible': False}),\n",
       " Prediction(uid='AEI122F1SK8I4', iid='B002OFUBJO', r_ui=5.0, est=5, details={'actual_k': 5, 'was_impossible': False}),\n",
       " Prediction(uid='A2SZI14XX6766E', iid='B000WFEN74', r_ui=5.0, est=4.962043540638451, details={'actual_k': 5, 'was_impossible': False}),\n",
       " Prediction(uid='A9VKH7YK62F94', iid='B001P3PR54', r_ui=5.0, est=4.169958337495666, details={'was_impossible': True, 'reason': 'User and/or item is unknown.'}),\n",
       " Prediction(uid='A2LH0CSHWN30K2', iid='B004HOLD4W', r_ui=5.0, est=4.980036800046211, details={'actual_k': 5, 'was_impossible': False}),\n",
       " Prediction(uid='A2L42S0B15T9GJ', iid='B000H0ZJIG', r_ui=5.0, est=4.977965793938795, details={'actual_k': 3, 'was_impossible': False}),\n",
       " Prediction(uid='A26MBVPPXZN1YM', iid='B0061IUKDM', r_ui=5.0, est=4.923095624588412, details={'actual_k': 2, 'was_impossible': False}),\n",
       " Prediction(uid='A33AQPJYH7UUXR', iid='B000H0ZJHW', r_ui=4.0, est=3.995968063675764, details={'actual_k': 3, 'was_impossible': False}),\n",
       " Prediction(uid='A27OULHW751QEZ', iid='B000NMJWZO', r_ui=5.0, est=4.169958337495666, details={'was_impossible': True, 'reason': 'User and/or item is unknown.'}),\n",
       " Prediction(uid='A28SAYH7VX9Y6N', iid='B0018KLPFK', r_ui=4.0, est=4.009356136820926, details={'actual_k': 1, 'was_impossible': False}),\n",
       " Prediction(uid='A284MZZ9TQRKTI', iid='B006N3I0DM', r_ui=5.0, est=5, details={'actual_k': 3, 'was_impossible': False}),\n",
       " Prediction(uid='A1LZJZIHUPLDV4', iid='B001EO5QZK', r_ui=5.0, est=4.927627921673389, details={'actual_k': 5, 'was_impossible': False}),\n",
       " Prediction(uid='A2Q21C7F9FDSFG', iid='B002Z08RIA', r_ui=4.0, est=4.169958337495666, details={'was_impossible': True, 'reason': 'User and/or item is unknown.'}),\n",
       " Prediction(uid='A1BXVZSQOJE6UE', iid='B0044CPA28', r_ui=5.0, est=2.1485006885661484, details={'actual_k': 3, 'was_impossible': False}),\n",
       " Prediction(uid='A3320A4SA3KOXQ', iid='B000GJQ5C2', r_ui=5.0, est=4.169958337495666, details={'was_impossible': True, 'reason': 'User and/or item is unknown.'}),\n",
       " Prediction(uid='A1WML4XO0DQIIZ', iid='B0009ETA6W', r_ui=3.0, est=4.169958337495666, details={'was_impossible': True, 'reason': 'User and/or item is unknown.'}),\n",
       " Prediction(uid='A38F9Y3V0CNUZW', iid='B002T0NXK8', r_ui=5.0, est=4.941921139306869, details={'actual_k': 5, 'was_impossible': False}),\n",
       " Prediction(uid='A1QVFHPY8418HC', iid='B001AHFVHO', r_ui=5.0, est=5, details={'actual_k': 5, 'was_impossible': False}),\n",
       " Prediction(uid='A4SOPOLKS78SJ', iid='B000FNEZG2', r_ui=2.0, est=2.255966993923326, details={'actual_k': 3, 'was_impossible': False}),\n",
       " Prediction(uid='A3LQ6QXNNFPLLA', iid='B0083T6HC0', r_ui=5.0, est=4.169958337495666, details={'was_impossible': True, 'reason': 'User and/or item is unknown.'}),\n",
       " Prediction(uid='A1SCQYLCP16AK3', iid='B00448JJLA', r_ui=5.0, est=5, details={'actual_k': 2, 'was_impossible': False}),\n",
       " Prediction(uid='A2OTO7TH9F433R', iid='B000GW6786', r_ui=2.0, est=2.6092501363533023, details={'actual_k': 5, 'was_impossible': False}),\n",
       " Prediction(uid='A1BTG38XSGYLW3', iid='B001BDDTB2', r_ui=4.0, est=4.051323582420652, details={'actual_k': 5, 'was_impossible': False}),\n",
       " Prediction(uid='A2LS9RBSI8SDZF', iid='B004728MI4', r_ui=5.0, est=5, details={'actual_k': 5, 'was_impossible': False}),\n",
       " Prediction(uid='A31BZEQMPKS5MY', iid='B000YSTIL0', r_ui=4.0, est=4.003178626946182, details={'actual_k': 5, 'was_impossible': False}),\n",
       " Prediction(uid='A1Q9YNC9O19SMK', iid='B001E5DWW8', r_ui=5.0, est=4.169958337495666, details={'was_impossible': True, 'reason': 'User and/or item is unknown.'}),\n",
       " Prediction(uid='AM68UIIY51RCC', iid='B000PDY3P0', r_ui=5.0, est=4.169958337495666, details={'was_impossible': True, 'reason': 'User and/or item is unknown.'}),\n",
       " Prediction(uid='A2EPRCZHVXA5R5', iid='B000H0ZJHW', r_ui=5.0, est=5, details={'actual_k': 4, 'was_impossible': False}),\n",
       " Prediction(uid='A2N10M1J3KJZK4', iid='B0058AMY5G', r_ui=5.0, est=5, details={'actual_k': 5, 'was_impossible': False}),\n",
       " Prediction(uid='A3H6O87C5UQDDB', iid='B002QWP89S', r_ui=4.0, est=4.00050491806793, details={'actual_k': 3, 'was_impossible': False}),\n",
       " Prediction(uid='A1F951RM76XUNU', iid='B002HQLY7S', r_ui=5.0, est=5, details={'actual_k': 2, 'was_impossible': False}),\n",
       " Prediction(uid='A28QTAFIAZSAIU', iid='B002QWP89S', r_ui=5.0, est=4.9975718813596925, details={'actual_k': 5, 'was_impossible': False}),\n",
       " Prediction(uid='A1T1YSCDW0PD25', iid='B00395570G', r_ui=3.0, est=3.8159325663652024, details={'actual_k': 5, 'was_impossible': False}),\n",
       " Prediction(uid='ATMTWGE9JQI2J', iid='B0013A0QXC', r_ui=4.0, est=4.029244753208395, details={'actual_k': 1, 'was_impossible': False}),\n",
       " Prediction(uid='ACM6X1Q9R2K81', iid='B007M83302', r_ui=5.0, est=4.965317619663824, details={'actual_k': 5, 'was_impossible': False}),\n",
       " Prediction(uid='A3EP386MRS1JR8', iid='B000SDKDM4', r_ui=5.0, est=4.068493150684931, details={'actual_k': 0, 'was_impossible': False}),\n",
       " Prediction(uid='A3BR32AH29C9D1', iid='B003SBU3OG', r_ui=5.0, est=5, details={'actual_k': 2, 'was_impossible': False}),\n",
       " Prediction(uid='ATAYF68X8AL8Q', iid='B003CIBPN8', r_ui=5.0, est=5, details={'actual_k': 2, 'was_impossible': False}),\n",
       " Prediction(uid='A31LX0K4MEAYK7', iid='B005GTWCTM', r_ui=1.0, est=1, details={'actual_k': 2, 'was_impossible': False}),\n",
       " Prediction(uid='AZ9WQM7SLUX7E', iid='B004TPKAN4', r_ui=4.0, est=4.360528461171412, details={'actual_k': 2, 'was_impossible': False}),\n",
       " Prediction(uid='A23LSQMKWU1B00', iid='B00020HHAO', r_ui=2.0, est=2.0223919657377945, details={'actual_k': 5, 'was_impossible': False}),\n",
       " Prediction(uid='A3QSBGIXNR0MF1', iid='B000WFPJIG', r_ui=5.0, est=5, details={'actual_k': 5, 'was_impossible': False}),\n",
       " Prediction(uid='A2RN5EQC3F75PJ', iid='B000E46GGO', r_ui=5.0, est=5, details={'actual_k': 5, 'was_impossible': False}),\n",
       " Prediction(uid='A3ZTL7UCCFS3M', iid='B000P54HVS', r_ui=5.0, est=4.932436300670771, details={'actual_k': 3, 'was_impossible': False}),\n",
       " Prediction(uid='AIEEK7AHXKZCC', iid='B005VOOM2W', r_ui=5.0, est=4.925720886944318, details={'actual_k': 5, 'was_impossible': False}),\n",
       " Prediction(uid='A2BN9DIBP9A0XG', iid='B002AR158W', r_ui=5.0, est=3.41171959980253, details={'actual_k': 2, 'was_impossible': False}),\n",
       " Prediction(uid='A1KGIG7PA9UYEH', iid='B000084E6V', r_ui=5.0, est=4.169958337495666, details={'was_impossible': True, 'reason': 'User and/or item is unknown.'}),\n",
       " Prediction(uid='A2CHX639I2RJP9', iid='B00141OX52', r_ui=5.0, est=4.868010238715943, details={'actual_k': 2, 'was_impossible': False}),\n",
       " Prediction(uid='A12RKYH699SOC3', iid='B001P3PR54', r_ui=4.0, est=4.4743589743589745, details={'actual_k': 0, 'was_impossible': False}),\n",
       " Prediction(uid='AU0E21CRJFYXU', iid='B001EQ4OWO', r_ui=5.0, est=4.169958337495666, details={'was_impossible': True, 'reason': 'User and/or item is unknown.'}),\n",
       " Prediction(uid='A3G1NGQAAE28PP', iid='B00315WGNK', r_ui=1.0, est=1.0590659340659343, details={'actual_k': 1, 'was_impossible': False}),\n",
       " Prediction(uid='A2EZX6PDFWSGX5', iid='B0061PPLYI', r_ui=4.0, est=4.169958337495666, details={'was_impossible': True, 'reason': 'User and/or item is unknown.'}),\n",
       " Prediction(uid='A2830ZHYJP2J1U', iid='B0029NII3C', r_ui=3.0, est=3.070598317756506, details={'actual_k': 5, 'was_impossible': False}),\n",
       " Prediction(uid='A2VRFR7XO6C3JO', iid='B0098WV8F2', r_ui=4.0, est=4.169958337495666, details={'was_impossible': True, 'reason': 'User and/or item is unknown.'}),\n",
       " Prediction(uid='A2GT5MEDUP5YCF', iid='B007Y59HVM', r_ui=5.0, est=5, details={'actual_k': 1, 'was_impossible': False}),\n",
       " Prediction(uid='APJ9Y0Y5JU03D', iid='B000CRKOIE', r_ui=5.0, est=5, details={'actual_k': 1, 'was_impossible': False}),\n",
       " Prediction(uid='AQN1T0TUVQBOQ', iid='B001E5E10K', r_ui=2.0, est=4.169958337495666, details={'was_impossible': True, 'reason': 'User and/or item is unknown.'}),\n",
       " Prediction(uid='A398PXB1E3C2RJ', iid='B003LPMC3O', r_ui=5.0, est=4.169958337495666, details={'was_impossible': True, 'reason': 'User and/or item is unknown.'}),\n",
       " Prediction(uid='A2QGNZ4SB2QG6R', iid='B002QWP89S', r_ui=5.0, est=5, details={'actual_k': 4, 'was_impossible': False}),\n",
       " Prediction(uid='A1X7H9934WEAD6', iid='B000H0ZJIG', r_ui=5.0, est=5, details={'actual_k': 4, 'was_impossible': False}),\n",
       " Prediction(uid='A2XM0LQBPWCFPD', iid='B000GAT6NG', r_ui=5.0, est=4.990296446202988, details={'actual_k': 2, 'was_impossible': False}),\n",
       " Prediction(uid='AOMO31D8U3OPH', iid='B000VK6TKO', r_ui=1.0, est=1.24868342897186, details={'actual_k': 4, 'was_impossible': False}),\n",
       " Prediction(uid='A3PZ6YWL0FIW9W', iid='B001E5E1MI', r_ui=5.0, est=4.169958337495666, details={'was_impossible': True, 'reason': 'User and/or item is unknown.'}),\n",
       " Prediction(uid='A14LGGRDGKO02Y', iid='B000H1217M', r_ui=5.0, est=5, details={'actual_k': 4, 'was_impossible': False}),\n",
       " Prediction(uid='A31VIRNB1UTO1R', iid='B000F4F94S', r_ui=5.0, est=4.169958337495666, details={'was_impossible': True, 'reason': 'User and/or item is unknown.'}),\n",
       " Prediction(uid='A1OC9V2KPBUSMP', iid='B0009Y8AGI', r_ui=4.0, est=4.169958337495666, details={'was_impossible': True, 'reason': 'User and/or item is unknown.'}),\n",
       " Prediction(uid='A2X1XBJOQXQ3W8', iid='B00213IAUQ', r_ui=2.0, est=2.125078106089267, details={'actual_k': 5, 'was_impossible': False}),\n",
       " Prediction(uid='A3CYFZTHEX58OF', iid='B00141WDXG', r_ui=5.0, est=5, details={'actual_k': 2, 'was_impossible': False}),\n",
       " Prediction(uid='A3NNO8EU8BZJQ0', iid='B006N3I79Y', r_ui=5.0, est=4.730304772857965, details={'actual_k': 1, 'was_impossible': False}),\n",
       " Prediction(uid='A17G81MW1G8BCC', iid='B007TJGZ54', r_ui=5.0, est=4.94161788494074, details={'actual_k': 4, 'was_impossible': False}),\n",
       " Prediction(uid='A1STVFGGUDXFFJ', iid='B000IW71BQ', r_ui=5.0, est=4.169958337495666, details={'was_impossible': True, 'reason': 'User and/or item is unknown.'}),\n",
       " Prediction(uid='AW9QE82DIYZR4', iid='B000ORSIJ4', r_ui=4.0, est=4.169958337495666, details={'was_impossible': True, 'reason': 'User and/or item is unknown.'}),\n",
       " Prediction(uid='A24PA1PWQ9ZFM6', iid='B000ETGBN2', r_ui=3.0, est=3.1942121480982664, details={'actual_k': 2, 'was_impossible': False}),\n",
       " Prediction(uid='AOMKUI325W2TJ', iid='B005VOONI0', r_ui=5.0, est=4.973617061245977, details={'actual_k': 5, 'was_impossible': False}),\n",
       " Prediction(uid='A3TU00416R38PI', iid='B00305L330', r_ui=5.0, est=4.997197338781497, details={'actual_k': 1, 'was_impossible': False}),\n",
       " Prediction(uid='A1AEPMPA12GUJ7', iid='B005VOOL00', r_ui=4.0, est=4.105173977948254, details={'actual_k': 5, 'was_impossible': False}),\n",
       " Prediction(uid='A1A5TS9R18R73Y', iid='B0034EDM2W', r_ui=5.0, est=5, details={'actual_k': 4, 'was_impossible': False}),\n",
       " Prediction(uid='AFVDHQ4W359NH', iid='B004R8L71W', r_ui=5.0, est=5, details={'actual_k': 5, 'was_impossible': False}),\n",
       " Prediction(uid='A2BSGIYT5J5FDP', iid='B000CQIDK6', r_ui=4.0, est=3.9993341377937344, details={'actual_k': 5, 'was_impossible': False}),\n",
       " Prediction(uid='A1CSB9FS3SLHJO', iid='B000FVDWU4', r_ui=5.0, est=5, details={'actual_k': 5, 'was_impossible': False}),\n",
       " Prediction(uid='A1BBXK2H7OSVPV', iid='B000YSS7EO', r_ui=5.0, est=4.917819945965111, details={'actual_k': 2, 'was_impossible': False}),\n",
       " Prediction(uid='A1S0IHY7VQL1WI', iid='B000CQID6U', r_ui=5.0, est=4.954046660513329, details={'actual_k': 4, 'was_impossible': False}),\n",
       " Prediction(uid='A1BTDLRW30MIFK', iid='B008GRIB0A', r_ui=5.0, est=5, details={'actual_k': 5, 'was_impossible': False}),\n",
       " Prediction(uid='ASNDDJCOM2RMV', iid='B003MA8P02', r_ui=5.0, est=5, details={'actual_k': 5, 'was_impossible': False}),\n",
       " Prediction(uid='ACVMA9Y3ULJ1T', iid='B008JKTTUA', r_ui=5.0, est=5, details={'actual_k': 5, 'was_impossible': False}),\n",
       " Prediction(uid='A35F0LZPUCBWU9', iid='B00474CSVE', r_ui=5.0, est=4.981812418491697, details={'actual_k': 5, 'was_impossible': False}),\n",
       " Prediction(uid='AB2VP1VUYLEH9', iid='B0012V1G0Y', r_ui=3.0, est=3.017238133656044, details={'actual_k': 1, 'was_impossible': False}),\n",
       " Prediction(uid='A3PZ4AXTY9J1DZ', iid='B0012XBCZQ', r_ui=5.0, est=5, details={'actual_k': 5, 'was_impossible': False}),\n",
       " Prediction(uid='A3CPCQK3TB954C', iid='B008JKTH2A', r_ui=5.0, est=5, details={'actual_k': 4, 'was_impossible': False}),\n",
       " Prediction(uid='A3VEDVQGMBZ0HM', iid='B003YV46WK', r_ui=5.0, est=4.825368367670291, details={'actual_k': 5, 'was_impossible': False}),\n",
       " Prediction(uid='A2D1LPEUCTNT8X', iid='B003VXL0V6', r_ui=3.0, est=2.977379140611959, details={'actual_k': 5, 'was_impossible': False}),\n",
       " Prediction(uid='A2LF9A2RK5OSS1', iid='B002YJ0118', r_ui=5.0, est=5, details={'actual_k': 2, 'was_impossible': False}),\n",
       " Prediction(uid='A3LVTATM6TO27B', iid='B0044CPA28', r_ui=5.0, est=3.9670290385236346, details={'actual_k': 3, 'was_impossible': False}),\n",
       " Prediction(uid='A294154CGM7J9T', iid='B003AZ2ECY', r_ui=3.0, est=3.136709475578141, details={'actual_k': 3, 'was_impossible': False}),\n",
       " Prediction(uid='A3GEUOAWZTS448', iid='B0000DID5R', r_ui=5.0, est=4.169958337495666, details={'was_impossible': True, 'reason': 'User and/or item is unknown.'}),\n",
       " Prediction(uid='A3LHFJBWYOLWW9', iid='B000EGZ2L2', r_ui=5.0, est=4.764705882352941, details={'actual_k': 1, 'was_impossible': False}),\n",
       " Prediction(uid='A1GV5EZGAF3U37', iid='B000NBQUNW', r_ui=5.0, est=4.169958337495666, details={'was_impossible': True, 'reason': 'User and/or item is unknown.'}),\n",
       " Prediction(uid='A31ASDA3Z5BCYZ', iid='B000AYFATW', r_ui=5.0, est=5, details={'actual_k': 5, 'was_impossible': False}),\n",
       " Prediction(uid='A3W1H0DC7KMRU6', iid='B005QRPGQU', r_ui=4.0, est=3.956141200133372, details={'actual_k': 2, 'was_impossible': False}),\n",
       " Prediction(uid='A31AVXMESQRQAC', iid='B006MONQMC', r_ui=3.0, est=3.6192276598715782, details={'actual_k': 3, 'was_impossible': False}),\n",
       " Prediction(uid='A34NM4QLI46S8F', iid='B008JKTH2A', r_ui=3.0, est=3.0462035775203784, details={'actual_k': 5, 'was_impossible': False}),\n",
       " Prediction(uid='A25PTY4UXIXRSI', iid='B0013A0QXC', r_ui=4.0, est=4.529244753208395, details={'actual_k': 2, 'was_impossible': False}),\n",
       " Prediction(uid='ALQMTLYEC4XGR', iid='B006GA666U', r_ui=4.0, est=4.084610418220846, details={'actual_k': 3, 'was_impossible': False}),\n",
       " Prediction(uid='A3QCXB5BNM91ZC', iid='B00305L330', r_ui=5.0, est=4.997197338781497, details={'actual_k': 1, 'was_impossible': False}),\n",
       " Prediction(uid='A1ADY5NJ7V77KX', iid='B0083T6HC0', r_ui=2.0, est=4.169958337495666, details={'was_impossible': True, 'reason': 'User and/or item is unknown.'}),\n",
       " Prediction(uid='A3LSMD3EYK6HFR', iid='B000H0ZJHW', r_ui=5.0, est=5, details={'actual_k': 2, 'was_impossible': False}),\n",
       " Prediction(uid='AJMH1S1H2GUQC', iid='B000FMZO90', r_ui=5.0, est=5, details={'actual_k': 1, 'was_impossible': False}),\n",
       " Prediction(uid='A1HAJ7HW5R7HNB', iid='B001HTJ2BQ', r_ui=1.0, est=4.169958337495666, details={'was_impossible': True, 'reason': 'User and/or item is unknown.'}),\n",
       " Prediction(uid='A34O6S71SPJNK0', iid='B001D0KG4Q', r_ui=3.0, est=4.169958337495666, details={'was_impossible': True, 'reason': 'User and/or item is unknown.'}),\n",
       " Prediction(uid='A2VI0FVRXVL5IZ', iid='B002AQ0OW6', r_ui=4.0, est=4.169958337495666, details={'was_impossible': True, 'reason': 'User and/or item is unknown.'}),\n",
       " Prediction(uid='A26YLEA768A9KE', iid='B0026KPDG8', r_ui=5.0, est=4.977147765091495, details={'actual_k': 5, 'was_impossible': False}),\n",
       " Prediction(uid='A13WA3SCM778LO', iid='B002ZF06JI', r_ui=5.0, est=4.169958337495666, details={'was_impossible': True, 'reason': 'User and/or item is unknown.'}),\n",
       " Prediction(uid='A3HI6N7GG4B2SW', iid='B0030VJA7K', r_ui=5.0, est=4.974272523932464, details={'actual_k': 5, 'was_impossible': False}),\n",
       " Prediction(uid='A3HBVVZCMJPPX4', iid='B000ENUC3S', r_ui=5.0, est=4.992739768129948, details={'actual_k': 2, 'was_impossible': False}),\n",
       " Prediction(uid='A16AXQ11SZA8SQ', iid='B001LG940E', r_ui=2.0, est=4.291012946086813, details={'actual_k': 5, 'was_impossible': False}),\n",
       " Prediction(uid='A32C3JZ8S2DKT0', iid='B002LN1ME2', r_ui=4.0, est=3.985803853977815, details={'actual_k': 5, 'was_impossible': False}),\n",
       " Prediction(uid='A1C9CBBTVEMFG', iid='B000FVDWU4', r_ui=4.0, est=4.026694222064316, details={'actual_k': 5, 'was_impossible': False}),\n",
       " Prediction(uid='A34L56OBU2TZ5W', iid='B000PGE032', r_ui=2.0, est=2.0, details={'actual_k': 0, 'was_impossible': False}),\n",
       " Prediction(uid='A29UDHP1O4ACV6', iid='B0083QJU72', r_ui=3.0, est=4.169958337495666, details={'was_impossible': True, 'reason': 'User and/or item is unknown.'}),\n",
       " Prediction(uid='A3R78R6IT63KUV', iid='B002GKEK7G', r_ui=5.0, est=5, details={'actual_k': 1, 'was_impossible': False}),\n",
       " Prediction(uid='ANKQGTXHREOI5', iid='B0041NYV8E', r_ui=1.0, est=3.5996222555873567, details={'actual_k': 3, 'was_impossible': False}),\n",
       " Prediction(uid='A2215NTENBSLAP', iid='B006H34CUS', r_ui=3.0, est=4.169958337495666, details={'was_impossible': True, 'reason': 'User and/or item is unknown.'}),\n",
       " Prediction(uid='A2R4VQ631HT8EL', iid='B001BM3C0Q', r_ui=5.0, est=5, details={'actual_k': 5, 'was_impossible': False}),\n",
       " Prediction(uid='A3W1130KUXGUDQ', iid='B001BCVY9W', r_ui=5.0, est=5, details={'actual_k': 2, 'was_impossible': False}),\n",
       " Prediction(uid='A154WZN2JKW6WV', iid='B0018KNGDY', r_ui=2.0, est=1.8309224107204096, details={'actual_k': 2, 'was_impossible': False}),\n",
       " Prediction(uid='A3QDXFO3B9YU7C', iid='B000KKQNJM', r_ui=1.0, est=4.169958337495666, details={'was_impossible': True, 'reason': 'User and/or item is unknown.'}),\n",
       " Prediction(uid='AY8VHSO8K2D2R', iid='B001BM4RC8', r_ui=3.0, est=2.989382985620048, details={'actual_k': 5, 'was_impossible': False}),\n",
       " Prediction(uid='A1AOFJ3LV4DYU8', iid='B007I7Z3Z0', r_ui=1.0, est=1.033736559139785, details={'actual_k': 1, 'was_impossible': False}),\n",
       " Prediction(uid='AU35VFWPTGEC5', iid='B001NXM3GM', r_ui=5.0, est=4.90566037735849, details={'actual_k': 1, 'was_impossible': False}),\n",
       " Prediction(uid='A24WC8YRR3HTOJ', iid='B000084EZ4', r_ui=5.0, est=4.988381833710258, details={'actual_k': 5, 'was_impossible': False}),\n",
       " Prediction(uid='A2NA4NHE5QRLZ7', iid='B001BDDT8K', r_ui=5.0, est=4.986053441226744, details={'actual_k': 4, 'was_impossible': False}),\n",
       " Prediction(uid='A2X06FP2PQ6EK0', iid='B007JFXWRC', r_ui=5.0, est=3.858547766829295, details={'actual_k': 2, 'was_impossible': False}),\n",
       " Prediction(uid='A2SB0OKNB1ODN5', iid='B003YK8YL0', r_ui=5.0, est=4.478063755484956, details={'actual_k': 5, 'was_impossible': False}),\n",
       " Prediction(uid='A176ZYRYOUNNWO', iid='B0029XLH4Y', r_ui=5.0, est=4.989197843426598, details={'actual_k': 1, 'was_impossible': False}),\n",
       " Prediction(uid='A2SZLNSI5KOQJT', iid='B004FGWU9O', r_ui=4.0, est=3.6675053364484587, details={'actual_k': 5, 'was_impossible': False}),\n",
       " Prediction(uid='A17IPYEFYEKWPV', iid='B000CRIBCA', r_ui=1.0, est=4.169958337495666, details={'was_impossible': True, 'reason': 'User and/or item is unknown.'}),\n",
       " Prediction(uid='ABAHKMFEHT8K1', iid='B000WB1YSE', r_ui=5.0, est=4.256637168141593, details={'actual_k': 0, 'was_impossible': False}),\n",
       " Prediction(uid='A11UO96AKBCGSZ', iid='B008AV5HLS', r_ui=5.0, est=4.953242835595777, details={'actual_k': 1, 'was_impossible': False}),\n",
       " Prediction(uid='A1XFTCY4VJ3GZ5', iid='B005NYXE1K', r_ui=5.0, est=3.8780487804878048, details={'actual_k': 0, 'was_impossible': False}),\n",
       " Prediction(uid='A11UABHVK7EMDG', iid='B005K4Q1YA', r_ui=5.0, est=4.9492051992922725, details={'actual_k': 1, 'was_impossible': False}),\n",
       " Prediction(uid='A3RJXPM2K47F5O', iid='B007GYQ6LA', r_ui=5.0, est=4.8868717964862345, details={'actual_k': 4, 'was_impossible': False}),\n",
       " Prediction(uid='A2H554GDDVKFRY', iid='B000DZFMEQ', r_ui=5.0, est=4.169958337495666, details={'was_impossible': True, 'reason': 'User and/or item is unknown.'}),\n",
       " Prediction(uid='AVU1ILDDYW301', iid='B0041CIP3M', r_ui=3.0, est=2.99497963692006, details={'actual_k': 2, 'was_impossible': False}),\n",
       " Prediction(uid='A1FWN2M4XLL6RP', iid='B000WFN0VO', r_ui=3.0, est=4.645444009297898, details={'actual_k': 5, 'was_impossible': False}),\n",
       " Prediction(uid='AQQ79QLD9K4OF', iid='B003TC7WN4', r_ui=5.0, est=5, details={'actual_k': 5, 'was_impossible': False}),\n",
       " Prediction(uid='A1WQPBZ82V8PDV', iid='B004EAGP74', r_ui=5.0, est=4.973715409694717, details={'actual_k': 1, 'was_impossible': False}),\n",
       " Prediction(uid='A3TS9FRMZSFQIP', iid='B000FNH1C2', r_ui=5.0, est=5, details={'actual_k': 4, 'was_impossible': False}),\n",
       " Prediction(uid='A14DUMGIQH8J1J', iid='B00507A02Q', r_ui=1.0, est=4.169958337495666, details={'was_impossible': True, 'reason': 'User and/or item is unknown.'}),\n",
       " Prediction(uid='ACMC30JYAZ5Z9', iid='B000LL0R92', r_ui=4.0, est=4.169958337495666, details={'was_impossible': True, 'reason': 'User and/or item is unknown.'}),\n",
       " Prediction(uid='A3IYU31RZVWLXG', iid='B000OQ2DL4', r_ui=5.0, est=4.995962663011049, details={'actual_k': 5, 'was_impossible': False}),\n",
       " Prediction(uid='A2W16M29JPW14S', iid='B001AG6BMO', r_ui=5.0, est=4.912437810945273, details={'actual_k': 1, 'was_impossible': False}),\n",
       " Prediction(uid='A3FNJYL0MJLCI3', iid='B001ELL9GI', r_ui=5.0, est=4.169958337495666, details={'was_impossible': True, 'reason': 'User and/or item is unknown.'}),\n",
       " Prediction(uid='A3OTDZL80FBKMG', iid='B006N3HZ6K', r_ui=4.0, est=3.989192504744513, details={'actual_k': 3, 'was_impossible': False}),\n",
       " Prediction(uid='AUK9D8R1FDX0F', iid='B000ER6ZRG', r_ui=1.0, est=1.1221532091097308, details={'actual_k': 1, 'was_impossible': False}),\n",
       " Prediction(uid='A1NCCYZ93D52YP', iid='B003CK7O36', r_ui=5.0, est=4.989032902179786, details={'actual_k': 5, 'was_impossible': False}),\n",
       " Prediction(uid='A3LW6DH24IG1M7', iid='B000LKZ3GA', r_ui=4.0, est=4.169958337495666, details={'was_impossible': True, 'reason': 'User and/or item is unknown.'}),\n",
       " Prediction(uid='A3M7LBFU4FDGG6', iid='B000H1217M', r_ui=5.0, est=5, details={'actual_k': 2, 'was_impossible': False}),\n",
       " Prediction(uid='A11FX8HL2ANK6T', iid='B0012Y0HA6', r_ui=3.0, est=4.169958337495666, details={'was_impossible': True, 'reason': 'User and/or item is unknown.'}),\n",
       " Prediction(uid='A274DU680TVU8J', iid='B001LUM1ZU', r_ui=1.0, est=4.169958337495666, details={'was_impossible': True, 'reason': 'User and/or item is unknown.'}),\n",
       " Prediction(uid='A37TH0XW4LBPXY', iid='B0006Z7NOK', r_ui=5.0, est=4.169958337495666, details={'was_impossible': True, 'reason': 'User and/or item is unknown.'}),\n",
       " Prediction(uid='AIZ5BCIQYT376', iid='B0081X097M', r_ui=3.0, est=2.8670329670329675, details={'actual_k': 1, 'was_impossible': False}),\n",
       " Prediction(uid='A2TO2BN3P4C00L', iid='B0043WOANY', r_ui=3.0, est=3.0278383419382306, details={'actual_k': 3, 'was_impossible': False}),\n",
       " Prediction(uid='A3O0VDZUOJPZWX', iid='B000FPM22O', r_ui=5.0, est=5, details={'actual_k': 5, 'was_impossible': False}),\n",
       " Prediction(uid='A3UYI4TLP841UJ', iid='B000ETGBN2', r_ui=5.0, est=5, details={'actual_k': 4, 'was_impossible': False}),\n",
       " Prediction(uid='A1MFVAHTT2BHM0', iid='B002R81L92', r_ui=5.0, est=4.169958337495666, details={'was_impossible': True, 'reason': 'User and/or item is unknown.'}),\n",
       " Prediction(uid='A2GOTW3U8IIR7J', iid='B000CQBZV0', r_ui=5.0, est=5, details={'actual_k': 5, 'was_impossible': False}),\n",
       " Prediction(uid='A3J8R504RZ1DJT', iid='B001E5DRBO', r_ui=5.0, est=4.169958337495666, details={'was_impossible': True, 'reason': 'User and/or item is unknown.'}),\n",
       " Prediction(uid='AQIBFWWA8UWKF', iid='B007I7YZJK', r_ui=3.0, est=3.6520305142614955, details={'actual_k': 5, 'was_impossible': False}),\n",
       " Prediction(uid='APT3TC7X7P0NZ', iid='B0039ZOZ86', r_ui=4.0, est=3.971985318740555, details={'actual_k': 3, 'was_impossible': False}),\n",
       " Prediction(uid='A3QLW8EIHRDXGA', iid='B001E5E060', r_ui=4.0, est=4.169958337495666, details={'was_impossible': True, 'reason': 'User and/or item is unknown.'}),\n",
       " Prediction(uid='A1DZ5OW6RCLHDW', iid='B000EZOKX4', r_ui=5.0, est=4.169958337495666, details={'was_impossible': True, 'reason': 'User and/or item is unknown.'}),\n",
       " Prediction(uid='A2OPTCGDRQUA38', iid='B002GJ9JY6', r_ui=5.0, est=4.989130696520919, details={'actual_k': 2, 'was_impossible': False}),\n",
       " Prediction(uid='A1QR76SYGTXJN5', iid='B005VOOM4A', r_ui=1.0, est=1, details={'actual_k': 5, 'was_impossible': False}),\n",
       " Prediction(uid='A9GLKZ3Z6AVIZ', iid='B000XEV9YE', r_ui=2.0, est=4.169958337495666, details={'was_impossible': True, 'reason': 'User and/or item is unknown.'}),\n",
       " Prediction(uid='A14JILYDUUM4L', iid='B0034EDMCW', r_ui=5.0, est=5, details={'actual_k': 3, 'was_impossible': False}),\n",
       " Prediction(uid='AY8JV2D8A80EK', iid='B000PDWBKO', r_ui=5.0, est=5, details={'actual_k': 2, 'was_impossible': False}),\n",
       " Prediction(uid='A3I93LKN51G8YX', iid='B000CQY3FK', r_ui=5.0, est=5, details={'actual_k': 2, 'was_impossible': False}),\n",
       " Prediction(uid='A3FM0G6Z0JO7NT', iid='B00112EUPM', r_ui=3.0, est=4.622950819672131, details={'actual_k': 0, 'was_impossible': False}),\n",
       " Prediction(uid='A1PZ7S1L36QRKJ', iid='B003ANFMY8', r_ui=1.0, est=1.295517391544052, details={'actual_k': 5, 'was_impossible': False}),\n",
       " Prediction(uid='A34YL36NCRLSQT', iid='B004779XNW', r_ui=5.0, est=5, details={'actual_k': 5, 'was_impossible': False}),\n",
       " Prediction(uid='A3L5FYB7O20OIO', iid='B001E5E0DI', r_ui=5.0, est=4.169958337495666, details={'was_impossible': True, 'reason': 'User and/or item is unknown.'}),\n",
       " Prediction(uid='ASLIIRP3RGES6', iid='B001KVPBS4', r_ui=4.0, est=3.959068953899222, details={'actual_k': 5, 'was_impossible': False}),\n",
       " Prediction(uid='AZWYSJ1G8KDOX', iid='B007TJGY46', r_ui=5.0, est=5, details={'actual_k': 2, 'was_impossible': False}),\n",
       " Prediction(uid='A2J831LFSPG5D1', iid='B000CR008I', r_ui=5.0, est=5, details={'actual_k': 5, 'was_impossible': False}),\n",
       " Prediction(uid='A653LLWKPWJBP', iid='B007TJGY4Q', r_ui=4.0, est=4.030545048004786, details={'actual_k': 2, 'was_impossible': False}),\n",
       " Prediction(uid='A1FBT5NC7NQZJZ', iid='B006H34CUS', r_ui=4.0, est=4.169958337495666, details={'was_impossible': True, 'reason': 'User and/or item is unknown.'}),\n",
       " Prediction(uid='A1BIRWLDIPVR44', iid='B004391DK0', r_ui=5.0, est=4.169958337495666, details={'was_impossible': True, 'reason': 'User and/or item is unknown.'}),\n",
       " Prediction(uid='A3I067ACBUAZ1P', iid='B000FMZO90', r_ui=4.0, est=5, details={'actual_k': 2, 'was_impossible': False}),\n",
       " Prediction(uid='A3REFT28XAMFVD', iid='B000PDWBKO', r_ui=5.0, est=5, details={'actual_k': 2, 'was_impossible': False}),\n",
       " Prediction(uid='A1WKOLVLOMV4OS', iid='B00139C3P2', r_ui=5.0, est=4.903204999900289, details={'actual_k': 5, 'was_impossible': False}),\n",
       " Prediction(uid='A33NN97K0NA0BO', iid='B002VLZ8D0', r_ui=5.0, est=4.169958337495666, details={'was_impossible': True, 'reason': 'User and/or item is unknown.'}),\n",
       " Prediction(uid='A134O89X79ASVA', iid='B002T0IHPO', r_ui=5.0, est=5, details={'actual_k': 5, 'was_impossible': False}),\n",
       " Prediction(uid='A2KWE2ZM1EEBGJ', iid='B005GYULZY', r_ui=4.0, est=3.994228753942903, details={'actual_k': 5, 'was_impossible': False}),\n",
       " Prediction(uid='A2XDTXRKBTNO01', iid='B000GW46D4', r_ui=4.0, est=3.9515795187571667, details={'actual_k': 4, 'was_impossible': False}),\n",
       " Prediction(uid='A19XMFA2UK6KPL', iid='B000KV61FC', r_ui=3.0, est=2.999232881136951, details={'actual_k': 1, 'was_impossible': False}),\n",
       " Prediction(uid='A39ISGPKMF9X0R', iid='B001EQ55RW', r_ui=5.0, est=3.607358483384699, details={'actual_k': 4, 'was_impossible': False}),\n",
       " Prediction(uid='A3KNIIE857AF9X', iid='B000WV153I', r_ui=5.0, est=4.169958337495666, details={'was_impossible': True, 'reason': 'User and/or item is unknown.'}),\n",
       " Prediction(uid='A1NOJ81EI6P0HX', iid='B000SATIE6', r_ui=5.0, est=4.169958337495666, details={'was_impossible': True, 'reason': 'User and/or item is unknown.'}),\n",
       " Prediction(uid='A1YTKDJE6HV7LU', iid='B000EVOQNC', r_ui=5.0, est=4.027027027027027, details={'actual_k': 0, 'was_impossible': False}),\n",
       " Prediction(uid='A3JRXG0RYYKYHR', iid='B008GRIB0A', r_ui=2.0, est=2.186623873299344, details={'actual_k': 3, 'was_impossible': False}),\n",
       " Prediction(uid='A3W4D8XOGLWUN5', iid='B002TMV3E4', r_ui=4.0, est=4.001225625274044, details={'actual_k': 5, 'was_impossible': False}),\n",
       " Prediction(uid='AU2ZFIQDTPR8T', iid='B008YA1DZE', r_ui=5.0, est=4.864451827242525, details={'actual_k': 1, 'was_impossible': False}),\n",
       " Prediction(uid='A2CKHXXPIXAG0O', iid='B002MO765O', r_ui=5.0, est=4.4576271186440675, details={'actual_k': 0, 'was_impossible': False}),\n",
       " Prediction(uid='A3C6SSXXFE1J4L', iid='B002OG1NUO', r_ui=5.0, est=4.999092483774224, details={'actual_k': 5, 'was_impossible': False}),\n",
       " Prediction(uid='A30KV7SBQJQS7A', iid='B002838YVE', r_ui=5.0, est=4.9518551182625465, details={'actual_k': 3, 'was_impossible': False}),\n",
       " Prediction(uid='AE0WN88TLIGRZ', iid='B001EQ5JLY', r_ui=4.0, est=4.169958337495666, details={'was_impossible': True, 'reason': 'User and/or item is unknown.'}),\n",
       " Prediction(uid='AHFGCH8LANEZK', iid='B001EQ55ZO', r_ui=5.0, est=2.4813360228698143, details={'actual_k': 3, 'was_impossible': False}),\n",
       " Prediction(uid='A3T421PY3APGUQ', iid='B001D0IZBW', r_ui=3.0, est=4.041666666666667, details={'actual_k': 0, 'was_impossible': False}),\n",
       " Prediction(uid='A1VBNGOWUA099V', iid='B005ZBZLT4', r_ui=4.0, est=3.968905511564583, details={'actual_k': 1, 'was_impossible': False}),\n",
       " Prediction(uid='A3ITLBABDWJ8XW', iid='B000X1Q1G8', r_ui=1.0, est=4.169958337495666, details={'was_impossible': True, 'reason': 'User and/or item is unknown.'}),\n",
       " Prediction(uid='A12OF4IM7A8YS', iid='B0058AMY10', r_ui=5.0, est=4.964455404418023, details={'actual_k': 5, 'was_impossible': False}),\n",
       " Prediction(uid='A3M2ESK4WEGOCS', iid='B003VXHGE6', r_ui=5.0, est=5, details={'actual_k': 5, 'was_impossible': False}),\n",
       " Prediction(uid='AJV2QY96IVPVM', iid='B000KV7ZGQ', r_ui=4.0, est=2.7275297619047616, details={'actual_k': 1, 'was_impossible': False}),\n",
       " Prediction(uid='A11PZJGWQC5L4L', iid='B000CQY3FK', r_ui=5.0, est=5, details={'actual_k': 5, 'was_impossible': False}),\n",
       " Prediction(uid='A2JFHMA59G55MJ', iid='B000LKXBL4', r_ui=5.0, est=4.95885810253565, details={'actual_k': 5, 'was_impossible': False}),\n",
       " Prediction(uid='A2FNQNWFC2H0SK', iid='B001GINOQC', r_ui=5.0, est=5, details={'actual_k': 3, 'was_impossible': False}),\n",
       " Prediction(uid='A1OTYNNEAR5LV1', iid='B0027Z8VES', r_ui=4.0, est=4.169958337495666, details={'was_impossible': True, 'reason': 'User and/or item is unknown.'}),\n",
       " Prediction(uid='A3QW76QWJZBXIG', iid='B001T4UMM2', r_ui=4.0, est=4.169958337495666, details={'was_impossible': True, 'reason': 'User and/or item is unknown.'}),\n",
       " Prediction(uid='AOGOBRFZ40WFO', iid='B002GWFA1Y', r_ui=5.0, est=4.169958337495666, details={'was_impossible': True, 'reason': 'User and/or item is unknown.'}),\n",
       " Prediction(uid='A2ELYF8POXKV1G', iid='B001OCBT3U', r_ui=5.0, est=3.990566037735849, details={'actual_k': 0, 'was_impossible': False}),\n",
       " ...]"
      ]
     },
     "execution_count": 40,
     "metadata": {},
     "output_type": "execute_result"
    }
   ],
   "source": [
    "test_pred"
   ]
  },
  {
   "cell_type": "markdown",
   "id": "b188cc52-2e98-4a23-af53-c8bb16ade35d",
   "metadata": {},
   "source": [
    "####  Root Mean Squared Error"
   ]
  },
  {
   "cell_type": "code",
   "execution_count": 41,
   "id": "e9a71735-12c1-465f-ab8e-da3f0ad4409a",
   "metadata": {},
   "outputs": [
    {
     "name": "stdout",
     "output_type": "stream",
     "text": [
      "Item-based Model : Test Set\n",
      "RMSE: 0.7600\n"
     ]
    },
    {
     "data": {
      "text/plain": [
       "0.7600334634912401"
      ]
     },
     "execution_count": 41,
     "metadata": {},
     "output_type": "execute_result"
    }
   ],
   "source": [
    "# get RMSE\n",
    "print(\"Item-based Model : Test Set\")\n",
    "accuracy.rmse(test_pred, verbose=True)"
   ]
  },
  {
   "cell_type": "code",
   "execution_count": null,
   "id": "b626eb2d-1cad-434c-bbca-11c6ae82ce35",
   "metadata": {},
   "outputs": [],
   "source": []
  }
 ],
 "metadata": {
  "kernelspec": {
   "display_name": "Python 3 (ipykernel)",
   "language": "python",
   "name": "python3"
  },
  "language_info": {
   "codemirror_mode": {
    "name": "ipython",
    "version": 3
   },
   "file_extension": ".py",
   "mimetype": "text/x-python",
   "name": "python",
   "nbconvert_exporter": "python",
   "pygments_lexer": "ipython3",
   "version": "3.10.12"
  }
 },
 "nbformat": 4,
 "nbformat_minor": 5
}
